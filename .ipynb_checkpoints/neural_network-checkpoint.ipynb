{
 "cells": [
  {
   "cell_type": "code",
   "execution_count": 150,
   "metadata": {},
   "outputs": [],
   "source": [
    "import pickle\n",
    "import gzip\n",
    "import pandas as pd\n",
    "from matplotlib import pyplot as plt\n",
    "from PIL import Image\n",
    "import os\n",
    "import numpy as np\n",
    "np.random.seed(666)\n",
    "\n",
    "from tensorflow import set_random_seed\n",
    "set_random_seed(125)\n",
    "\n",
    "from keras.models import Sequential\n",
    "from keras.layers import Dense, Activation, Dropout\n",
    "from keras.callbacks import EarlyStopping, TensorBoard\n",
    "from keras.utils import np_utils\n",
    "from sklearn.model_selection import train_test_split\n",
    "from keras.utils import to_categorical\n",
    "from sklearn.metrics import confusion_matrix\n",
    "\n",
    "from keras.datasets import mnist\n",
    "import keras\n",
    "\n",
    "from keras.layers import Conv2D,MaxPooling2D,Flatten\n"
   ]
  },
  {
   "cell_type": "code",
   "execution_count": 153,
   "metadata": {},
   "outputs": [],
   "source": [
    "(train_data, train_target), (test_data, test_target) = mnist.load_data()"
   ]
  },
  {
   "cell_type": "code",
   "execution_count": 13,
   "metadata": {},
   "outputs": [],
   "source": [
    "num_classes=10\n",
    "image_vector_size=28*28"
   ]
  },
  {
   "cell_type": "code",
   "execution_count": 16,
   "metadata": {},
   "outputs": [],
   "source": [
    "train_data = x_train.reshape(train_data.shape[0], image_vector_size)\n",
    "test_data = x_test.reshape(test_data.shape[0], image_vector_size)\n",
    "train_target = keras.utils.to_categorical(train_target, num_classes)\n",
    "test_target = keras.utils.to_categorical(test_target, num_classes)"
   ]
  },
  {
   "cell_type": "code",
   "execution_count": 172,
   "metadata": {},
   "outputs": [],
   "source": [
    "def baseline():\n",
    "    model = Sequential()\n",
    "    model.add(Dense(units=32, activation='sigmoid', input_shape=(image_vector_size,)))\n",
    "    model.add(Dense(units=num_classes, activation='softmax'))\n",
    "    model.compile(optimizer='sgd', loss='categorical_crossentropy',metrics=['accuracy'])\n",
    "    model.summary()\n",
    "    return model\n",
    "\n",
    "def highHidden():\n",
    "    drop_out = 0.1\n",
    "    model = Sequential()\n",
    "    model.add(Dense(units=32,activation='sigmoid',input_shape=(image_vector_size,)))\n",
    "    model.add(Activation('tanh'))\n",
    "    model.add(Dense(128, input_dim=image_vector_size))\n",
    "    model.add(Activation('relu'))\n",
    "    model.add(Dropout(drop_out))\n",
    "    model.add(Dense(128, input_dim=image_vector_size))\n",
    "    model.add(Dense(units=num_classes, activation='softmax'))\n",
    "\n",
    "    \n",
    "    model.compile(optimizer='adam', loss='categorical_crossentropy',metrics=['accuracy'])    \n",
    "    model.summary()\n",
    "    return model\n",
    "\n",
    "def conv():\n",
    "    model = Sequential()\n",
    "    model.add(Conv2D(32, kernel_size=(5, 5), strides=(1, 1),activation='sigmoid',input_shape=input_shape)))\n",
    "    model.add(MaxPooling2D(pool_size=(2, 2), strides=(2, 2)))\n",
    "    model.add(Conv2D(64, (5, 5), activation='relu'))\n",
    "    model.add(MaxPooling2D(pool_size=(2, 2)))\n",
    "    model.add(Flatten())\n",
    "    model.add(Dense(1000, activation='relu'))\n",
    "    model.add(Dense(num_classes, activation='softmax'))\n",
    "    model.compile(optimizer='adam', loss='categorical_crossentropy',metrics=['accuracy'])\n",
    "    model.summary()\n",
    "    return model"
   ]
  },
  {
   "cell_type": "code",
   "execution_count": 175,
   "metadata": {},
   "outputs": [
    {
     "name": "stdout",
     "output_type": "stream",
     "text": [
      "x_train shape: (60000, 28, 28, 1)\n",
      "60000 train samples\n",
      "10000 test samples\n"
     ]
    }
   ],
   "source": [
    "img_x, img_y = 28, 28\n",
    "(x_train, y_train), (x_test, y_test) = mnist.load_data()\n",
    "x_train = x_train.reshape(x_train.shape[0], img_x, img_y, 1)\n",
    "x_test = x_test.reshape(x_test.shape[0], img_x, img_y, 1)\n",
    "input_shape = (img_x, img_y, 1)\n",
    "\n",
    "# convert the data to the right type\n",
    "x_train = x_train.astype('float32')\n",
    "x_test = x_test.astype('float32')\n",
    "x_train /= 255\n",
    "x_test /= 255\n",
    "print('x_train shape:', x_train.shape)\n",
    "print(x_train.shape[0], 'train samples')\n",
    "print(x_test.shape[0], 'test samples')\n"
   ]
  },
  {
   "cell_type": "code",
   "execution_count": 173,
   "metadata": {},
   "outputs": [
    {
     "ename": "ValueError",
     "evalue": "This model has never been called, thus its weights have not yet been created, so no summary can be displayed. Build the model first (e.g. by calling it on some test data).",
     "output_type": "error",
     "traceback": [
      "\u001b[0;31m---------------------------------------------------------------------------\u001b[0m",
      "\u001b[0;31mValueError\u001b[0m                                Traceback (most recent call last)",
      "\u001b[0;32m<ipython-input-173-ff47b6ddaa4a>\u001b[0m in \u001b[0;36m<module>\u001b[0;34m()\u001b[0m\n\u001b[0;32m----> 1\u001b[0;31m \u001b[0mmodel\u001b[0m \u001b[0;34m=\u001b[0m \u001b[0mconv\u001b[0m\u001b[0;34m(\u001b[0m\u001b[0;34m)\u001b[0m\u001b[0;34m\u001b[0m\u001b[0m\n\u001b[0m",
      "\u001b[0;32m<ipython-input-172-76a47d8b8780>\u001b[0m in \u001b[0;36mconv\u001b[0;34m()\u001b[0m\n\u001b[1;32m     33\u001b[0m     \u001b[0mmodel\u001b[0m\u001b[0;34m.\u001b[0m\u001b[0madd\u001b[0m\u001b[0;34m(\u001b[0m\u001b[0mDense\u001b[0m\u001b[0;34m(\u001b[0m\u001b[0mnum_classes\u001b[0m\u001b[0;34m,\u001b[0m \u001b[0mactivation\u001b[0m\u001b[0;34m=\u001b[0m\u001b[0;34m'softmax'\u001b[0m\u001b[0;34m)\u001b[0m\u001b[0;34m)\u001b[0m\u001b[0;34m\u001b[0m\u001b[0m\n\u001b[1;32m     34\u001b[0m     \u001b[0mmodel\u001b[0m\u001b[0;34m.\u001b[0m\u001b[0mcompile\u001b[0m\u001b[0;34m(\u001b[0m\u001b[0moptimizer\u001b[0m\u001b[0;34m=\u001b[0m\u001b[0;34m'adam'\u001b[0m\u001b[0;34m,\u001b[0m \u001b[0mloss\u001b[0m\u001b[0;34m=\u001b[0m\u001b[0;34m'categorical_crossentropy'\u001b[0m\u001b[0;34m,\u001b[0m\u001b[0mmetrics\u001b[0m\u001b[0;34m=\u001b[0m\u001b[0;34m[\u001b[0m\u001b[0;34m'accuracy'\u001b[0m\u001b[0;34m]\u001b[0m\u001b[0;34m)\u001b[0m\u001b[0;34m\u001b[0m\u001b[0m\n\u001b[0;32m---> 35\u001b[0;31m     \u001b[0mmodel\u001b[0m\u001b[0;34m.\u001b[0m\u001b[0msummary\u001b[0m\u001b[0;34m(\u001b[0m\u001b[0;34m)\u001b[0m\u001b[0;34m\u001b[0m\u001b[0m\n\u001b[0m\u001b[1;32m     36\u001b[0m     \u001b[0;32mreturn\u001b[0m \u001b[0mmodel\u001b[0m\u001b[0;34m\u001b[0m\u001b[0m\n",
      "\u001b[0;32m~/anaconda3/envs/tensorflow/lib/python3.6/site-packages/keras/engine/network.py\u001b[0m in \u001b[0;36msummary\u001b[0;34m(self, line_length, positions, print_fn)\u001b[0m\n\u001b[1;32m   1245\u001b[0m         \u001b[0;32mif\u001b[0m \u001b[0;32mnot\u001b[0m \u001b[0mself\u001b[0m\u001b[0;34m.\u001b[0m\u001b[0mbuilt\u001b[0m\u001b[0;34m:\u001b[0m\u001b[0;34m\u001b[0m\u001b[0m\n\u001b[1;32m   1246\u001b[0m             raise ValueError(\n\u001b[0;32m-> 1247\u001b[0;31m                 \u001b[0;34m'This model has never been called, thus its weights '\u001b[0m\u001b[0;34m\u001b[0m\u001b[0m\n\u001b[0m\u001b[1;32m   1248\u001b[0m                 \u001b[0;34m'have not yet been created, so no summary can be displayed. '\u001b[0m\u001b[0;34m\u001b[0m\u001b[0m\n\u001b[1;32m   1249\u001b[0m                 \u001b[0;34m'Build the model first '\u001b[0m\u001b[0;34m\u001b[0m\u001b[0m\n",
      "\u001b[0;31mValueError\u001b[0m: This model has never been called, thus its weights have not yet been created, so no summary can be displayed. Build the model first (e.g. by calling it on some test data)."
     ]
    }
   ],
   "source": [
    "model = conv()"
   ]
  },
  {
   "cell_type": "code",
   "execution_count": 174,
   "metadata": {},
   "outputs": [
    {
     "ename": "ValueError",
     "evalue": "Error when checking input: expected conv2d_19_input to have 4 dimensions, but got array with shape (60000, 28, 28)",
     "output_type": "error",
     "traceback": [
      "\u001b[0;31m---------------------------------------------------------------------------\u001b[0m",
      "\u001b[0;31mValueError\u001b[0m                                Traceback (most recent call last)",
      "\u001b[0;32m<ipython-input-174-36412418e54d>\u001b[0m in \u001b[0;36m<module>\u001b[0;34m()\u001b[0m\n\u001b[0;32m----> 1\u001b[0;31m \u001b[0mhistory\u001b[0m \u001b[0;34m=\u001b[0m \u001b[0mmodel\u001b[0m\u001b[0;34m.\u001b[0m\u001b[0mfit\u001b[0m\u001b[0;34m(\u001b[0m\u001b[0mtrain_data\u001b[0m\u001b[0;34m,\u001b[0m \u001b[0mtrain_target\u001b[0m\u001b[0;34m,\u001b[0m \u001b[0mbatch_size\u001b[0m\u001b[0;34m=\u001b[0m\u001b[0;36m1024\u001b[0m\u001b[0;34m,\u001b[0m \u001b[0mepochs\u001b[0m\u001b[0;34m=\u001b[0m\u001b[0;36m150\u001b[0m\u001b[0;34m,\u001b[0m\u001b[0mverbose\u001b[0m\u001b[0;34m=\u001b[0m\u001b[0;32mTrue\u001b[0m\u001b[0;34m,\u001b[0m\u001b[0mvalidation_split\u001b[0m\u001b[0;34m=\u001b[0m\u001b[0;36m.1\u001b[0m\u001b[0;34m)\u001b[0m\u001b[0;34m\u001b[0m\u001b[0m\n\u001b[0m",
      "\u001b[0;32m~/anaconda3/envs/tensorflow/lib/python3.6/site-packages/keras/engine/training.py\u001b[0m in \u001b[0;36mfit\u001b[0;34m(self, x, y, batch_size, epochs, verbose, callbacks, validation_split, validation_data, shuffle, class_weight, sample_weight, initial_epoch, steps_per_epoch, validation_steps, **kwargs)\u001b[0m\n\u001b[1;32m    948\u001b[0m             \u001b[0msample_weight\u001b[0m\u001b[0;34m=\u001b[0m\u001b[0msample_weight\u001b[0m\u001b[0;34m,\u001b[0m\u001b[0;34m\u001b[0m\u001b[0m\n\u001b[1;32m    949\u001b[0m             \u001b[0mclass_weight\u001b[0m\u001b[0;34m=\u001b[0m\u001b[0mclass_weight\u001b[0m\u001b[0;34m,\u001b[0m\u001b[0;34m\u001b[0m\u001b[0m\n\u001b[0;32m--> 950\u001b[0;31m             batch_size=batch_size)\n\u001b[0m\u001b[1;32m    951\u001b[0m         \u001b[0;31m# Prepare validation data.\u001b[0m\u001b[0;34m\u001b[0m\u001b[0;34m\u001b[0m\u001b[0m\n\u001b[1;32m    952\u001b[0m         \u001b[0mdo_validation\u001b[0m \u001b[0;34m=\u001b[0m \u001b[0;32mFalse\u001b[0m\u001b[0;34m\u001b[0m\u001b[0m\n",
      "\u001b[0;32m~/anaconda3/envs/tensorflow/lib/python3.6/site-packages/keras/engine/training.py\u001b[0m in \u001b[0;36m_standardize_user_data\u001b[0;34m(self, x, y, sample_weight, class_weight, check_array_lengths, batch_size)\u001b[0m\n\u001b[1;32m    747\u001b[0m             \u001b[0mfeed_input_shapes\u001b[0m\u001b[0;34m,\u001b[0m\u001b[0;34m\u001b[0m\u001b[0m\n\u001b[1;32m    748\u001b[0m             \u001b[0mcheck_batch_axis\u001b[0m\u001b[0;34m=\u001b[0m\u001b[0;32mFalse\u001b[0m\u001b[0;34m,\u001b[0m  \u001b[0;31m# Don't enforce the batch size.\u001b[0m\u001b[0;34m\u001b[0m\u001b[0m\n\u001b[0;32m--> 749\u001b[0;31m             exception_prefix='input')\n\u001b[0m\u001b[1;32m    750\u001b[0m \u001b[0;34m\u001b[0m\u001b[0m\n\u001b[1;32m    751\u001b[0m         \u001b[0;32mif\u001b[0m \u001b[0my\u001b[0m \u001b[0;32mis\u001b[0m \u001b[0;32mnot\u001b[0m \u001b[0;32mNone\u001b[0m\u001b[0;34m:\u001b[0m\u001b[0;34m\u001b[0m\u001b[0m\n",
      "\u001b[0;32m~/anaconda3/envs/tensorflow/lib/python3.6/site-packages/keras/engine/training_utils.py\u001b[0m in \u001b[0;36mstandardize_input_data\u001b[0;34m(data, names, shapes, check_batch_axis, exception_prefix)\u001b[0m\n\u001b[1;32m    125\u001b[0m                         \u001b[0;34m': expected '\u001b[0m \u001b[0;34m+\u001b[0m \u001b[0mnames\u001b[0m\u001b[0;34m[\u001b[0m\u001b[0mi\u001b[0m\u001b[0;34m]\u001b[0m \u001b[0;34m+\u001b[0m \u001b[0;34m' to have '\u001b[0m \u001b[0;34m+\u001b[0m\u001b[0;34m\u001b[0m\u001b[0m\n\u001b[1;32m    126\u001b[0m                         \u001b[0mstr\u001b[0m\u001b[0;34m(\u001b[0m\u001b[0mlen\u001b[0m\u001b[0;34m(\u001b[0m\u001b[0mshape\u001b[0m\u001b[0;34m)\u001b[0m\u001b[0;34m)\u001b[0m \u001b[0;34m+\u001b[0m \u001b[0;34m' dimensions, but got array '\u001b[0m\u001b[0;34m\u001b[0m\u001b[0m\n\u001b[0;32m--> 127\u001b[0;31m                         'with shape ' + str(data_shape))\n\u001b[0m\u001b[1;32m    128\u001b[0m                 \u001b[0;32mif\u001b[0m \u001b[0;32mnot\u001b[0m \u001b[0mcheck_batch_axis\u001b[0m\u001b[0;34m:\u001b[0m\u001b[0;34m\u001b[0m\u001b[0m\n\u001b[1;32m    129\u001b[0m                     \u001b[0mdata_shape\u001b[0m \u001b[0;34m=\u001b[0m \u001b[0mdata_shape\u001b[0m\u001b[0;34m[\u001b[0m\u001b[0;36m1\u001b[0m\u001b[0;34m:\u001b[0m\u001b[0;34m]\u001b[0m\u001b[0;34m\u001b[0m\u001b[0m\n",
      "\u001b[0;31mValueError\u001b[0m: Error when checking input: expected conv2d_19_input to have 4 dimensions, but got array with shape (60000, 28, 28)"
     ]
    }
   ],
   "source": [
    "history = model.fit(train_data, train_target, batch_size=1024, epochs=150,verbose=True,validation_split=.1)"
   ]
  },
  {
   "cell_type": "code",
   "execution_count": 119,
   "metadata": {},
   "outputs": [
    {
     "name": "stdout",
     "output_type": "stream",
     "text": [
      "Train on 54000 samples, validate on 6000 samples\n",
      "Epoch 1/150\n",
      "54000/54000 [==============================] - 1s 15us/step - loss: 0.2098 - acc: 0.9413 - val_loss: 0.2198 - val_acc: 0.9362\n",
      "Epoch 2/150\n",
      "54000/54000 [==============================] - 1s 14us/step - loss: 0.2093 - acc: 0.9415 - val_loss: 0.2204 - val_acc: 0.9352\n",
      "Epoch 3/150\n",
      "54000/54000 [==============================] - 1s 13us/step - loss: 0.2092 - acc: 0.9416 - val_loss: 0.2193 - val_acc: 0.9360\n",
      "Epoch 4/150\n",
      "54000/54000 [==============================] - 1s 14us/step - loss: 0.2090 - acc: 0.9416 - val_loss: 0.2194 - val_acc: 0.9362\n",
      "Epoch 5/150\n",
      "54000/54000 [==============================] - 1s 13us/step - loss: 0.2089 - acc: 0.9416 - val_loss: 0.2196 - val_acc: 0.9358\n",
      "Epoch 6/150\n",
      "54000/54000 [==============================] - 1s 13us/step - loss: 0.2088 - acc: 0.9417 - val_loss: 0.2194 - val_acc: 0.9358\n",
      "Epoch 7/150\n",
      "54000/54000 [==============================] - 1s 14us/step - loss: 0.2086 - acc: 0.9417 - val_loss: 0.2191 - val_acc: 0.9358\n",
      "Epoch 8/150\n",
      "54000/54000 [==============================] - 1s 14us/step - loss: 0.2085 - acc: 0.9417 - val_loss: 0.2195 - val_acc: 0.9353\n",
      "Epoch 9/150\n",
      "54000/54000 [==============================] - 1s 14us/step - loss: 0.2084 - acc: 0.9417 - val_loss: 0.2194 - val_acc: 0.9355\n",
      "Epoch 10/150\n",
      "54000/54000 [==============================] - 1s 14us/step - loss: 0.2083 - acc: 0.9417 - val_loss: 0.2191 - val_acc: 0.9357\n",
      "Epoch 11/150\n",
      "54000/54000 [==============================] - 1s 14us/step - loss: 0.2082 - acc: 0.9418 - val_loss: 0.2195 - val_acc: 0.9357\n",
      "Epoch 12/150\n",
      "54000/54000 [==============================] - 1s 14us/step - loss: 0.2082 - acc: 0.9418 - val_loss: 0.2191 - val_acc: 0.9362\n",
      "Epoch 13/150\n",
      "54000/54000 [==============================] - 1s 14us/step - loss: 0.2080 - acc: 0.9418 - val_loss: 0.2195 - val_acc: 0.9355\n",
      "Epoch 14/150\n",
      "54000/54000 [==============================] - 1s 14us/step - loss: 0.2079 - acc: 0.9418 - val_loss: 0.2190 - val_acc: 0.9352\n",
      "Epoch 15/150\n",
      "54000/54000 [==============================] - 1s 14us/step - loss: 0.2079 - acc: 0.9418 - val_loss: 0.2190 - val_acc: 0.9358\n",
      "Epoch 16/150\n",
      "54000/54000 [==============================] - 1s 14us/step - loss: 0.2079 - acc: 0.9418 - val_loss: 0.2190 - val_acc: 0.9357\n",
      "Epoch 17/150\n",
      "54000/54000 [==============================] - 1s 14us/step - loss: 0.2077 - acc: 0.9418 - val_loss: 0.2187 - val_acc: 0.9362\n",
      "Epoch 18/150\n",
      "54000/54000 [==============================] - 1s 15us/step - loss: 0.2077 - acc: 0.9418 - val_loss: 0.2189 - val_acc: 0.9358\n",
      "Epoch 19/150\n",
      "54000/54000 [==============================] - 1s 15us/step - loss: 0.2077 - acc: 0.9418 - val_loss: 0.2192 - val_acc: 0.9355\n",
      "Epoch 20/150\n",
      "54000/54000 [==============================] - 1s 14us/step - loss: 0.2075 - acc: 0.9418 - val_loss: 0.2186 - val_acc: 0.9358\n",
      "Epoch 21/150\n",
      "54000/54000 [==============================] - 1s 14us/step - loss: 0.2075 - acc: 0.9417 - val_loss: 0.2191 - val_acc: 0.9355\n",
      "Epoch 22/150\n",
      "54000/54000 [==============================] - 1s 15us/step - loss: 0.2074 - acc: 0.9418 - val_loss: 0.2190 - val_acc: 0.9355\n",
      "Epoch 23/150\n",
      "54000/54000 [==============================] - 1s 14us/step - loss: 0.2073 - acc: 0.9419 - val_loss: 0.2187 - val_acc: 0.9355\n",
      "Epoch 24/150\n",
      "54000/54000 [==============================] - 1s 14us/step - loss: 0.2073 - acc: 0.9418 - val_loss: 0.2187 - val_acc: 0.9355\n",
      "Epoch 25/150\n",
      "54000/54000 [==============================] - 1s 14us/step - loss: 0.2072 - acc: 0.9418 - val_loss: 0.2186 - val_acc: 0.9355\n",
      "Epoch 26/150\n",
      "54000/54000 [==============================] - 1s 14us/step - loss: 0.2071 - acc: 0.9419 - val_loss: 0.2189 - val_acc: 0.9353\n",
      "Epoch 27/150\n",
      "54000/54000 [==============================] - 1s 14us/step - loss: 0.2070 - acc: 0.9419 - val_loss: 0.2186 - val_acc: 0.9358\n",
      "Epoch 28/150\n",
      "54000/54000 [==============================] - 1s 14us/step - loss: 0.2069 - acc: 0.9420 - val_loss: 0.2185 - val_acc: 0.9357\n",
      "Epoch 29/150\n",
      "54000/54000 [==============================] - 1s 14us/step - loss: 0.2069 - acc: 0.9419 - val_loss: 0.2184 - val_acc: 0.9355\n",
      "Epoch 30/150\n",
      "54000/54000 [==============================] - 1s 14us/step - loss: 0.2068 - acc: 0.9420 - val_loss: 0.2184 - val_acc: 0.9353\n",
      "Epoch 31/150\n",
      "54000/54000 [==============================] - 1s 14us/step - loss: 0.2067 - acc: 0.9420 - val_loss: 0.2186 - val_acc: 0.9355\n",
      "Epoch 32/150\n",
      "54000/54000 [==============================] - 1s 14us/step - loss: 0.2067 - acc: 0.9420 - val_loss: 0.2185 - val_acc: 0.9357\n",
      "Epoch 33/150\n",
      "54000/54000 [==============================] - 1s 14us/step - loss: 0.2066 - acc: 0.9420 - val_loss: 0.2184 - val_acc: 0.9357\n",
      "Epoch 34/150\n",
      "54000/54000 [==============================] - 1s 15us/step - loss: 0.2066 - acc: 0.9420 - val_loss: 0.2184 - val_acc: 0.9355\n",
      "Epoch 35/150\n",
      "54000/54000 [==============================] - 1s 14us/step - loss: 0.2065 - acc: 0.9420 - val_loss: 0.2183 - val_acc: 0.9355\n",
      "Epoch 36/150\n",
      "54000/54000 [==============================] - 1s 14us/step - loss: 0.2064 - acc: 0.9421 - val_loss: 0.2183 - val_acc: 0.9358\n",
      "Epoch 37/150\n",
      "54000/54000 [==============================] - 1s 14us/step - loss: 0.2064 - acc: 0.9421 - val_loss: 0.2184 - val_acc: 0.9358\n",
      "Epoch 38/150\n",
      "54000/54000 [==============================] - 1s 14us/step - loss: 0.2063 - acc: 0.9421 - val_loss: 0.2181 - val_acc: 0.9358\n",
      "Epoch 39/150\n",
      "54000/54000 [==============================] - 1s 14us/step - loss: 0.2063 - acc: 0.9421 - val_loss: 0.2183 - val_acc: 0.9357\n",
      "Epoch 40/150\n",
      "54000/54000 [==============================] - 1s 14us/step - loss: 0.2062 - acc: 0.9420 - val_loss: 0.2183 - val_acc: 0.9353\n",
      "Epoch 41/150\n",
      "54000/54000 [==============================] - 1s 14us/step - loss: 0.2061 - acc: 0.9421 - val_loss: 0.2180 - val_acc: 0.9355\n",
      "Epoch 42/150\n",
      "54000/54000 [==============================] - 1s 14us/step - loss: 0.2061 - acc: 0.9420 - val_loss: 0.2181 - val_acc: 0.9355\n",
      "Epoch 43/150\n",
      "54000/54000 [==============================] - 1s 14us/step - loss: 0.2060 - acc: 0.9421 - val_loss: 0.2180 - val_acc: 0.9355\n",
      "Epoch 44/150\n",
      "54000/54000 [==============================] - 1s 14us/step - loss: 0.2060 - acc: 0.9421 - val_loss: 0.2179 - val_acc: 0.9357\n",
      "Epoch 45/150\n",
      "54000/54000 [==============================] - 1s 14us/step - loss: 0.2059 - acc: 0.9421 - val_loss: 0.2180 - val_acc: 0.9355\n",
      "Epoch 46/150\n",
      "54000/54000 [==============================] - 1s 14us/step - loss: 0.2058 - acc: 0.9421 - val_loss: 0.2178 - val_acc: 0.9358\n",
      "Epoch 47/150\n",
      "54000/54000 [==============================] - 1s 14us/step - loss: 0.2058 - acc: 0.9420 - val_loss: 0.2178 - val_acc: 0.9355\n",
      "Epoch 48/150\n",
      "54000/54000 [==============================] - 1s 14us/step - loss: 0.2057 - acc: 0.9421 - val_loss: 0.2179 - val_acc: 0.9357\n",
      "Epoch 49/150\n",
      "54000/54000 [==============================] - 1s 14us/step - loss: 0.2057 - acc: 0.9421 - val_loss: 0.2179 - val_acc: 0.9350\n",
      "Epoch 50/150\n",
      "54000/54000 [==============================] - 1s 14us/step - loss: 0.2056 - acc: 0.9421 - val_loss: 0.2179 - val_acc: 0.9355\n",
      "Epoch 51/150\n",
      "54000/54000 [==============================] - 1s 15us/step - loss: 0.2056 - acc: 0.9421 - val_loss: 0.2176 - val_acc: 0.9358\n",
      "Epoch 52/150\n",
      "54000/54000 [==============================] - 1s 14us/step - loss: 0.2055 - acc: 0.9421 - val_loss: 0.2176 - val_acc: 0.9357\n",
      "Epoch 53/150\n",
      "54000/54000 [==============================] - 1s 15us/step - loss: 0.2055 - acc: 0.9422 - val_loss: 0.2177 - val_acc: 0.9353\n",
      "Epoch 54/150\n",
      "54000/54000 [==============================] - 1s 14us/step - loss: 0.2054 - acc: 0.9422 - val_loss: 0.2175 - val_acc: 0.9353\n",
      "Epoch 55/150\n",
      "54000/54000 [==============================] - 1s 14us/step - loss: 0.2054 - acc: 0.9421 - val_loss: 0.2178 - val_acc: 0.9357\n",
      "Epoch 56/150\n",
      "54000/54000 [==============================] - 1s 14us/step - loss: 0.2053 - acc: 0.9422 - val_loss: 0.2174 - val_acc: 0.9362\n",
      "Epoch 57/150\n",
      "54000/54000 [==============================] - 1s 14us/step - loss: 0.2053 - acc: 0.9422 - val_loss: 0.2176 - val_acc: 0.9358\n",
      "Epoch 58/150\n",
      "54000/54000 [==============================] - 1s 14us/step - loss: 0.2052 - acc: 0.9423 - val_loss: 0.2173 - val_acc: 0.9363\n",
      "Epoch 59/150\n"
     ]
    },
    {
     "name": "stdout",
     "output_type": "stream",
     "text": [
      "54000/54000 [==============================] - 1s 13us/step - loss: 0.2051 - acc: 0.9422 - val_loss: 0.2174 - val_acc: 0.9358\n",
      "Epoch 60/150\n",
      "54000/54000 [==============================] - 1s 13us/step - loss: 0.2051 - acc: 0.9422 - val_loss: 0.2173 - val_acc: 0.9363\n",
      "Epoch 61/150\n",
      "54000/54000 [==============================] - 1s 13us/step - loss: 0.2051 - acc: 0.9422 - val_loss: 0.2173 - val_acc: 0.9358\n",
      "Epoch 62/150\n",
      "54000/54000 [==============================] - 1s 13us/step - loss: 0.2050 - acc: 0.9422 - val_loss: 0.2174 - val_acc: 0.9360\n",
      "Epoch 63/150\n",
      "54000/54000 [==============================] - 1s 13us/step - loss: 0.2049 - acc: 0.9422 - val_loss: 0.2174 - val_acc: 0.9362\n",
      "Epoch 64/150\n",
      "54000/54000 [==============================] - 1s 13us/step - loss: 0.2049 - acc: 0.9421 - val_loss: 0.2172 - val_acc: 0.9365\n",
      "Epoch 65/150\n",
      "54000/54000 [==============================] - 1s 13us/step - loss: 0.2049 - acc: 0.9422 - val_loss: 0.2173 - val_acc: 0.9365\n",
      "Epoch 66/150\n",
      "54000/54000 [==============================] - 1s 13us/step - loss: 0.2048 - acc: 0.9422 - val_loss: 0.2172 - val_acc: 0.9362\n",
      "Epoch 67/150\n",
      "54000/54000 [==============================] - 1s 13us/step - loss: 0.2048 - acc: 0.9422 - val_loss: 0.2173 - val_acc: 0.9363\n",
      "Epoch 68/150\n",
      "54000/54000 [==============================] - 1s 13us/step - loss: 0.2047 - acc: 0.9422 - val_loss: 0.2172 - val_acc: 0.9360\n",
      "Epoch 69/150\n",
      "54000/54000 [==============================] - 1s 13us/step - loss: 0.2046 - acc: 0.9422 - val_loss: 0.2172 - val_acc: 0.9358\n",
      "Epoch 70/150\n",
      "54000/54000 [==============================] - 1s 13us/step - loss: 0.2046 - acc: 0.9422 - val_loss: 0.2170 - val_acc: 0.9360\n",
      "Epoch 71/150\n",
      "54000/54000 [==============================] - 1s 13us/step - loss: 0.2045 - acc: 0.9423 - val_loss: 0.2170 - val_acc: 0.9363\n",
      "Epoch 72/150\n",
      "54000/54000 [==============================] - 1s 13us/step - loss: 0.2045 - acc: 0.9422 - val_loss: 0.2171 - val_acc: 0.9363\n",
      "Epoch 73/150\n",
      "54000/54000 [==============================] - 1s 13us/step - loss: 0.2045 - acc: 0.9422 - val_loss: 0.2170 - val_acc: 0.9365\n",
      "Epoch 74/150\n",
      "54000/54000 [==============================] - 1s 13us/step - loss: 0.2044 - acc: 0.9423 - val_loss: 0.2169 - val_acc: 0.9365\n",
      "Epoch 75/150\n",
      "54000/54000 [==============================] - 1s 13us/step - loss: 0.2044 - acc: 0.9422 - val_loss: 0.2169 - val_acc: 0.9365\n",
      "Epoch 76/150\n",
      "54000/54000 [==============================] - 1s 13us/step - loss: 0.2043 - acc: 0.9423 - val_loss: 0.2169 - val_acc: 0.9363\n",
      "Epoch 77/150\n",
      "54000/54000 [==============================] - 1s 13us/step - loss: 0.2043 - acc: 0.9423 - val_loss: 0.2168 - val_acc: 0.9363\n",
      "Epoch 78/150\n",
      "54000/54000 [==============================] - 1s 13us/step - loss: 0.2042 - acc: 0.9423 - val_loss: 0.2167 - val_acc: 0.9367\n",
      "Epoch 79/150\n",
      "54000/54000 [==============================] - 1s 13us/step - loss: 0.2042 - acc: 0.9422 - val_loss: 0.2167 - val_acc: 0.9365\n",
      "Epoch 80/150\n",
      "54000/54000 [==============================] - 1s 13us/step - loss: 0.2041 - acc: 0.9423 - val_loss: 0.2167 - val_acc: 0.9363\n",
      "Epoch 81/150\n",
      "54000/54000 [==============================] - 1s 13us/step - loss: 0.2041 - acc: 0.9423 - val_loss: 0.2167 - val_acc: 0.9362\n",
      "Epoch 82/150\n",
      "54000/54000 [==============================] - 1s 14us/step - loss: 0.2041 - acc: 0.9423 - val_loss: 0.2169 - val_acc: 0.9363\n",
      "Epoch 83/150\n",
      "54000/54000 [==============================] - 1s 14us/step - loss: 0.2040 - acc: 0.9423 - val_loss: 0.2166 - val_acc: 0.9363\n",
      "Epoch 84/150\n",
      "54000/54000 [==============================] - 1s 17us/step - loss: 0.2040 - acc: 0.9423 - val_loss: 0.2165 - val_acc: 0.9360\n",
      "Epoch 85/150\n",
      "54000/54000 [==============================] - 1s 18us/step - loss: 0.2039 - acc: 0.9423 - val_loss: 0.2166 - val_acc: 0.9363\n",
      "Epoch 86/150\n",
      "54000/54000 [==============================] - 1s 15us/step - loss: 0.2039 - acc: 0.9423 - val_loss: 0.2164 - val_acc: 0.9362\n",
      "Epoch 87/150\n",
      "54000/54000 [==============================] - 1s 17us/step - loss: 0.2038 - acc: 0.9423 - val_loss: 0.2165 - val_acc: 0.9357\n",
      "Epoch 88/150\n",
      "54000/54000 [==============================] - 1s 15us/step - loss: 0.2038 - acc: 0.9423 - val_loss: 0.2163 - val_acc: 0.9362\n",
      "Epoch 89/150\n",
      "54000/54000 [==============================] - 1s 14us/step - loss: 0.2038 - acc: 0.9423 - val_loss: 0.2164 - val_acc: 0.9363\n",
      "Epoch 90/150\n",
      "54000/54000 [==============================] - 1s 14us/step - loss: 0.2037 - acc: 0.9424 - val_loss: 0.2162 - val_acc: 0.9365\n",
      "Epoch 91/150\n",
      "54000/54000 [==============================] - 1s 15us/step - loss: 0.2036 - acc: 0.9424 - val_loss: 0.2162 - val_acc: 0.9363\n",
      "Epoch 92/150\n",
      "54000/54000 [==============================] - 1s 15us/step - loss: 0.2036 - acc: 0.9423 - val_loss: 0.2164 - val_acc: 0.9363\n",
      "Epoch 93/150\n",
      "54000/54000 [==============================] - 1s 14us/step - loss: 0.2036 - acc: 0.9424 - val_loss: 0.2162 - val_acc: 0.9362\n",
      "Epoch 94/150\n",
      "54000/54000 [==============================] - 1s 14us/step - loss: 0.2035 - acc: 0.9424 - val_loss: 0.2160 - val_acc: 0.9362\n",
      "Epoch 95/150\n",
      "54000/54000 [==============================] - 1s 14us/step - loss: 0.2035 - acc: 0.9424 - val_loss: 0.2163 - val_acc: 0.9363\n",
      "Epoch 96/150\n",
      "54000/54000 [==============================] - 1s 14us/step - loss: 0.2034 - acc: 0.9424 - val_loss: 0.2161 - val_acc: 0.9363\n",
      "Epoch 97/150\n",
      "54000/54000 [==============================] - 1s 14us/step - loss: 0.2033 - acc: 0.9424 - val_loss: 0.2161 - val_acc: 0.9363\n",
      "Epoch 98/150\n",
      "54000/54000 [==============================] - 1s 14us/step - loss: 0.2033 - acc: 0.9424 - val_loss: 0.2159 - val_acc: 0.9363\n",
      "Epoch 99/150\n",
      "54000/54000 [==============================] - 1s 15us/step - loss: 0.2032 - acc: 0.9424 - val_loss: 0.2158 - val_acc: 0.9363\n",
      "Epoch 100/150\n",
      "54000/54000 [==============================] - 1s 14us/step - loss: 0.2032 - acc: 0.9424 - val_loss: 0.2156 - val_acc: 0.9362\n",
      "Epoch 101/150\n",
      "54000/54000 [==============================] - 1s 14us/step - loss: 0.2031 - acc: 0.9424 - val_loss: 0.2157 - val_acc: 0.9365\n",
      "Epoch 102/150\n",
      "54000/54000 [==============================] - 1s 14us/step - loss: 0.2031 - acc: 0.9423 - val_loss: 0.2159 - val_acc: 0.9365\n",
      "Epoch 103/150\n",
      "54000/54000 [==============================] - 1s 14us/step - loss: 0.2030 - acc: 0.9424 - val_loss: 0.2157 - val_acc: 0.9363\n",
      "Epoch 104/150\n",
      "54000/54000 [==============================] - 1s 14us/step - loss: 0.2030 - acc: 0.9424 - val_loss: 0.2159 - val_acc: 0.9367\n",
      "Epoch 105/150\n",
      "54000/54000 [==============================] - 1s 14us/step - loss: 0.2029 - acc: 0.9424 - val_loss: 0.2156 - val_acc: 0.9367\n",
      "Epoch 106/150\n",
      "54000/54000 [==============================] - 1s 14us/step - loss: 0.2029 - acc: 0.9425 - val_loss: 0.2154 - val_acc: 0.9367\n",
      "Epoch 107/150\n",
      "54000/54000 [==============================] - 1s 14us/step - loss: 0.2028 - acc: 0.9424 - val_loss: 0.2152 - val_acc: 0.9367\n",
      "Epoch 108/150\n",
      "54000/54000 [==============================] - 1s 14us/step - loss: 0.2028 - acc: 0.9424 - val_loss: 0.2154 - val_acc: 0.9365\n",
      "Epoch 109/150\n",
      "54000/54000 [==============================] - 1s 14us/step - loss: 0.2028 - acc: 0.9424 - val_loss: 0.2154 - val_acc: 0.9365\n",
      "Epoch 110/150\n",
      "54000/54000 [==============================] - 1s 14us/step - loss: 0.2027 - acc: 0.9424 - val_loss: 0.2151 - val_acc: 0.9368\n",
      "Epoch 111/150\n",
      "54000/54000 [==============================] - 1s 15us/step - loss: 0.2027 - acc: 0.9425 - val_loss: 0.2152 - val_acc: 0.9368\n",
      "Epoch 112/150\n",
      "54000/54000 [==============================] - 1s 16us/step - loss: 0.2027 - acc: 0.9424 - val_loss: 0.2153 - val_acc: 0.9368\n",
      "Epoch 113/150\n",
      "54000/54000 [==============================] - 1s 14us/step - loss: 0.2026 - acc: 0.9425 - val_loss: 0.2152 - val_acc: 0.9367\n",
      "Epoch 114/150\n",
      "54000/54000 [==============================] - 1s 14us/step - loss: 0.2026 - acc: 0.9424 - val_loss: 0.2152 - val_acc: 0.9367\n",
      "Epoch 115/150\n",
      "54000/54000 [==============================] - 1s 15us/step - loss: 0.2025 - acc: 0.9424 - val_loss: 0.2150 - val_acc: 0.9368\n",
      "Epoch 116/150\n",
      "54000/54000 [==============================] - 1s 14us/step - loss: 0.2025 - acc: 0.9424 - val_loss: 0.2150 - val_acc: 0.9370\n",
      "Epoch 117/150\n",
      "54000/54000 [==============================] - 1s 14us/step - loss: 0.2024 - acc: 0.9425 - val_loss: 0.2149 - val_acc: 0.9368\n"
     ]
    },
    {
     "name": "stdout",
     "output_type": "stream",
     "text": [
      "Epoch 118/150\n",
      "54000/54000 [==============================] - 1s 14us/step - loss: 0.2023 - acc: 0.9424 - val_loss: 0.2149 - val_acc: 0.9368\n",
      "Epoch 119/150\n",
      "54000/54000 [==============================] - 1s 13us/step - loss: 0.2023 - acc: 0.9425 - val_loss: 0.2150 - val_acc: 0.9363\n",
      "Epoch 120/150\n",
      "54000/54000 [==============================] - 1s 13us/step - loss: 0.2023 - acc: 0.9425 - val_loss: 0.2147 - val_acc: 0.9370\n",
      "Epoch 121/150\n",
      "54000/54000 [==============================] - 1s 13us/step - loss: 0.2022 - acc: 0.9425 - val_loss: 0.2148 - val_acc: 0.9372\n",
      "Epoch 122/150\n",
      "54000/54000 [==============================] - 1s 14us/step - loss: 0.2022 - acc: 0.9425 - val_loss: 0.2146 - val_acc: 0.9368\n",
      "Epoch 123/150\n",
      "54000/54000 [==============================] - 1s 14us/step - loss: 0.2021 - acc: 0.9425 - val_loss: 0.2148 - val_acc: 0.9367\n",
      "Epoch 124/150\n",
      "54000/54000 [==============================] - 1s 13us/step - loss: 0.2021 - acc: 0.9425 - val_loss: 0.2148 - val_acc: 0.9367\n",
      "Epoch 125/150\n",
      "54000/54000 [==============================] - 1s 14us/step - loss: 0.2020 - acc: 0.9425 - val_loss: 0.2146 - val_acc: 0.9370\n",
      "Epoch 126/150\n",
      "54000/54000 [==============================] - 1s 14us/step - loss: 0.2020 - acc: 0.9425 - val_loss: 0.2145 - val_acc: 0.9368\n",
      "Epoch 127/150\n",
      "54000/54000 [==============================] - 1s 14us/step - loss: 0.2019 - acc: 0.9425 - val_loss: 0.2145 - val_acc: 0.9372\n",
      "Epoch 128/150\n",
      "54000/54000 [==============================] - 1s 15us/step - loss: 0.2019 - acc: 0.9425 - val_loss: 0.2144 - val_acc: 0.9370\n",
      "Epoch 129/150\n",
      "54000/54000 [==============================] - 1s 14us/step - loss: 0.2019 - acc: 0.9425 - val_loss: 0.2144 - val_acc: 0.9370\n",
      "Epoch 130/150\n",
      "54000/54000 [==============================] - 1s 14us/step - loss: 0.2018 - acc: 0.9425 - val_loss: 0.2144 - val_acc: 0.9373\n",
      "Epoch 131/150\n",
      "54000/54000 [==============================] - 1s 14us/step - loss: 0.2018 - acc: 0.9425 - val_loss: 0.2144 - val_acc: 0.9373\n",
      "Epoch 132/150\n",
      "54000/54000 [==============================] - 1s 14us/step - loss: 0.2017 - acc: 0.9425 - val_loss: 0.2146 - val_acc: 0.9370\n",
      "Epoch 133/150\n",
      "54000/54000 [==============================] - 1s 14us/step - loss: 0.2017 - acc: 0.9425 - val_loss: 0.2145 - val_acc: 0.9372\n",
      "Epoch 134/150\n",
      "54000/54000 [==============================] - 1s 15us/step - loss: 0.2017 - acc: 0.9425 - val_loss: 0.2143 - val_acc: 0.9372\n",
      "Epoch 135/150\n",
      "54000/54000 [==============================] - 1s 14us/step - loss: 0.2016 - acc: 0.9425 - val_loss: 0.2144 - val_acc: 0.9373\n",
      "Epoch 136/150\n",
      "54000/54000 [==============================] - 1s 14us/step - loss: 0.2016 - acc: 0.9425 - val_loss: 0.2145 - val_acc: 0.9373\n",
      "Epoch 137/150\n",
      "54000/54000 [==============================] - 1s 15us/step - loss: 0.2015 - acc: 0.9425 - val_loss: 0.2146 - val_acc: 0.9373\n",
      "Epoch 138/150\n",
      "54000/54000 [==============================] - 1s 14us/step - loss: 0.2015 - acc: 0.9426 - val_loss: 0.2144 - val_acc: 0.9373\n",
      "Epoch 139/150\n",
      "54000/54000 [==============================] - 1s 14us/step - loss: 0.2015 - acc: 0.9426 - val_loss: 0.2142 - val_acc: 0.9375\n",
      "Epoch 140/150\n",
      "54000/54000 [==============================] - 1s 15us/step - loss: 0.2014 - acc: 0.9426 - val_loss: 0.2144 - val_acc: 0.9373\n",
      "Epoch 141/150\n",
      "54000/54000 [==============================] - 1s 14us/step - loss: 0.2014 - acc: 0.9426 - val_loss: 0.2144 - val_acc: 0.9373\n",
      "Epoch 142/150\n",
      "54000/54000 [==============================] - 1s 15us/step - loss: 0.2014 - acc: 0.9426 - val_loss: 0.2143 - val_acc: 0.9373\n",
      "Epoch 143/150\n",
      "54000/54000 [==============================] - 1s 14us/step - loss: 0.2013 - acc: 0.9426 - val_loss: 0.2143 - val_acc: 0.9373\n",
      "Epoch 144/150\n",
      "54000/54000 [==============================] - 1s 15us/step - loss: 0.2013 - acc: 0.9425 - val_loss: 0.2143 - val_acc: 0.9373\n",
      "Epoch 145/150\n",
      "54000/54000 [==============================] - 1s 15us/step - loss: 0.2013 - acc: 0.9426 - val_loss: 0.2145 - val_acc: 0.9372\n",
      "Epoch 146/150\n",
      "54000/54000 [==============================] - 1s 14us/step - loss: 0.2012 - acc: 0.9426 - val_loss: 0.2143 - val_acc: 0.9373\n",
      "Epoch 147/150\n",
      "54000/54000 [==============================] - 1s 14us/step - loss: 0.2012 - acc: 0.9426 - val_loss: 0.2143 - val_acc: 0.9372\n",
      "Epoch 148/150\n",
      "54000/54000 [==============================] - 1s 14us/step - loss: 0.2011 - acc: 0.9426 - val_loss: 0.2143 - val_acc: 0.9377\n",
      "Epoch 149/150\n",
      "54000/54000 [==============================] - 1s 14us/step - loss: 0.2011 - acc: 0.9427 - val_loss: 0.2142 - val_acc: 0.9375\n",
      "Epoch 150/150\n",
      "54000/54000 [==============================] - 1s 14us/step - loss: 0.2011 - acc: 0.9426 - val_loss: 0.2142 - val_acc: 0.9373\n"
     ]
    }
   ],
   "source": [
    "history = model.fit(train_data, train_target, batch_size=1024, epochs=150,verbose=True,validation_split=.1)"
   ]
  },
  {
   "cell_type": "code",
   "execution_count": 126,
   "metadata": {},
   "outputs": [],
   "source": [
    "loss,accuracy = model.evaluate(train_data, train_target, verbose=False)"
   ]
  },
  {
   "cell_type": "code",
   "execution_count": 127,
   "metadata": {},
   "outputs": [
    {
     "data": {
      "text/plain": [
       "0.20232762174805005"
      ]
     },
     "execution_count": 127,
     "metadata": {},
     "output_type": "execute_result"
    }
   ],
   "source": [
    "loss"
   ]
  },
  {
   "cell_type": "code",
   "execution_count": 128,
   "metadata": {},
   "outputs": [
    {
     "data": {
      "text/plain": [
       "0.9420833333333334"
      ]
     },
     "execution_count": 128,
     "metadata": {},
     "output_type": "execute_result"
    }
   ],
   "source": [
    "accuracy"
   ]
  },
  {
   "cell_type": "code",
   "execution_count": 29,
   "metadata": {},
   "outputs": [],
   "source": [
    "USPSMat  = []\n",
    "USPSTar  = []\n",
    "curPath  = '../USPSdata/Numerals'\n",
    "savedImg = []\n",
    "\n",
    "for j in range(0,10):\n",
    "    curFolderPath = curPath + '/' + str(j)\n",
    "    imgs =  os.listdir(curFolderPath)\n",
    "    for img in imgs:\n",
    "        curImg = curFolderPath + '/' + img\n",
    "        if curImg[-3:] == 'png':\n",
    "            img = Image.open(curImg,'r')\n",
    "            img = img.resize((28, 28))\n",
    "            savedImg = img\n",
    "            imgdata = (255-np.array(img.getdata()))/255\n",
    "            USPSMat.append(imgdata)\n",
    "            USPSTar.append(j)"
   ]
  },
  {
   "cell_type": "code",
   "execution_count": 37,
   "metadata": {},
   "outputs": [],
   "source": [
    "USPSTar = keras.utils.to_categorical(USPSTar, num_classes)"
   ]
  },
  {
   "cell_type": "code",
   "execution_count": 51,
   "metadata": {},
   "outputs": [
    {
     "data": {
      "text/plain": [
       "array([[0, 0, 0, ..., 0, 0, 0],\n",
       "       [0, 0, 0, ..., 0, 0, 0],\n",
       "       [0, 0, 0, ..., 0, 0, 0],\n",
       "       ...,\n",
       "       [0, 0, 0, ..., 0, 0, 0],\n",
       "       [0, 0, 0, ..., 0, 0, 0],\n",
       "       [0, 0, 0, ..., 0, 0, 0]], dtype=uint8)"
      ]
     },
     "execution_count": 51,
     "metadata": {},
     "output_type": "execute_result"
    }
   ],
   "source": [
    "train_data"
   ]
  },
  {
   "cell_type": "code",
   "execution_count": 123,
   "metadata": {},
   "outputs": [],
   "source": [
    "loss,accuracy = model.evaluate([USPSMat], USPSTar, verbose=False)"
   ]
  },
  {
   "cell_type": "code",
   "execution_count": 124,
   "metadata": {},
   "outputs": [
    {
     "data": {
      "text/plain": [
       "2.2665617669234903"
      ]
     },
     "execution_count": 124,
     "metadata": {},
     "output_type": "execute_result"
    }
   ],
   "source": [
    "loss"
   ]
  },
  {
   "cell_type": "code",
   "execution_count": 125,
   "metadata": {},
   "outputs": [
    {
     "data": {
      "text/plain": [
       "0.3525676283769485"
      ]
     },
     "execution_count": 125,
     "metadata": {},
     "output_type": "execute_result"
    }
   ],
   "source": [
    "accuracy"
   ]
  },
  {
   "cell_type": "code",
   "execution_count": null,
   "metadata": {},
   "outputs": [],
   "source": []
  }
 ],
 "metadata": {
  "kernelspec": {
   "display_name": "Python 3",
   "language": "python",
   "name": "python3"
  },
  "language_info": {
   "codemirror_mode": {
    "name": "ipython",
    "version": 3
   },
   "file_extension": ".py",
   "mimetype": "text/x-python",
   "name": "python",
   "nbconvert_exporter": "python",
   "pygments_lexer": "ipython3",
   "version": "3.6.6"
  }
 },
 "nbformat": 4,
 "nbformat_minor": 2
}
