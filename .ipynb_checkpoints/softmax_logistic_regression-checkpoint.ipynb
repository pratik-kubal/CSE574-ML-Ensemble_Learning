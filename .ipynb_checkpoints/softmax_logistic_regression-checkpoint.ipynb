{
 "cells": [
  {
   "cell_type": "code",
   "execution_count": 1,
   "metadata": {},
   "outputs": [],
   "source": [
    "import pickle\n",
    "import gzip\n",
    "import numpy as np\n",
    "import pandas as pd\n",
    "from sklearn.preprocessing import StandardScaler\n",
    "from matplotlib import pyplot as plt\n",
    "from PIL import Image\n",
    "import os\n",
    "import numpy as np\n",
    "np.random.seed(666)"
   ]
  },
  {
   "cell_type": "code",
   "execution_count": 2,
   "metadata": {},
   "outputs": [],
   "source": [
    "filename = '../mnist.pkl.gz'\n",
    "f = gzip.open(filename, 'rb')\n",
    "training_data, validation_data, test_data = pickle.load(f, encoding='latin1')\n",
    "f.close()"
   ]
  },
  {
   "cell_type": "code",
   "execution_count": 3,
   "metadata": {},
   "outputs": [],
   "source": [
    "# Functions\n",
    "def one_hot_vect(tuple_data,classes):\n",
    "    one_hot_encoded=np.zeros((len(tuple_data[1]),len(classes)))\n",
    "    identity = np.identity(len(classes))\n",
    "    for i in range(len(tuple_data[1])):\n",
    "        one_hot_encoded[i] = np.add(one_hot_encoded[i],identity[tuple_data[1][i]])\n",
    "    return one_hot_encoded\n",
    "\n",
    "def softmax(weights,train_data):\n",
    "    bias = np.ones((np.shape(train_data)[0],1))\n",
    "    train_withBias = np.hstack((train_data,bias))\n",
    "    num = np.dot(weights,train_withBias.T)\n",
    "    # High value Fix\n",
    "    # https://houxianxu.github.io/2015/04/23/logistic-softmax-regression/\n",
    "    num = np.subtract(num,np.max(num,axis=0))\n",
    "    num = np.exp(num)\n",
    "    # Fix softmax when using batch size 1 the dimension of deno changes\n",
    "    if(len(train_data) == 1):\n",
    "        deno = np.sum(num,axis=0)\n",
    "    else:\n",
    "        deno = np.sum(num,axis=1)\n",
    "        deno = deno.reshape((10,1))\n",
    "    return np.divide(num,deno)\n",
    "\n",
    "def cross_entropy_error(predicted,target):\n",
    "    right = np.log(predicted+ 1/10**30)\n",
    "    loss = np.multiply(np.matrix(target),np.transpose(np.matrix(right)))\n",
    "    return -np.sum(np.sum(loss,axis=1),axis=0)\n",
    "\n",
    "def batch_gradient(predicted,train_data,target):\n",
    "    leftleft = np.transpose(predicted)\n",
    "    left = np.subtract(leftleft,target)\n",
    "    bias = np.ones((np.shape(train_data)[0],1))\n",
    "    train_withBias = np.hstack((train_data,bias))\n",
    "    gradient = np.dot(left.T,train_withBias)\n",
    "    gradient = gradient/len(train_data)\n",
    "    return np.matrix(gradient,dtype=\"float64\")\n",
    "\n",
    "def accuracy(predicted,target):\n",
    "    correct = 0\n",
    "    left = np.array(np.argmax(predicted,axis=0)).flatten()\n",
    "    right = np.argmax(target,axis=1)\n",
    "    confusion_mat = np.zeros((len(np.unique(right)),len(np.unique(left))))\n",
    "    for i in range(len(target)):\n",
    "        if(left[i] == right[i]):\n",
    "            correct+=1\n",
    "        confusion_mat[right[i]][left[i]] =confusion_mat[right[i]][left[i]] +1\n",
    "    return correct/len(target),pd.DataFrame(np.matrix(confusion_mat,dtype=\"int32\"))\n",
    "\n",
    "def more_metrics(conf_mat):\n",
    "    true_positives = 0\n",
    "    precision = []\n",
    "    recall = []\n",
    "    for i in range(len(conf_mat)):\n",
    "        true_positives += conf_mat.iloc[i,i]\n",
    "    conf_mat = np.matrix(conf_mat)\n",
    "    tp_fp = np.array(np.sum(conf_mat,axis=1)).ravel()\n",
    "    relevant_elements = np.array(np.sum(conf_mat,axis=0)).ravel()\n",
    "    for i in range(len(conf_mat)):\n",
    "        precision.append(conf_mat[i,i]/tp_fp[i])\n",
    "        recall.append(conf_mat[i,i]/relevant_elements[i])\n",
    "    return true_positives,precision,recall\n",
    "\n",
    "def epoch_shuffle(processed_train_data,target):\n",
    "    # Merge\n",
    "    trainDF = pd.DataFrame(processed_train_data)\n",
    "    targetDF = pd.DataFrame(target)\n",
    "    result = pd.concat([trainDF.reset_index(),targetDF.reset_index()],join='inner',axis=1)\n",
    "    result = result.sample(frac=1)\n",
    "    \n",
    "    return np.asarray(result.iloc[:,1:np.shape(trainDF)[1]+1]),np.asarray(result.iloc[:,np.shape(trainDF)[1]+2:])"
   ]
  },
  {
   "cell_type": "code",
   "execution_count": 4,
   "metadata": {},
   "outputs": [],
   "source": [
    "# Fixed Var\n",
    "classes = np.unique(training_data[1])\n",
    "weights = np.random.randn(len(classes), np.shape(training_data[0])[1]+1) * 0.001\n",
    "train_data = training_data[0]"
   ]
  },
  {
   "cell_type": "code",
   "execution_count": 5,
   "metadata": {},
   "outputs": [],
   "source": [
    "target = one_hot_vect(training_data,classes)\n",
    "target_val = one_hot_vect(validation_data,classes)\n",
    "target_test = one_hot_vect(test_data,classes)\n",
    "scaler = StandardScaler()\n",
    "scaler.fit(train_data)\n",
    "processed_train_data = scaler.transform(train_data)\n",
    "scaler.fit(validation_data[0])\n",
    "processed_val_data = scaler.transform(validation_data[0])\n",
    "scaler.fit(test_data[0])\n",
    "processed_test_data = scaler.transform(test_data[0])"
   ]
  },
  {
   "cell_type": "code",
   "execution_count": 7,
   "metadata": {},
   "outputs": [
    {
     "name": "stdout",
     "output_type": "stream",
     "text": [
      "Cost after Epoch: 444485.60814204026\n",
      "Val Acc: 0.9133\n",
      "Train Acc: 0.90652\n",
      "Cost after Epoch: 442570.4953225428\n",
      "Val Acc: 0.9199\n",
      "Train Acc: 0.91648\n",
      "Cost after Epoch: 441727.63461500575\n",
      "Val Acc: 0.9221\n",
      "Train Acc: 0.91986\n",
      "Cost after Epoch: 441178.8726085518\n",
      "Val Acc: 0.9242\n",
      "Train Acc: 0.9225\n",
      "Cost after Epoch: 440891.2580628709\n",
      "Val Acc: 0.9255\n",
      "Train Acc: 0.92362\n",
      "Cost after Epoch: 440567.9224676473\n",
      "Val Acc: 0.9258\n",
      "Train Acc: 0.92606\n",
      "Cost after Epoch: 440361.4678738564\n",
      "Val Acc: 0.9259\n",
      "Train Acc: 0.92696\n",
      "Cost after Epoch: 440192.3217455582\n",
      "Val Acc: 0.9274\n",
      "Train Acc: 0.92796\n",
      "Cost after Epoch: 440029.4262212026\n",
      "Val Acc: 0.9261\n",
      "Train Acc: 0.92856\n",
      "Cost after Epoch: 439932.53451414785\n",
      "Val Acc: 0.9261\n",
      "Train Acc: 0.92896\n",
      "Cost after Epoch: 439798.71011547773\n",
      "Val Acc: 0.9271\n",
      "Train Acc: 0.92992\n",
      "Cost after Epoch: 439742.17929687235\n",
      "Val Acc: 0.927\n",
      "Train Acc: 0.9301\n",
      "Cost after Epoch: 439612.34039090533\n",
      "Val Acc: 0.9272\n",
      "Train Acc: 0.93076\n",
      "Cost after Epoch: 439559.9850890138\n",
      "Val Acc: 0.927\n",
      "Train Acc: 0.93112\n",
      "Cost after Epoch: 439465.7681467665\n",
      "Val Acc: 0.9276\n",
      "Train Acc: 0.93234\n",
      "Cost after Epoch: 439392.3869761648\n",
      "Val Acc: 0.9282\n",
      "Train Acc: 0.93254\n"
     ]
    }
   ],
   "source": [
    "i = 0\n",
    "batchSize = 1\n",
    "start = 0\n",
    "end = batchSize\n",
    "batches = len(processed_train_data)/batchSize\n",
    "weights = np.random.randn(len(classes), np.shape(training_data[0])[1]+1) * 0.001\n",
    "predicted = softmax(weights,processed_train_data[start:end,:])\n",
    "cost_initial = np.asscalar(cross_entropy_error(softmax(weights,processed_train_data),target))\n",
    "cost_new = cost_initial*0.1\n",
    "train_acc = 0\n",
    "log_training_loss =[]\n",
    "log_val_loss=[]\n",
    "log_training_acc =[]\n",
    "log_val_acc=[]\n",
    "logging=True\n",
    "while(cost_initial-cost_new > 10):\n",
    "    i = 0\n",
    "    start = 0\n",
    "    end = batchSize\n",
    "    while(i<batches-1):\n",
    "        #print(\"Percentage Done: \"+str(i/batches))\n",
    "        new_weights = batch_gradient(predicted,processed_train_data[start:end,:],target[start:end,:])\n",
    "        weights = weights - 0.0003*new_weights\n",
    "        if(logging and i%2500==0):\n",
    "            # Predict Train & Validation for these weights\n",
    "            predict_val = softmax(weights,processed_val_data)\n",
    "            # Calculate cost of predicting Validation and Training, To see if the hyper param are working\n",
    "            acc,_  = accuracy(predict_val,target_val)\n",
    "            log_val_acc.append(acc)\n",
    "            log_val_loss.append(np.asscalar(cross_entropy_error(predict_val,target_val)))\n",
    "            predict_train = softmax(weights,processed_train_data)\n",
    "            acc,_  = accuracy(predict_train,target)\n",
    "            log_training_acc.append(acc)\n",
    "            log_training_loss.append(np.asscalar(cross_entropy_error(predict_train,target)))\n",
    "        #print(\"Training Loss: \"+str(cost))\n",
    "        start = start + batchSize\n",
    "        end = end + batchSize\n",
    "        # New Prediction for the data\n",
    "        predicted = softmax(weights,processed_train_data[start:end,:])\n",
    "        i = i+1\n",
    "    cost_initital = cost_new\n",
    "    pred_train = softmax(weights,processed_train_data)\n",
    "    cost_new = np.asscalar(cross_entropy_error(pred_train,target))\n",
    "    predict_val = softmax(weights,processed_val_data)\n",
    "    val_acc,_ = accuracy(predict_val,target_val)\n",
    "    train_acc_old = train_acc\n",
    "    train_acc,_ = accuracy(pred_train,target)\n",
    "    if(float(train_acc) - float(train_acc_old) < 0.0000000001 ):\n",
    "        # Early stopping where just cost is changing but accuracy is stuck\n",
    "        break\n",
    "    print(\"Cost after Epoch: \"+str(cost_new))\n",
    "    print(\"Val Acc: \"+str(val_acc))\n",
    "    print(\"Train Acc: \"+str(train_acc))\n",
    "    processed_train_data,target = epoch_shuffle(processed_train_data,target)"
   ]
  },
  {
   "cell_type": "code",
   "execution_count": 29,
   "metadata": {},
   "outputs": [
    {
     "data": {
      "image/png": "[encoded data removed]",
      "text/plain": [
       "<Figure size 720x720 with 1 Axes>"
      ]
     },
     "metadata": {
      "needs_background": "light"
     },
     "output_type": "display_data"
    }
   ],
   "source": [
    "df = pd.DataFrame(log_val_acc)\n",
    "ax = df.plot(figsize=(10,10))\n",
    "ax.ticklabel_format(useOffset=False)\n",
    "#plt.savefig('./train_loss.png',bbox_inches='tight')\n",
    "plt.show(ax)"
   ]
  },
  {
   "cell_type": "code",
   "execution_count": 30,
   "metadata": {},
   "outputs": [
    {
     "data": {
      "image/png": "[encoded data removed]",
      "text/plain": [
       "<Figure size 720x720 with 1 Axes>"
      ]
     },
     "metadata": {
      "needs_background": "light"
     },
     "output_type": "display_data"
    }
   ],
   "source": [
    "df = pd.DataFrame(log_val_loss)\n",
    "ax = df.plot(figsize=(10,10))\n",
    "ax.ticklabel_format(useOffset=False)\n",
    "#plt.savefig('./val_loss.png',bbox_inches='tight')\n",
    "plt.show(ax)"
   ]
  },
  {
   "cell_type": "code",
   "execution_count": 8,
   "metadata": {},
   "outputs": [
    {
     "name": "stdout",
     "output_type": "stream",
     "text": [
      "The Accuracy for Validation is: 0.9278\n",
      "The Confusion Matrix is: \n",
      "     0     1    2    3    4    5    6     7    8    9\n",
      "0  964     0    6    1    4    4    6     3    3    0\n",
      "1    0  1044    4    2    1    4    0     1    7    1\n",
      "2    3    12  896   15   11    6    6    15   22    4\n",
      "3    5     3   13  920    1   44    3     5   26   10\n",
      "4    1    10    3    2  929    0    6     5    2   25\n",
      "5   11     2   13   32    7  797   23     6   20    4\n",
      "6    4     4    7    0    6    7  936     1    2    0\n",
      "7    5     5    5    8    5    0    0  1033    1   28\n",
      "8    4    31    6   19    2   24    4     8  889   22\n",
      "9    4     5    2    8   27    7    1    32    5  870\n",
      "The Precision & Recall is: \n",
      "      Recall  Precision\n",
      "0  97.275479  96.303696\n",
      "1  98.120301  93.548387\n",
      "2  90.505051  93.821990\n",
      "3  89.320388  91.360477\n",
      "4  94.506612  93.554884\n",
      "5  87.103825  89.249720\n",
      "6  96.794209  95.025381\n",
      "7  94.770642  93.146979\n",
      "8  88.107037  90.992835\n",
      "9  90.530697  90.248963\n"
     ]
    }
   ],
   "source": [
    "# Target,Predicted\n",
    "predict_val = softmax(weights,processed_val_data)\n",
    "acc,conf_mat = accuracy(predict_val,target_val)\n",
    "print(\"The Accuracy for Validation is: \"+str(acc))\n",
    "print(\"The Confusion Matrix is: \")\n",
    "print(pd.DataFrame(conf_mat))\n",
    "_,precision,recall = more_metrics(pd.DataFrame(conf_mat))\n",
    "print(\"The Precision & Recall is: \")\n",
    "df = pd.DataFrame(np.multiply(precision,100))\n",
    "df.columns = [\"Recall\"]\n",
    "df1 = pd.DataFrame(np.multiply(recall,100))\n",
    "df1.columns = [\"Precision\"]\n",
    "print(pd.concat([df,df1],axis=1))"
   ]
  },
  {
   "cell_type": "code",
   "execution_count": 28,
   "metadata": {},
   "outputs": [],
   "source": [
    "#np.savetxt('./models/logisticModel', weights)\n",
    "#weights = np.loadtxt('./models/logisticModel')"
   ]
  },
  {
   "cell_type": "markdown",
   "metadata": {
    "collapsed": true
   },
   "source": [
    "# USPS Data Test"
   ]
  },
  {
   "cell_type": "code",
   "execution_count": 25,
   "metadata": {},
   "outputs": [],
   "source": [
    "USPSMat  = []\n",
    "USPSTar  = []\n",
    "curPath  = '../USPSdata/Numerals'\n",
    "savedImg = []\n",
    "\n",
    "for j in range(0,10):\n",
    "    curFolderPath = curPath + '/' + str(j)\n",
    "    imgs =  os.listdir(curFolderPath)\n",
    "    for img in imgs:\n",
    "        curImg = curFolderPath + '/' + img\n",
    "        if curImg[-3:] == 'png':\n",
    "            img = Image.open(curImg,'r')\n",
    "            img = img.resize((28, 28))\n",
    "            savedImg = img\n",
    "            imgdata = (255-np.array(img.getdata()))/255\n",
    "            USPSMat.append(imgdata)\n",
    "            USPSTar.append(j)"
   ]
  },
  {
   "cell_type": "code",
   "execution_count": 26,
   "metadata": {},
   "outputs": [],
   "source": [
    "target_USPS = one_hot_vect((1,USPSTar),classes)\n",
    "scaler.fit(USPSMat)\n",
    "processed_USPSDat = scaler.transform(USPSMat)\n"
   ]
  },
  {
   "cell_type": "code",
   "execution_count": 29,
   "metadata": {},
   "outputs": [
    {
     "name": "stdout",
     "output_type": "stream",
     "text": [
      "The Test Accuracy for MNIST is: 0.9233\n",
      "The Confusion Matrix is: \n",
      "     0     1    2    3    4    5    6    7    8    9\n",
      "0  958     0    0    1    1    6    6    5    3    0\n",
      "1    0  1106    3    2    1    2    4    2   15    0\n",
      "2    6     9  931   14    8    5   13   11   32    3\n",
      "3    4     1   22  912    1   29    3   11   18    9\n",
      "4    2     4    5    1  917    0   10    5    6   32\n",
      "5    7     3    2   34    7  784   15    7   28    5\n",
      "6   11     4    7    1    7   16  908    2    2    0\n",
      "7    2     9   21    8    5    1    0  950    2   30\n",
      "8    6    12    7   19   11   29   10   14  855   11\n",
      "9   11     7    2   10   28    6    0   26    7  912\n",
      "The Precision & Recall is: \n",
      "      Recall  Precision\n",
      "0  97.755102  95.134062\n",
      "1  97.444934  95.757576\n",
      "2  90.213178  93.100000\n",
      "3  90.297030  91.017964\n",
      "4  93.380855  93.002028\n",
      "5  87.892377  89.293850\n",
      "6  94.780793  93.704850\n",
      "7  92.412451  91.965150\n",
      "8  87.782341  88.326446\n",
      "9  90.386521  91.017964\n"
     ]
    }
   ],
   "source": [
    "predict_test = softmax(weights,processed_test_data)\n",
    "acc,conf_mat = accuracy(predict_test,target_test)\n",
    "print(\"The Test Accuracy for MNIST is: \"+str(acc))\n",
    "print(\"The Confusion Matrix is: \")\n",
    "print(pd.DataFrame(conf_mat))\n",
    "_,precision,recall = more_metrics(pd.DataFrame(conf_mat))\n",
    "print(\"The Precision & Recall is: \")\n",
    "df = pd.DataFrame(np.multiply(precision,100))\n",
    "df.columns = [\"Recall\"]\n",
    "df1 = pd.DataFrame(np.multiply(recall,100))\n",
    "df1.columns = [\"Precision\"]\n",
    "print(pd.concat([df,df1],axis=1))"
   ]
  },
  {
   "cell_type": "code",
   "execution_count": 30,
   "metadata": {},
   "outputs": [
    {
     "name": "stdout",
     "output_type": "stream",
     "text": [
      "The Test Accuracy for USPS is: 0.33791689584479223\n",
      "The Confusion Matrix is: \n",
      "     0    1     2    3    4    5    6    7    8    9\n",
      "0  538   20   153   58  135  130  197  274  131  364\n",
      "1   67  319   214  233  346  101   39  193  354  134\n",
      "2   94   78  1149  104   32  132  171   27  149   63\n",
      "3   77   71   151  916   19  394   44   45  215   68\n",
      "4   31  101    33   21  980   59   65  171  313  226\n",
      "5  143   59   193  133   37  900  214   72  202   47\n",
      "6  108   20   380   77   62  302  745   71   62  173\n",
      "7  144  228    43  368   67  112   30  333  454  221\n",
      "8  224   78    62  251  135  363  203   84  429  171\n",
      "9   34  149    65  409  114   29   18  370  363  449\n",
      "The Precision & Recall is: \n",
      "      Recall  Precision\n",
      "0  26.900000  36.849315\n",
      "1  15.950000  28.406055\n",
      "2  57.478739  47.032337\n",
      "3  45.800000  35.642023\n",
      "4  49.000000  50.856253\n",
      "5  45.000000  35.685964\n",
      "6  37.250000  43.163384\n",
      "7  16.650000  20.304878\n",
      "8  21.450000  16.055389\n",
      "9  22.450000  23.434238\n"
     ]
    }
   ],
   "source": [
    "predict_USPS = softmax(weights,processed_USPSDat)\n",
    "acc,conf_mat = accuracy(predict_USPS,target_USPS)\n",
    "print(\"The Test Accuracy for USPS is: \"+str(acc))\n",
    "print(\"The Confusion Matrix is: \")\n",
    "print(pd.DataFrame(conf_mat))\n",
    "_,precision,recall = more_metrics(pd.DataFrame(conf_mat))\n",
    "print(\"The Precision & Recall is: \")\n",
    "df = pd.DataFrame(np.multiply(precision,100))\n",
    "df.columns = [\"Recall\"]\n",
    "df1 = pd.DataFrame(np.multiply(recall,100))\n",
    "df1.columns = [\"Precision\"]\n",
    "print(pd.concat([df,df1],axis=1))"
   ]
  },
  {
   "cell_type": "code",
   "execution_count": null,
   "metadata": {},
   "outputs": [],
   "source": []
  }
 ],
 "metadata": {
  "kernelspec": {
   "display_name": "Python 3",
   "language": "python",
   "name": "python3"
  },
  "language_info": {
   "codemirror_mode": {
    "name": "ipython",
    "version": 3
   },
   "file_extension": ".py",
   "mimetype": "text/x-python",
   "name": "python",
   "nbconvert_exporter": "python",
   "pygments_lexer": "ipython3",
   "version": "3.6.6"
  }
 },
 "nbformat": 4,
 "nbformat_minor": 2
}
