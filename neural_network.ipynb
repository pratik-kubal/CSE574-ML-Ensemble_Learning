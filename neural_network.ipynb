{
 "cells": [
  {
   "cell_type": "code",
   "execution_count": 1,
   "metadata": {},
   "outputs": [
    {
     "name": "stderr",
     "output_type": "stream",
     "text": [
      "Using TensorFlow backend.\n"
     ]
    }
   ],
   "source": [
    "import pickle\n",
    "import gzip\n",
    "import pandas as pd\n",
    "from matplotlib import pyplot as plt\n",
    "from PIL import Image\n",
    "import os\n",
    "import numpy as np\n",
    "np.random.seed(666)\n",
    "\n",
    "from tensorflow import set_random_seed\n",
    "set_random_seed(125)\n",
    "\n",
    "from keras.models import Sequential\n",
    "from keras.layers import Dense, Activation, Dropout\n",
    "from keras.callbacks import EarlyStopping, TensorBoard\n",
    "from keras.utils import np_utils\n",
    "from sklearn.model_selection import train_test_split\n",
    "from keras.utils import to_categorical\n",
    "from sklearn.metrics import confusion_matrix\n",
    "\n",
    "from keras.datasets import mnist\n",
    "import keras\n",
    "\n",
    "from keras.layers import Conv2D,MaxPooling2D,Flatten\n",
    "from sklearn.externals import joblib\n",
    "\n"
   ]
  },
  {
   "cell_type": "code",
   "execution_count": 2,
   "metadata": {},
   "outputs": [],
   "source": [
    "def accuracy(test_data,test_target,model):\n",
    "    correct = 0\n",
    "    predicted = model.predict(test_data,verbose=True)\n",
    "    left = np.array(np.argmax(predicted,axis=1)).flatten()\n",
    "    right = np.argmax(test_target,axis=1)\n",
    "    confusion_mat = np.zeros((10,10))\n",
    "    for i in range(len(test_target)):\n",
    "        if(left[i] == right[i]):\n",
    "            correct+=1\n",
    "        confusion_mat[right[i]][left[i]] =confusion_mat[right[i]][left[i]] +1\n",
    "    return correct/len(test_target),pd.DataFrame(np.matrix(confusion_mat,dtype=\"int32\"))\n",
    "\n",
    "def more_metrics(conf_mat):\n",
    "    true_positives = 0\n",
    "    precision = []\n",
    "    recall = []\n",
    "    for i in range(len(conf_mat)):\n",
    "        true_positives += conf_mat.iloc[i,i]\n",
    "    conf_mat = np.matrix(conf_mat)\n",
    "    tp_fp = np.array(np.sum(conf_mat,axis=1)).ravel()\n",
    "    relevant_elements = np.array(np.sum(conf_mat,axis=0)).ravel()\n",
    "    for i in range(len(conf_mat)):\n",
    "        precision.append(conf_mat[i,i]/tp_fp[i])\n",
    "        recall.append(conf_mat[i,i]/relevant_elements[i])\n",
    "    return true_positives,precision,recall"
   ]
  },
  {
   "cell_type": "code",
   "execution_count": 3,
   "metadata": {},
   "outputs": [],
   "source": [
    "filename = '../mnist.pkl.gz'\n",
    "f = gzip.open(filename, 'rb')\n",
    "training_data, validation_data, test_data = pickle.load(f, encoding='latin1')\n",
    "f.close()\n",
    "train_data = np.append(training_data[0],validation_data[0],axis=0)\n",
    "train_target = np.append(training_data[1],validation_data[1],axis=0)\n",
    "train_target = keras.utils.to_categorical(train_target, 10)\n",
    "test_target = keras.utils.to_categorical(test_data[1], 10)\n",
    "test_data = test_data[0]"
   ]
  },
  {
   "cell_type": "code",
   "execution_count": 9,
   "metadata": {},
   "outputs": [],
   "source": [
    "image_vector_size = 28* 28\n",
    "train_data = train_data.reshape(train_data.shape[0], image_vector_size)\n",
    "test_data = test_data.reshape(test_data.shape[0], image_vector_size)\n",
    "num_classes =10"
   ]
  },
  {
   "cell_type": "code",
   "execution_count": 10,
   "metadata": {},
   "outputs": [],
   "source": [
    "NNType = 'DNN'\n",
    "\n",
    "if(NNType=='CNN'):\n",
    "    print(\"Processing for CNN\")\n",
    "    filename = '../mnist.pkl.gz'\n",
    "    f = gzip.open(filename, 'rb')\n",
    "    training_data, validation_data, test_data = pickle.load(f, encoding='latin1')\n",
    "    num_classes = 10\n",
    "\n",
    "    x_train = np.append(training_data[0],validation_data[0],axis=0)\n",
    "    y_train = np.append(training_data[1],validation_data[1])\n",
    "    x_test = test_data[0]\n",
    "    y_test = test_data[1]\n",
    "\n",
    "    img_x, img_y = 28, 28\n",
    "    #(x_train, y_train), (x_test, y_test) = mnist.load_data()\n",
    "    x_train = x_train.reshape(x_train.shape[0], img_x, img_y, 1)\n",
    "    x_test = x_test.reshape(x_test.shape[0], img_x, img_y, 1)\n",
    "    input_shape = (img_x, img_y, 1)\n",
    "\n",
    "    # convert the data to the right type\n",
    "    x_train = x_train.astype('float32')\n",
    "    x_test = x_test.astype('float32')\n",
    "    x_train /= 255\n",
    "    x_test /= 255\n",
    "    #print('x_train shape:', x_train.shape)\n",
    "    #print(x_train.shape[0], 'train samples')\n",
    "    #print(x_test.shape[0], 'test samples')\n",
    "\n",
    "    y_train = keras.utils.to_categorical(y_train, num_classes)\n",
    "    y_test = keras.utils.to_categorical(y_test, num_classes)"
   ]
  },
  {
   "cell_type": "code",
   "execution_count": 11,
   "metadata": {},
   "outputs": [],
   "source": [
    "def baseline():\n",
    "    model = Sequential()\n",
    "    model.add(Dense(units=32, activation='sigmoid', input_shape=(image_vector_size,)))\n",
    "    model.add(Dense(units=num_classes, activation='softmax'))\n",
    "    model.compile(optimizer='sgd', loss='categorical_crossentropy',metrics=['accuracy'])\n",
    "    model.summary()\n",
    "    return model\n",
    "\n",
    "def highHidden():\n",
    "    drop_out = 0.1\n",
    "    model = Sequential()\n",
    "    model.add(Dense(units=32,activation='sigmoid',input_shape=(image_vector_size,)))\n",
    "    model.add(Activation('tanh'))\n",
    "    model.add(Dense(128, input_dim=image_vector_size))\n",
    "    model.add(Activation('relu'))\n",
    "    model.add(Dropout(drop_out))\n",
    "    model.add(Dense(128, input_dim=image_vector_size))\n",
    "    model.add(Dense(units=num_classes, activation='softmax'))\n",
    "\n",
    "    #sgd = optimizers.SGD(lr=0.001, momentum=0.0, decay=0.0, nesterov=False)\n",
    "    model.compile(optimizer='adam', loss='categorical_crossentropy',metrics=['accuracy'])    \n",
    "    model.summary()\n",
    "    return model\n",
    "\n",
    "def lowHidden():\n",
    "    model = Sequential()\n",
    "    model.add(Dense(units=1024,activation='tanh',input_shape=(image_vector_size,)))\n",
    "    model.add(Dense(2048,activation='relu',input_dim=image_vector_size))\n",
    "    model.add(Dense(units=num_classes, activation='softmax'))\n",
    "\n",
    "    #sgd = optimizers.SGD(lr=0.03, momentum=0.0, decay=0.0, nesterov=False)\n",
    "    model.compile(optimizer='adam', loss='categorical_crossentropy',metrics=['accuracy'])    \n",
    "    model.summary()\n",
    "    return model\n",
    "\n",
    "def conv():\n",
    "    model = Sequential()\n",
    "    model.add(Conv2D(64, kernel_size=(20, 20), strides=(1, 1),activation='tanh',input_shape=input_shape))\n",
    "    model.add(MaxPooling2D(pool_size=(2, 2), strides=(2, 2)))\n",
    "    model.add(Flatten())\n",
    "    model.add(Dense(1024, activation='relu'))\n",
    "    model.add(Dense(num_classes, activation='softmax'))\n",
    "    model.compile(optimizer='adam', loss='categorical_crossentropy',metrics=['accuracy'])\n",
    "    model.summary()\n",
    "    return model"
   ]
  },
  {
   "cell_type": "code",
   "execution_count": 41,
   "metadata": {},
   "outputs": [
    {
     "name": "stdout",
     "output_type": "stream",
     "text": [
      "_________________________________________________________________\n",
      "Layer (type)                 Output Shape              Param #   \n",
      "=================================================================\n",
      "dense_19 (Dense)             (None, 32)                25120     \n",
      "_________________________________________________________________\n",
      "activation_5 (Activation)    (None, 32)                0         \n",
      "_________________________________________________________________\n",
      "dense_20 (Dense)             (None, 128)               4224      \n",
      "_________________________________________________________________\n",
      "activation_6 (Activation)    (None, 128)               0         \n",
      "_________________________________________________________________\n",
      "dropout_3 (Dropout)          (None, 128)               0         \n",
      "_________________________________________________________________\n",
      "dense_21 (Dense)             (None, 128)               16512     \n",
      "_________________________________________________________________\n",
      "dense_22 (Dense)             (None, 10)                1290      \n",
      "=================================================================\n",
      "Total params: 47,146\n",
      "Trainable params: 47,146\n",
      "Non-trainable params: 0\n",
      "_________________________________________________________________\n"
     ]
    }
   ],
   "source": [
    "model = highHidden()"
   ]
  },
  {
   "cell_type": "code",
   "execution_count": 36,
   "metadata": {},
   "outputs": [],
   "source": [
    "if(NNType=='CNN'):\n",
    "    print(\"Processing for CNN\")\n",
    "    filename = '../mnist.pkl.gz'\n",
    "    f = gzip.open(filename, 'rb')\n",
    "    training_data, validation_data, test_data = pickle.load(f, encoding='latin1')\n",
    "    num_classes = 10\n",
    "\n",
    "    x_train = np.append(training_data[0],validation_data[0],axis=0)\n",
    "    y_train = np.append(training_data[1],validation_data[1])\n",
    "    x_test = test_data[0]\n",
    "    y_test = test_data[1]\n",
    "\n",
    "    img_x, img_y = 28, 28\n",
    "    #(x_train, y_train), (x_test, y_test) = mnist.load_data()\n",
    "    x_train = x_train.reshape(x_train.shape[0], img_x, img_y, 1)\n",
    "    x_test = x_test.reshape(x_test.shape[0], img_x, img_y, 1)\n",
    "    input_shape = (img_x, img_y, 1)\n",
    "\n",
    "    # convert the data to the right type\n",
    "    x_train = x_train.astype('float32')\n",
    "    x_test = x_test.astype('float32')\n",
    "    x_train /= 255\n",
    "    x_test /= 255\n",
    "    #print('x_train shape:', x_train.shape)\n",
    "    #print(x_train.shape[0], 'train samples')\n",
    "    #print(x_test.shape[0], 'test samples')\n",
    "\n",
    "    y_train = keras.utils.to_categorical(y_train, num_classes)\n",
    "    y_test = keras.utils.to_categorical(y_test, num_classes)\n",
    "    \n",
    "    earlystopping_cb = EarlyStopping(monitor='val_loss', verbose=1, \n",
    "                                 patience=20, mode='auto')\n",
    "    history = model.fit(x_train, y_train, \n",
    "                        batch_size=128,\n",
    "                        epochs=150,\n",
    "                        verbose=True,\n",
    "                        validation_split=.1,\n",
    "                        callbacks = [earlystopping_cb])"
   ]
  },
  {
   "cell_type": "code",
   "execution_count": 42,
   "metadata": {},
   "outputs": [
    {
     "name": "stdout",
     "output_type": "stream",
     "text": [
      "Train on 54000 samples, validate on 6000 samples\n",
      "Epoch 1/150\n",
      "54000/54000 [==============================] - 1s 18us/step - loss: 1.0832 - acc: 0.6867 - val_loss: 0.3272 - val_acc: 0.9072\n",
      "Epoch 2/150\n",
      "54000/54000 [==============================] - 1s 9us/step - loss: 0.3505 - acc: 0.8966 - val_loss: 0.2378 - val_acc: 0.9317\n",
      "Epoch 3/150\n",
      "54000/54000 [==============================] - 1s 9us/step - loss: 0.2762 - acc: 0.9178 - val_loss: 0.1932 - val_acc: 0.9437\n",
      "Epoch 4/150\n",
      "54000/54000 [==============================] - 1s 9us/step - loss: 0.2338 - acc: 0.9300 - val_loss: 0.1722 - val_acc: 0.9512\n",
      "Epoch 5/150\n",
      "54000/54000 [==============================] - 1s 9us/step - loss: 0.2057 - acc: 0.9381 - val_loss: 0.1514 - val_acc: 0.9583\n",
      "Epoch 6/150\n",
      "54000/54000 [==============================] - 0s 9us/step - loss: 0.1820 - acc: 0.9461 - val_loss: 0.1398 - val_acc: 0.9620\n",
      "Epoch 7/150\n",
      "54000/54000 [==============================] - 1s 9us/step - loss: 0.1667 - acc: 0.9506 - val_loss: 0.1362 - val_acc: 0.9617\n",
      "Epoch 8/150\n",
      "54000/54000 [==============================] - 1s 9us/step - loss: 0.1533 - acc: 0.9537 - val_loss: 0.1258 - val_acc: 0.9640\n",
      "Epoch 9/150\n",
      "54000/54000 [==============================] - 0s 9us/step - loss: 0.1422 - acc: 0.9562 - val_loss: 0.1204 - val_acc: 0.9647\n",
      "Epoch 10/150\n",
      "54000/54000 [==============================] - 1s 9us/step - loss: 0.1310 - acc: 0.9608 - val_loss: 0.1154 - val_acc: 0.9662\n",
      "Epoch 11/150\n",
      "54000/54000 [==============================] - 1s 9us/step - loss: 0.1219 - acc: 0.9633 - val_loss: 0.1125 - val_acc: 0.9670\n",
      "Epoch 12/150\n",
      "54000/54000 [==============================] - 1s 9us/step - loss: 0.1136 - acc: 0.9651 - val_loss: 0.1065 - val_acc: 0.9690\n",
      "Epoch 13/150\n",
      "54000/54000 [==============================] - 1s 9us/step - loss: 0.1070 - acc: 0.9669 - val_loss: 0.1055 - val_acc: 0.9698\n",
      "Epoch 14/150\n",
      "54000/54000 [==============================] - 0s 9us/step - loss: 0.1005 - acc: 0.9692 - val_loss: 0.1010 - val_acc: 0.9723\n",
      "Epoch 15/150\n",
      "54000/54000 [==============================] - 1s 9us/step - loss: 0.0944 - acc: 0.9712 - val_loss: 0.1017 - val_acc: 0.9722\n",
      "Epoch 16/150\n",
      "54000/54000 [==============================] - 1s 9us/step - loss: 0.0905 - acc: 0.9725 - val_loss: 0.1000 - val_acc: 0.9715\n",
      "Epoch 17/150\n",
      "54000/54000 [==============================] - 0s 9us/step - loss: 0.0864 - acc: 0.9730 - val_loss: 0.0990 - val_acc: 0.9717\n",
      "Epoch 18/150\n",
      "54000/54000 [==============================] - 0s 9us/step - loss: 0.0815 - acc: 0.9750 - val_loss: 0.1009 - val_acc: 0.9715\n",
      "Epoch 19/150\n",
      "54000/54000 [==============================] - 1s 9us/step - loss: 0.0784 - acc: 0.9753 - val_loss: 0.0965 - val_acc: 0.9738\n",
      "Epoch 20/150\n",
      "54000/54000 [==============================] - 0s 9us/step - loss: 0.0745 - acc: 0.9769 - val_loss: 0.0943 - val_acc: 0.9745\n",
      "Epoch 21/150\n",
      "54000/54000 [==============================] - 1s 9us/step - loss: 0.0703 - acc: 0.9782 - val_loss: 0.0943 - val_acc: 0.9745\n",
      "Epoch 22/150\n",
      "54000/54000 [==============================] - 1s 9us/step - loss: 0.0687 - acc: 0.9780 - val_loss: 0.0931 - val_acc: 0.9742\n",
      "Epoch 23/150\n",
      "54000/54000 [==============================] - 0s 9us/step - loss: 0.0639 - acc: 0.9803 - val_loss: 0.0918 - val_acc: 0.9748\n",
      "Epoch 24/150\n",
      "54000/54000 [==============================] - 1s 9us/step - loss: 0.0623 - acc: 0.9802 - val_loss: 0.0937 - val_acc: 0.9745\n",
      "Epoch 25/150\n",
      "54000/54000 [==============================] - 1s 9us/step - loss: 0.0609 - acc: 0.9808 - val_loss: 0.0909 - val_acc: 0.9763\n",
      "Epoch 26/150\n",
      "54000/54000 [==============================] - 1s 9us/step - loss: 0.0572 - acc: 0.9814 - val_loss: 0.0925 - val_acc: 0.9763\n",
      "Epoch 27/150\n",
      "54000/54000 [==============================] - 0s 9us/step - loss: 0.0552 - acc: 0.9828 - val_loss: 0.0960 - val_acc: 0.9738\n",
      "Epoch 28/150\n",
      "54000/54000 [==============================] - 0s 9us/step - loss: 0.0529 - acc: 0.9835 - val_loss: 0.0968 - val_acc: 0.9747\n",
      "Epoch 29/150\n",
      "54000/54000 [==============================] - 0s 9us/step - loss: 0.0508 - acc: 0.9842 - val_loss: 0.0959 - val_acc: 0.9760\n",
      "Epoch 30/150\n",
      "54000/54000 [==============================] - 1s 9us/step - loss: 0.0499 - acc: 0.9841 - val_loss: 0.0961 - val_acc: 0.9748\n",
      "Epoch 00030: early stopping\n"
     ]
    }
   ],
   "source": [
    "earlystopping_cb = EarlyStopping(monitor='val_loss', verbose=1, \n",
    "                                 patience=5, mode='auto')\n",
    "\n",
    "history = model.fit(train_data, train_target, \n",
    "                    batch_size=512, \n",
    "                    epochs=150,\n",
    "                    verbose=True,\n",
    "                    validation_split=.1,\n",
    "                   callbacks = [earlystopping_cb])"
   ]
  },
  {
   "cell_type": "code",
   "execution_count": 43,
   "metadata": {},
   "outputs": [
    {
     "name": "stdout",
     "output_type": "stream",
     "text": [
      "60000/60000 [==============================] - 1s 17us/step\n",
      "The Loss for Training is: 0.04208651631673177\n",
      "The Accuracy for Training is: 0.9879666666666667\n"
     ]
    }
   ],
   "source": [
    "if(NNType=='CNN'):\n",
    "    loss,acc = model.evaluate(x_train, y_train, verbose=True)\n",
    "    print(\"The Loss for Training is: \"+str(loss))\n",
    "    print(\"The Accuracy for Training is: \"+str(acc))\n",
    "else:\n",
    "    loss,acc = model.evaluate(train_data, train_target, verbose=True)\n",
    "    print(\"The Loss for Training is: \"+str(loss))\n",
    "    print(\"The Accuracy for Training is: \"+str(acc))"
   ]
  },
  {
   "cell_type": "code",
   "execution_count": 25,
   "metadata": {},
   "outputs": [
    {
     "data": {
      "text/plain": [
       "array([<matplotlib.axes._subplots.AxesSubplot object at 0x7fe0180700b8>,\n",
       "       <matplotlib.axes._subplots.AxesSubplot object at 0x7fe01807c240>,\n",
       "       <matplotlib.axes._subplots.AxesSubplot object at 0x7fe0107de358>,\n",
       "       <matplotlib.axes._subplots.AxesSubplot object at 0x7fe010788470>],\n",
       "      dtype=object)"
      ]
     },
     "execution_count": 25,
     "metadata": {},
     "output_type": "execute_result"
    },
    {
     "data": {
      "image/png": "[encoded data removed]",
      "text/plain": [
       "<Figure size 720x1080 with 4 Axes>"
      ]
     },
     "metadata": {
      "needs_background": "light"
     },
     "output_type": "display_data"
    }
   ],
   "source": [
    "%matplotlib inline\n",
    "df = pd.DataFrame(history.history)\n",
    "df.plot(subplots=True, grid=True, figsize=(10,15))"
   ]
  },
  {
   "cell_type": "code",
   "execution_count": 53,
   "metadata": {},
   "outputs": [],
   "source": [
    "#joblib.dump(model,'./models/DNN_lowHidden.joblib',compress=True)\n",
    "model = joblib.load('./models/DNN_lowHidden.joblib')"
   ]
  },
  {
   "cell_type": "markdown",
   "metadata": {},
   "source": [
    "# Pre Process USPS"
   ]
  },
  {
   "cell_type": "code",
   "execution_count": 54,
   "metadata": {},
   "outputs": [],
   "source": [
    "USPSMat  = []\n",
    "USPSTar  = []\n",
    "curPath  = '../USPSdata/Numerals'\n",
    "savedImg = []\n",
    "\n",
    "for j in range(0,10):\n",
    "    curFolderPath = curPath + '/' + str(j)\n",
    "    imgs =  os.listdir(curFolderPath)\n",
    "    for img in imgs:\n",
    "        curImg = curFolderPath + '/' + img\n",
    "        if curImg[-3:] == 'png':\n",
    "            img = Image.open(curImg,'r')\n",
    "            img = img.resize((28, 28))\n",
    "            savedImg = img\n",
    "            imgdata = (255-np.array(img.getdata()))/255\n",
    "            USPSMat.append(imgdata)\n",
    "            USPSTar.append(j)"
   ]
  },
  {
   "cell_type": "code",
   "execution_count": 55,
   "metadata": {},
   "outputs": [],
   "source": [
    "if(NNType =='CNN'):\n",
    "    print(\"Processing for CNN\")\n",
    "    USPSMat  = []\n",
    "    USPSTar  = []\n",
    "    curPath  = '../USPSdata/Numerals'\n",
    "    savedImg = []\n",
    "\n",
    "    for j in range(0,10):\n",
    "        curFolderPath = curPath + '/' + str(j)\n",
    "        imgs =  os.listdir(curFolderPath)\n",
    "        for img in imgs:\n",
    "            curImg = curFolderPath + '/' + img\n",
    "            if curImg[-3:] == 'png':\n",
    "                img = Image.open(curImg,'r')\n",
    "                img = img.resize((28, 28))\n",
    "                img = np.asarray(img)\n",
    "                #savedImg = img\n",
    "                #imgdata = (255-np.array(img.getdata()))/255\n",
    "                USPSMat.append(img)\n",
    "                USPSTar.append(j)\n",
    "    USPSMat = np.asarray(USPSMat)\n",
    "    USPSMat = USPSMat.reshape(USPSMat.shape[0], 28, 28, 1)"
   ]
  },
  {
   "cell_type": "code",
   "execution_count": 56,
   "metadata": {},
   "outputs": [],
   "source": [
    "USPSTar = keras.utils.to_categorical(USPSTar, num_classes)"
   ]
  },
  {
   "cell_type": "code",
   "execution_count": 57,
   "metadata": {},
   "outputs": [
    {
     "name": "stdout",
     "output_type": "stream",
     "text": [
      "10000/10000 [==============================] - 1s 92us/step\n",
      "The Accuracy for Testing on MNIST is: 0.9823\n",
      "The Confusion Matrix is: \n",
      "     0     1     2    3    4    5    6     7    8    9\n",
      "0  972     1     0    1    0    0    2     1    3    0\n",
      "1    0  1129     1    2    0    1    0     2    0    0\n",
      "2    2     1  1009    6    1    1    1     6    4    1\n",
      "3    1     0     1  977    0   16    0     7    3    5\n",
      "4    0     0     3    1  960    0    3     3    1   11\n",
      "5    2     0     0    4    0  879    2     1    1    3\n",
      "6    4     2     0    1    2    2  942     1    4    0\n",
      "7    1     1     5    2    1    0    0  1012    4    2\n",
      "8    0     0     2    5    2    3    1     5  952    4\n",
      "9    0     0     0    1    7    5    1     1    3  991\n",
      "The Precision & Recall is: \n",
      "      Recall  Precision\n",
      "0  99.183673  98.981670\n",
      "1  99.471366  99.559083\n",
      "2  97.771318  98.824682\n",
      "3  96.732673  97.700000\n",
      "4  97.759674  98.663926\n",
      "5  98.542601  96.912900\n",
      "6  98.329854  98.949580\n",
      "7  98.443580  97.401347\n",
      "8  97.741273  97.641026\n",
      "9  98.216056  97.443461\n"
     ]
    }
   ],
   "source": [
    "if(NNType =='CNN'):\n",
    "    acc,conf_mat = accuracy(x_test,y_test,model)\n",
    "    print(\"The Accuracy for Testing on MNIST is: \"+str(acc))\n",
    "    print(\"The Confusion Matrix is: \")\n",
    "    print(conf_mat)\n",
    "    _,precision,recall = more_metrics(pd.DataFrame(conf_mat))\n",
    "    print(\"The Precision & Recall is: \")\n",
    "    df = pd.DataFrame(np.multiply(precision,100))\n",
    "    df.columns = [\"Recall\"]\n",
    "    df1 = pd.DataFrame(np.multiply(recall,100))\n",
    "    df1.columns = [\"Precision\"]\n",
    "    print(pd.concat([df,df1],axis=1))\n",
    "else:\n",
    "    acc,conf_mat = accuracy(test_data,test_target,model)\n",
    "    print(\"The Accuracy for Testing on MNIST is: \"+str(acc))\n",
    "    print(\"The Confusion Matrix is: \")\n",
    "    print(conf_mat)\n",
    "    _,precision,recall = more_metrics(pd.DataFrame(conf_mat))\n",
    "    print(\"The Precision & Recall is: \")\n",
    "    df = pd.DataFrame(np.multiply(precision,100))\n",
    "    df.columns = [\"Recall\"]\n",
    "    df1 = pd.DataFrame(np.multiply(recall,100))\n",
    "    df1.columns = [\"Precision\"]\n",
    "    print(pd.concat([df,df1],axis=1))"
   ]
  },
  {
   "cell_type": "code",
   "execution_count": 58,
   "metadata": {},
   "outputs": [
    {
     "name": "stdout",
     "output_type": "stream",
     "text": [
      "19999/19999 [==============================] - 2s 81us/step\n",
      "The Accuracy for Testing on USPS is: 0.5060753037651883\n",
      "The Confusion Matrix is: \n",
      "     0    1     2     3     4     5     6    7    8    9\n",
      "0  836    4    66    93   186   154   111  150   91  309\n",
      "1   71  575   144   144   321   131    91  349   92   82\n",
      "2   54    4  1548    86    13    86    79   57   66    6\n",
      "3   13    4    71  1465     3   347     6   21   61    9\n",
      "4   32   71    30    23  1002   129    34  320  301   58\n",
      "5   54    3    58    68     5  1647    15   55   82   13\n",
      "6  116   15   201    44    38   224  1203   40   69   50\n",
      "7   47  233   216   566    31    50     6  690  149   12\n",
      "8  150   12    90   328    69   362    50   87  825   27\n",
      "9   37  104    54   260   139    93     6  659  318  330\n",
      "The Precision & Recall is: \n",
      "      Recall  Precision\n",
      "0  41.800000  59.290780\n",
      "1  28.750000  56.097561\n",
      "2  77.438719  62.469734\n",
      "3  73.250000  47.611310\n",
      "4  50.100000  55.451024\n",
      "5  82.350000  51.101458\n",
      "6  60.150000  75.140537\n",
      "7  34.500000  28.418451\n",
      "8  41.250000  40.165531\n",
      "9  16.500000  36.830357\n"
     ]
    }
   ],
   "source": [
    "acc,conf_mat = accuracy([USPSMat],USPSTar,model)\n",
    "print(\"The Accuracy for Testing on USPS is: \"+str(acc))\n",
    "print(\"The Confusion Matrix is: \")\n",
    "print(conf_mat)\n",
    "_,precision,recall = more_metrics(pd.DataFrame(conf_mat))\n",
    "print(\"The Precision & Recall is: \")\n",
    "df = pd.DataFrame(np.multiply(precision,100))\n",
    "df.columns = [\"Recall\"]\n",
    "df1 = pd.DataFrame(np.multiply(recall,100))\n",
    "df1.columns = [\"Precision\"]\n",
    "print(pd.concat([df,df1],axis=1))"
   ]
  },
  {
   "cell_type": "code",
   "execution_count": null,
   "metadata": {},
   "outputs": [],
   "source": []
  }
 ],
 "metadata": {
  "kernelspec": {
   "display_name": "Python 3",
   "language": "python",
   "name": "python3"
  },
  "language_info": {
   "codemirror_mode": {
    "name": "ipython",
    "version": 3
   },
   "file_extension": ".py",
   "mimetype": "text/x-python",
   "name": "python",
   "nbconvert_exporter": "python",
   "pygments_lexer": "ipython3",
   "version": "3.6.6"
  }
 },
 "nbformat": 4,
 "nbformat_minor": 2
}
