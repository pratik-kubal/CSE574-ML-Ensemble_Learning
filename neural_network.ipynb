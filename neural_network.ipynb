{
 "cells": [
  {
   "cell_type": "code",
   "execution_count": 1,
   "metadata": {},
   "outputs": [
    {
     "name": "stderr",
     "output_type": "stream",
     "text": [
      "Using TensorFlow backend.\n"
     ]
    }
   ],
   "source": [
    "import pickle\n",
    "import gzip\n",
    "import pandas as pd\n",
    "from matplotlib import pyplot as plt\n",
    "from PIL import Image\n",
    "import os\n",
    "import numpy as np\n",
    "np.random.seed(666)\n",
    "\n",
    "from tensorflow import set_random_seed\n",
    "set_random_seed(125)\n",
    "\n",
    "from keras.models import Sequential\n",
    "from keras.layers import Dense, Activation, Dropout\n",
    "from keras.callbacks import EarlyStopping, TensorBoard\n",
    "from keras.utils import np_utils\n",
    "from sklearn.model_selection import train_test_split\n",
    "from keras.utils import to_categorical\n",
    "from sklearn.metrics import confusion_matrix\n",
    "\n",
    "from keras.datasets import mnist\n",
    "import keras\n",
    "\n",
    "from keras.layers import Conv2D,MaxPooling2D,Flatten\n",
    "from sklearn.externals import joblib\n",
    "\n"
   ]
  },
  {
   "cell_type": "code",
   "execution_count": 2,
   "metadata": {},
   "outputs": [],
   "source": [
    "def accuracy(test_data,test_target,model):\n",
    "    correct = 0\n",
    "    predicted = model.predict(test_data,verbose=True)\n",
    "    left = np.array(np.argmax(predicted,axis=1)).flatten()\n",
    "    right = np.argmax(test_target,axis=1)\n",
    "    confusion_mat = np.zeros((10,10))\n",
    "    for i in range(len(test_target)):\n",
    "        if(left[i] == right[i]):\n",
    "            correct+=1\n",
    "        confusion_mat[right[i]][left[i]] =confusion_mat[right[i]][left[i]] +1\n",
    "    return correct/len(test_target),pd.DataFrame(np.matrix(confusion_mat,dtype=\"int32\"))\n",
    "\n",
    "def more_metrics(conf_mat):\n",
    "    true_positives = 0\n",
    "    precision = []\n",
    "    recall = []\n",
    "    for i in range(len(conf_mat)):\n",
    "        true_positives += conf_mat.iloc[i,i]\n",
    "    conf_mat = np.matrix(conf_mat)\n",
    "    tp_fp = np.array(np.sum(conf_mat,axis=1)).ravel()\n",
    "    relevant_elements = np.array(np.sum(conf_mat,axis=0)).ravel()\n",
    "    for i in range(len(conf_mat)):\n",
    "        precision.append(conf_mat[i,i]/tp_fp[i])\n",
    "        recall.append(conf_mat[i,i]/relevant_elements[i])\n",
    "    return true_positives,precision,recall"
   ]
  },
  {
   "cell_type": "code",
   "execution_count": 3,
   "metadata": {},
   "outputs": [],
   "source": [
    "filename = '../mnist.pkl.gz'\n",
    "f = gzip.open(filename, 'rb')\n",
    "training_data, validation_data, test_data = pickle.load(f, encoding='latin1')\n",
    "f.close()\n",
    "train_data = np.append(training_data[0],validation_data[0],axis=0)\n",
    "train_target = np.append(training_data[1],validation_data[1],axis=0)\n",
    "train_target = keras.utils.to_categorical(train_target, 10)\n",
    "test_target = keras.utils.to_categorical(test_data[1], 10)\n",
    "test_data = test_data[0]"
   ]
  },
  {
   "cell_type": "code",
   "execution_count": 4,
   "metadata": {},
   "outputs": [],
   "source": [
    "image_vector_size = 28* 28\n",
    "train_data = train_data.reshape(train_data.shape[0], image_vector_size)\n",
    "test_data = test_data.reshape(test_data.shape[0], image_vector_size)\n",
    "num_classes =10"
   ]
  },
  {
   "cell_type": "code",
   "execution_count": 5,
   "metadata": {},
   "outputs": [
    {
     "name": "stdout",
     "output_type": "stream",
     "text": [
      "Processing for CNN\n"
     ]
    }
   ],
   "source": [
    "NNType = 'CNN'\n",
    "\n",
    "if(NNType=='CNN'):\n",
    "    print(\"Processing for CNN\")\n",
    "    filename = '../mnist.pkl.gz'\n",
    "    f = gzip.open(filename, 'rb')\n",
    "    training_data, validation_data, test_data = pickle.load(f, encoding='latin1')\n",
    "    num_classes = 10\n",
    "\n",
    "    x_train = np.append(training_data[0],validation_data[0],axis=0)\n",
    "    y_train = np.append(training_data[1],validation_data[1])\n",
    "    x_test = test_data[0]\n",
    "    y_test = test_data[1]\n",
    "\n",
    "    img_x, img_y = 28, 28\n",
    "    #(x_train, y_train), (x_test, y_test) = mnist.load_data()\n",
    "    x_train = x_train.reshape(x_train.shape[0], img_x, img_y, 1)\n",
    "    x_test = x_test.reshape(x_test.shape[0], img_x, img_y, 1)\n",
    "    input_shape = (img_x, img_y, 1)\n",
    "\n",
    "    # convert the data to the right type\n",
    "    x_train = x_train.astype('float32')\n",
    "    x_test = x_test.astype('float32')\n",
    "    x_train /= 255\n",
    "    x_test /= 255\n",
    "    #print('x_train shape:', x_train.shape)\n",
    "    #print(x_train.shape[0], 'train samples')\n",
    "    #print(x_test.shape[0], 'test samples')\n",
    "\n",
    "    y_train = keras.utils.to_categorical(y_train, num_classes)\n",
    "    y_test = keras.utils.to_categorical(y_test, num_classes)"
   ]
  },
  {
   "cell_type": "code",
   "execution_count": 25,
   "metadata": {},
   "outputs": [],
   "source": [
    "def baseline():\n",
    "    model = Sequential()\n",
    "    model.add(Dense(units=32, activation='sigmoid', input_shape=(image_vector_size,)))\n",
    "    model.add(Dense(units=num_classes, activation='softmax'))\n",
    "    model.compile(optimizer='sgd', loss='categorical_crossentropy',metrics=['accuracy'])\n",
    "    model.summary()\n",
    "    return model\n",
    "\n",
    "def highHidden():\n",
    "    drop_out = 0.1\n",
    "    model = Sequential()\n",
    "    model.add(Dense(units=32,activation='sigmoid',input_shape=(image_vector_size,)))\n",
    "    model.add(Activation('tanh'))\n",
    "    model.add(Dense(128, input_dim=image_vector_size))\n",
    "    model.add(Activation('relu'))\n",
    "    model.add(Dropout(drop_out))\n",
    "    model.add(Dense(128, input_dim=image_vector_size))\n",
    "    model.add(Dense(units=num_classes, activation='softmax'))\n",
    "\n",
    "    #sgd = optimizers.SGD(lr=0.001, momentum=0.0, decay=0.0, nesterov=False)\n",
    "    model.compile(optimizer='adam', loss='categorical_crossentropy',metrics=['accuracy'])    \n",
    "    model.summary()\n",
    "    return model\n",
    "\n",
    "def lowHidden():\n",
    "    model = Sequential()\n",
    "    model.add(Dense(units=1024,activation='tanh',input_shape=(image_vector_size,)))\n",
    "    model.add(Dense(2048,activation='relu',input_dim=image_vector_size))\n",
    "    model.add(Dense(units=num_classes, activation='softmax'))\n",
    "\n",
    "    #sgd = optimizers.SGD(lr=0.03, momentum=0.0, decay=0.0, nesterov=False)\n",
    "    model.compile(optimizer='adam', loss='categorical_crossentropy',metrics=['accuracy'])    \n",
    "    model.summary()\n",
    "    return model\n",
    "\n",
    "def conv():\n",
    "    model = Sequential()\n",
    "    model.add(Conv2D(512, kernel_size=(15, 15), strides=(1, 1),activation='tanh',input_shape=input_shape))\n",
    "    model.add(MaxPooling2D(pool_size=(10, 10), strides=(5, 5)))\n",
    "    model.add(Flatten())\n",
    "    model.add(Dense(1024, activation='tanh'))\n",
    "    model.add(Dense(2048, activation='relu'))\n",
    "    model.add(Dense(num_classes, activation='softmax'))\n",
    "    model.compile(optimizer='adam', loss='categorical_crossentropy',metrics=['accuracy'])\n",
    "    model.summary()\n",
    "    return model"
   ]
  },
  {
   "cell_type": "code",
   "execution_count": 26,
   "metadata": {},
   "outputs": [
    {
     "name": "stdout",
     "output_type": "stream",
     "text": [
      "_________________________________________________________________\n",
      "Layer (type)                 Output Shape              Param #   \n",
      "=================================================================\n",
      "conv2d_3 (Conv2D)            (None, 14, 14, 512)       115712    \n",
      "_________________________________________________________________\n",
      "max_pooling2d_3 (MaxPooling2 (None, 1, 1, 512)         0         \n",
      "_________________________________________________________________\n",
      "flatten_3 (Flatten)          (None, 512)               0         \n",
      "_________________________________________________________________\n",
      "dense_7 (Dense)              (None, 1024)              525312    \n",
      "_________________________________________________________________\n",
      "dense_8 (Dense)              (None, 2048)              2099200   \n",
      "_________________________________________________________________\n",
      "dense_9 (Dense)              (None, 10)                20490     \n",
      "=================================================================\n",
      "Total params: 2,760,714\n",
      "Trainable params: 2,760,714\n",
      "Non-trainable params: 0\n",
      "_________________________________________________________________\n"
     ]
    }
   ],
   "source": [
    "model = conv()"
   ]
  },
  {
   "cell_type": "code",
   "execution_count": 27,
   "metadata": {},
   "outputs": [
    {
     "name": "stdout",
     "output_type": "stream",
     "text": [
      "Processing for CNN\n",
      "Train on 54000 samples, validate on 6000 samples\n",
      "Epoch 1/150\n",
      "54000/54000 [==============================] - 68s 1ms/step - loss: 0.4492 - acc: 0.8488 - val_loss: 0.1090 - val_acc: 0.9705\n",
      "Epoch 2/150\n",
      "54000/54000 [==============================] - 67s 1ms/step - loss: 0.1169 - acc: 0.9626 - val_loss: 0.0859 - val_acc: 0.9722\n",
      "Epoch 3/150\n",
      "54000/54000 [==============================] - 67s 1ms/step - loss: 0.0894 - acc: 0.9718 - val_loss: 0.0680 - val_acc: 0.9795\n",
      "Epoch 4/150\n",
      "54000/54000 [==============================] - 67s 1ms/step - loss: 0.0725 - acc: 0.9768 - val_loss: 0.0578 - val_acc: 0.9835\n",
      "Epoch 5/150\n",
      "54000/54000 [==============================] - 67s 1ms/step - loss: 0.0667 - acc: 0.9790 - val_loss: 0.0713 - val_acc: 0.9800\n",
      "Epoch 6/150\n",
      "54000/54000 [==============================] - 67s 1ms/step - loss: 0.0570 - acc: 0.9817 - val_loss: 0.0640 - val_acc: 0.9815\n",
      "Epoch 7/150\n",
      "54000/54000 [==============================] - 67s 1ms/step - loss: 0.0570 - acc: 0.9824 - val_loss: 0.0764 - val_acc: 0.9780\n",
      "Epoch 8/150\n",
      "54000/54000 [==============================] - 67s 1ms/step - loss: 0.0528 - acc: 0.9832 - val_loss: 0.0375 - val_acc: 0.9888\n",
      "Epoch 9/150\n",
      "54000/54000 [==============================] - 67s 1ms/step - loss: 0.0454 - acc: 0.9857 - val_loss: 0.0417 - val_acc: 0.9870\n",
      "Epoch 10/150\n",
      "54000/54000 [==============================] - 67s 1ms/step - loss: 0.0441 - acc: 0.9862 - val_loss: 0.0395 - val_acc: 0.9887\n",
      "Epoch 11/150\n",
      "54000/54000 [==============================] - 67s 1ms/step - loss: 0.0431 - acc: 0.9859 - val_loss: 0.0461 - val_acc: 0.9865\n",
      "Epoch 12/150\n",
      "54000/54000 [==============================] - 67s 1ms/step - loss: 0.0380 - acc: 0.9880 - val_loss: 0.0571 - val_acc: 0.9830\n",
      "Epoch 13/150\n",
      "54000/54000 [==============================] - 67s 1ms/step - loss: 0.0341 - acc: 0.9889 - val_loss: 0.0434 - val_acc: 0.9868\n",
      "Epoch 00013: early stopping\n"
     ]
    }
   ],
   "source": [
    "if(NNType=='CNN'):\n",
    "    print(\"Processing for CNN\")\n",
    "    filename = '../mnist.pkl.gz'\n",
    "    f = gzip.open(filename, 'rb')\n",
    "    training_data, validation_data, test_data = pickle.load(f, encoding='latin1')\n",
    "    num_classes = 10\n",
    "\n",
    "    x_train = np.append(training_data[0],validation_data[0],axis=0)\n",
    "    y_train = np.append(training_data[1],validation_data[1])\n",
    "    x_test = test_data[0]\n",
    "    y_test = test_data[1]\n",
    "\n",
    "    img_x, img_y = 28, 28\n",
    "    #(x_train, y_train), (x_test, y_test) = mnist.load_data()\n",
    "    x_train = x_train.reshape(x_train.shape[0], img_x, img_y, 1)\n",
    "    x_test = x_test.reshape(x_test.shape[0], img_x, img_y, 1)\n",
    "    input_shape = (img_x, img_y, 1)\n",
    "\n",
    "    # convert the data to the right type\n",
    "    x_train = x_train.astype('float32')\n",
    "    x_test = x_test.astype('float32')\n",
    "    x_train /= 255\n",
    "    x_test /= 255\n",
    "    #print('x_train shape:', x_train.shape)\n",
    "    #print(x_train.shape[0], 'train samples')\n",
    "    #print(x_test.shape[0], 'test samples')\n",
    "\n",
    "    y_train = keras.utils.to_categorical(y_train, num_classes)\n",
    "    y_test = keras.utils.to_categorical(y_test, num_classes)\n",
    "    \n",
    "    earlystopping_cb = EarlyStopping(monitor='val_loss', verbose=1, \n",
    "                                 patience=5, mode='auto')\n",
    "    history = model.fit(x_train, y_train, \n",
    "                        batch_size=64,\n",
    "                        epochs=150,\n",
    "                        verbose=True,\n",
    "                        validation_split=.1,\n",
    "                        callbacks = [earlystopping_cb])"
   ]
  },
  {
   "cell_type": "code",
   "execution_count": 9,
   "metadata": {},
   "outputs": [
    {
     "ename": "ValueError",
     "evalue": "Error when checking input: expected conv2d_1_input to have 4 dimensions, but got array with shape (60000, 784)",
     "output_type": "error",
     "traceback": [
      "\u001b[0;31m---------------------------------------------------------------------------\u001b[0m",
      "\u001b[0;31mValueError\u001b[0m                                Traceback (most recent call last)",
      "\u001b[0;32m<ipython-input-9-3dde4376232d>\u001b[0m in \u001b[0;36m<module>\u001b[0;34m\u001b[0m\n\u001b[1;32m      7\u001b[0m                     \u001b[0mverbose\u001b[0m\u001b[0;34m=\u001b[0m\u001b[0;32mTrue\u001b[0m\u001b[0;34m,\u001b[0m\u001b[0;34m\u001b[0m\u001b[0m\n\u001b[1;32m      8\u001b[0m                     \u001b[0mvalidation_split\u001b[0m\u001b[0;34m=\u001b[0m\u001b[0;36m.1\u001b[0m\u001b[0;34m,\u001b[0m\u001b[0;34m\u001b[0m\u001b[0m\n\u001b[0;32m----> 9\u001b[0;31m                    callbacks = [earlystopping_cb])\n\u001b[0m",
      "\u001b[0;32m~/anaconda3/envs/tensorflow/lib/python3.6/site-packages/keras/engine/training.py\u001b[0m in \u001b[0;36mfit\u001b[0;34m(self, x, y, batch_size, epochs, verbose, callbacks, validation_split, validation_data, shuffle, class_weight, sample_weight, initial_epoch, steps_per_epoch, validation_steps, **kwargs)\u001b[0m\n\u001b[1;32m    950\u001b[0m             \u001b[0msample_weight\u001b[0m\u001b[0;34m=\u001b[0m\u001b[0msample_weight\u001b[0m\u001b[0;34m,\u001b[0m\u001b[0;34m\u001b[0m\u001b[0m\n\u001b[1;32m    951\u001b[0m             \u001b[0mclass_weight\u001b[0m\u001b[0;34m=\u001b[0m\u001b[0mclass_weight\u001b[0m\u001b[0;34m,\u001b[0m\u001b[0;34m\u001b[0m\u001b[0m\n\u001b[0;32m--> 952\u001b[0;31m             batch_size=batch_size)\n\u001b[0m\u001b[1;32m    953\u001b[0m         \u001b[0;31m# Prepare validation data.\u001b[0m\u001b[0;34m\u001b[0m\u001b[0;34m\u001b[0m\u001b[0m\n\u001b[1;32m    954\u001b[0m         \u001b[0mdo_validation\u001b[0m \u001b[0;34m=\u001b[0m \u001b[0;32mFalse\u001b[0m\u001b[0;34m\u001b[0m\u001b[0m\n",
      "\u001b[0;32m~/anaconda3/envs/tensorflow/lib/python3.6/site-packages/keras/engine/training.py\u001b[0m in \u001b[0;36m_standardize_user_data\u001b[0;34m(self, x, y, sample_weight, class_weight, check_array_lengths, batch_size)\u001b[0m\n\u001b[1;32m    749\u001b[0m             \u001b[0mfeed_input_shapes\u001b[0m\u001b[0;34m,\u001b[0m\u001b[0;34m\u001b[0m\u001b[0m\n\u001b[1;32m    750\u001b[0m             \u001b[0mcheck_batch_axis\u001b[0m\u001b[0;34m=\u001b[0m\u001b[0;32mFalse\u001b[0m\u001b[0;34m,\u001b[0m  \u001b[0;31m# Don't enforce the batch size.\u001b[0m\u001b[0;34m\u001b[0m\u001b[0m\n\u001b[0;32m--> 751\u001b[0;31m             exception_prefix='input')\n\u001b[0m\u001b[1;32m    752\u001b[0m \u001b[0;34m\u001b[0m\u001b[0m\n\u001b[1;32m    753\u001b[0m         \u001b[0;32mif\u001b[0m \u001b[0my\u001b[0m \u001b[0;32mis\u001b[0m \u001b[0;32mnot\u001b[0m \u001b[0;32mNone\u001b[0m\u001b[0;34m:\u001b[0m\u001b[0;34m\u001b[0m\u001b[0m\n",
      "\u001b[0;32m~/anaconda3/envs/tensorflow/lib/python3.6/site-packages/keras/engine/training_utils.py\u001b[0m in \u001b[0;36mstandardize_input_data\u001b[0;34m(data, names, shapes, check_batch_axis, exception_prefix)\u001b[0m\n\u001b[1;32m    126\u001b[0m                         \u001b[0;34m': expected '\u001b[0m \u001b[0;34m+\u001b[0m \u001b[0mnames\u001b[0m\u001b[0;34m[\u001b[0m\u001b[0mi\u001b[0m\u001b[0;34m]\u001b[0m \u001b[0;34m+\u001b[0m \u001b[0;34m' to have '\u001b[0m \u001b[0;34m+\u001b[0m\u001b[0;34m\u001b[0m\u001b[0m\n\u001b[1;32m    127\u001b[0m                         \u001b[0mstr\u001b[0m\u001b[0;34m(\u001b[0m\u001b[0mlen\u001b[0m\u001b[0;34m(\u001b[0m\u001b[0mshape\u001b[0m\u001b[0;34m)\u001b[0m\u001b[0;34m)\u001b[0m \u001b[0;34m+\u001b[0m \u001b[0;34m' dimensions, but got array '\u001b[0m\u001b[0;34m\u001b[0m\u001b[0m\n\u001b[0;32m--> 128\u001b[0;31m                         'with shape ' + str(data_shape))\n\u001b[0m\u001b[1;32m    129\u001b[0m                 \u001b[0;32mif\u001b[0m \u001b[0;32mnot\u001b[0m \u001b[0mcheck_batch_axis\u001b[0m\u001b[0;34m:\u001b[0m\u001b[0;34m\u001b[0m\u001b[0m\n\u001b[1;32m    130\u001b[0m                     \u001b[0mdata_shape\u001b[0m \u001b[0;34m=\u001b[0m \u001b[0mdata_shape\u001b[0m\u001b[0;34m[\u001b[0m\u001b[0;36m1\u001b[0m\u001b[0;34m:\u001b[0m\u001b[0;34m]\u001b[0m\u001b[0;34m\u001b[0m\u001b[0m\n",
      "\u001b[0;31mValueError\u001b[0m: Error when checking input: expected conv2d_1_input to have 4 dimensions, but got array with shape (60000, 784)"
     ]
    }
   ],
   "source": [
    "earlystopping_cb = EarlyStopping(monitor='val_loss', verbose=1, \n",
    "                                 patience=5, mode='auto')\n",
    "\n",
    "history = model.fit(train_data, train_target, \n",
    "                    batch_size=512, \n",
    "                    epochs=150,\n",
    "                    verbose=True,\n",
    "                    validation_split=.1,\n",
    "                   callbacks = [earlystopping_cb])"
   ]
  },
  {
   "cell_type": "code",
   "execution_count": 28,
   "metadata": {},
   "outputs": [
    {
     "name": "stdout",
     "output_type": "stream",
     "text": [
      "60000/60000 [==============================] - 29s 478us/step\n",
      "The Loss for Training is: 0.024853544017367193\n",
      "The Accuracy for Training is: 0.9918166666666667\n"
     ]
    }
   ],
   "source": [
    "if(NNType=='CNN'):\n",
    "    loss,acc = model.evaluate(x_train, y_train, verbose=True)\n",
    "    print(\"The Loss for Training is: \"+str(loss))\n",
    "    print(\"The Accuracy for Training is: \"+str(acc))\n",
    "else:\n",
    "    loss,acc = model.evaluate(train_data, train_target, verbose=True)\n",
    "    print(\"The Loss for Training is: \"+str(loss))\n",
    "    print(\"The Accuracy for Training is: \"+str(acc))"
   ]
  },
  {
   "cell_type": "code",
   "execution_count": 10,
   "metadata": {},
   "outputs": [
    {
     "data": {
      "text/plain": [
       "array([<matplotlib.axes._subplots.AxesSubplot object at 0x7f93f054d2b0>,\n",
       "       <matplotlib.axes._subplots.AxesSubplot object at 0x7f93ac21da58>,\n",
       "       <matplotlib.axes._subplots.AxesSubplot object at 0x7f93ac1c5b70>,\n",
       "       <matplotlib.axes._subplots.AxesSubplot object at 0x7f93ac1edc88>],\n",
       "      dtype=object)"
      ]
     },
     "execution_count": 10,
     "metadata": {},
     "output_type": "execute_result"
    },
    {
     "data": {
      "image/png": "[encoded data removed]",
      "text/plain": [
       "<Figure size 720x1080 with 4 Axes>"
      ]
     },
     "metadata": {
      "needs_background": "light"
     },
     "output_type": "display_data"
    }
   ],
   "source": [
    "%matplotlib inline\n",
    "df = pd.DataFrame(history.history)\n",
    "df.plot(subplots=True, grid=True, figsize=(10,15))"
   ]
  },
  {
   "cell_type": "code",
   "execution_count": 53,
   "metadata": {},
   "outputs": [],
   "source": [
    "#joblib.dump(model,'./models/DNN_lowHidden.joblib',compress=True)\n",
    "model = joblib.load('./models/DNN_lowHidden.joblib')"
   ]
  },
  {
   "cell_type": "markdown",
   "metadata": {},
   "source": [
    "# Pre Process USPS"
   ]
  },
  {
   "cell_type": "code",
   "execution_count": 14,
   "metadata": {},
   "outputs": [],
   "source": [
    "USPSMat  = []\n",
    "USPSTar  = []\n",
    "curPath  = '../USPSdata/Numerals'\n",
    "savedImg = []\n",
    "\n",
    "for j in range(0,10):\n",
    "    curFolderPath = curPath + '/' + str(j)\n",
    "    imgs =  os.listdir(curFolderPath)\n",
    "    for img in imgs:\n",
    "        curImg = curFolderPath + '/' + img\n",
    "        if curImg[-3:] == 'png':\n",
    "            img = Image.open(curImg,'r')\n",
    "            img = img.resize((28, 28))\n",
    "            savedImg = img\n",
    "            imgdata = (255-np.array(img.getdata()))/255\n",
    "            USPSMat.append(imgdata)\n",
    "            USPSTar.append(j)"
   ]
  },
  {
   "cell_type": "code",
   "execution_count": 15,
   "metadata": {},
   "outputs": [
    {
     "name": "stdout",
     "output_type": "stream",
     "text": [
      "Processing for CNN\n"
     ]
    }
   ],
   "source": [
    "if(NNType =='CNN'):\n",
    "    print(\"Processing for CNN\")\n",
    "    USPSMat  = []\n",
    "    USPSTar  = []\n",
    "    curPath  = '../USPSdata/Numerals'\n",
    "    savedImg = []\n",
    "\n",
    "    for j in range(0,10):\n",
    "        curFolderPath = curPath + '/' + str(j)\n",
    "        imgs =  os.listdir(curFolderPath)\n",
    "        for img in imgs:\n",
    "            curImg = curFolderPath + '/' + img\n",
    "            if curImg[-3:] == 'png':\n",
    "                img = Image.open(curImg,'r')\n",
    "                img = img.resize((28, 28))\n",
    "                img = np.asarray(img)\n",
    "                #savedImg = img\n",
    "                #imgdata = (255-np.array(img.getdata()))/255\n",
    "                USPSMat.append(img)\n",
    "                USPSTar.append(j)\n",
    "    USPSMat = np.asarray(USPSMat)\n",
    "    USPSMat = USPSMat.reshape(USPSMat.shape[0], 28, 28, 1)"
   ]
  },
  {
   "cell_type": "code",
   "execution_count": 16,
   "metadata": {},
   "outputs": [],
   "source": [
    "USPSTar = keras.utils.to_categorical(USPSTar, num_classes)"
   ]
  },
  {
   "cell_type": "code",
   "execution_count": 29,
   "metadata": {},
   "outputs": [
    {
     "name": "stdout",
     "output_type": "stream",
     "text": [
      "10000/10000 [==============================] - 5s 475us/step\n",
      "The Accuracy for Testing on MNIST is: 0.9844\n",
      "The Confusion Matrix is: \n",
      "     0     1     2     3    4    5    6     7    8    9\n",
      "0  972     0     0     0    0    2    1     3    2    0\n",
      "1    0  1124     0     1    3    1    4     0    2    0\n",
      "2    2     2  1010     6    2    0    3     6    1    0\n",
      "3    0     0     1  1004    0    4    0     0    1    0\n",
      "4    0     0     0     0  976    1    3     0    1    1\n",
      "5    0     0     0     3    0  887    1     1    0    0\n",
      "6    5     2     0     0    1   11  939     0    0    0\n",
      "7    0     5     4     6    0    2    0  1007    2    2\n",
      "8    0     0     1     2    0    8    0     1  962    0\n",
      "9    2     0     0     6   10   18    1     3    6  963\n",
      "The Precision & Recall is: \n",
      "      Recall  Precision\n",
      "0  99.183673  99.082569\n",
      "1  99.030837  99.205649\n",
      "2  97.868217  99.409449\n",
      "3  99.405941  97.665370\n",
      "4  99.389002  98.387097\n",
      "5  99.439462  94.967880\n",
      "6  98.016701  98.634454\n",
      "7  97.957198  98.628795\n",
      "8  98.767967  98.464688\n",
      "9  95.441031  99.689441\n"
     ]
    }
   ],
   "source": [
    "if(NNType =='CNN'):\n",
    "    acc,conf_mat = accuracy(x_test,y_test,model)\n",
    "    print(\"The Accuracy for Testing on MNIST is: \"+str(acc))\n",
    "    print(\"The Confusion Matrix is: \")\n",
    "    print(conf_mat)\n",
    "    _,precision,recall = more_metrics(pd.DataFrame(conf_mat))\n",
    "    print(\"The Precision & Recall is: \")\n",
    "    df = pd.DataFrame(np.multiply(precision,100))\n",
    "    df.columns = [\"Recall\"]\n",
    "    df1 = pd.DataFrame(np.multiply(recall,100))\n",
    "    df1.columns = [\"Precision\"]\n",
    "    print(pd.concat([df,df1],axis=1))\n",
    "else:\n",
    "    acc,conf_mat = accuracy(test_data,test_target,model)\n",
    "    print(\"The Accuracy for Testing on MNIST is: \"+str(acc))\n",
    "    print(\"The Confusion Matrix is: \")\n",
    "    print(conf_mat)\n",
    "    _,precision,recall = more_metrics(pd.DataFrame(conf_mat))\n",
    "    print(\"The Precision & Recall is: \")\n",
    "    df = pd.DataFrame(np.multiply(precision,100))\n",
    "    df.columns = [\"Recall\"]\n",
    "    df1 = pd.DataFrame(np.multiply(recall,100))\n",
    "    df1.columns = [\"Precision\"]\n",
    "    print(pd.concat([df,df1],axis=1))"
   ]
  },
  {
   "cell_type": "code",
   "execution_count": 30,
   "metadata": {},
   "outputs": [
    {
     "name": "stdout",
     "output_type": "stream",
     "text": [
      "19999/19999 [==============================] - 9s 471us/step\n",
      "The Accuracy for Testing on USPS is: 0.06975348767438372\n",
      "The Confusion Matrix is: \n",
      "      0  1  2  3  4    5     6  7   8  9\n",
      "0   287  0  0  1  4  301  1384  0  23  0\n",
      "1  1665  0  0  0  1   35   281  0  18  0\n",
      "2   836  0  0  0  1   25  1131  0   6  0\n",
      "3   305  0  0  0  0   79  1611  0   5  0\n",
      "4   397  0  0  0  1  567  1023  0  12  0\n",
      "5   224  0  0  0  1  312  1429  0  34  0\n",
      "6   992  0  0  0  3  232   744  0  29  0\n",
      "7  1229  2  0  0  1    9   757  0   2  0\n",
      "8   301  0  0  1  2  289  1356  0  51  0\n",
      "9   361  0  0  0  0  277  1348  0  14  0\n",
      "The Precision & Recall is: \n",
      "   Recall  Precision\n",
      "0   14.35   4.350462\n",
      "1    0.00   0.000000\n",
      "2    0.00        NaN\n",
      "3    0.00   0.000000\n",
      "4    0.05   7.142857\n",
      "5   15.60  14.675447\n",
      "6   37.20   6.724512\n",
      "7    0.00        NaN\n",
      "8    2.55  26.288660\n",
      "9    0.00        NaN\n"
     ]
    },
    {
     "name": "stderr",
     "output_type": "stream",
     "text": [
      "/home/ubuntu/anaconda3/envs/tensorflow/lib/python3.6/site-packages/ipykernel_launcher.py:24: RuntimeWarning: invalid value encountered in true_divide\n"
     ]
    }
   ],
   "source": [
    "acc,conf_mat = accuracy([USPSMat],USPSTar,model)\n",
    "print(\"The Accuracy for Testing on USPS is: \"+str(acc))\n",
    "print(\"The Confusion Matrix is: \")\n",
    "print(conf_mat)\n",
    "_,precision,recall = more_metrics(pd.DataFrame(conf_mat))\n",
    "print(\"The Precision & Recall is: \")\n",
    "df = pd.DataFrame(np.multiply(precision,100))\n",
    "df.columns = [\"Recall\"]\n",
    "df1 = pd.DataFrame(np.multiply(recall,100))\n",
    "df1.columns = [\"Precision\"]\n",
    "print(pd.concat([df,df1],axis=1))"
   ]
  },
  {
   "cell_type": "code",
   "execution_count": null,
   "metadata": {},
   "outputs": [],
   "source": [
    "16.8"
   ]
  }
 ],
 "metadata": {
  "kernelspec": {
   "display_name": "Python 3",
   "language": "python",
   "name": "python3"
  },
  "language_info": {
   "codemirror_mode": {
    "name": "ipython",
    "version": 3
   },
   "file_extension": ".py",
   "mimetype": "text/x-python",
   "name": "python",
   "nbconvert_exporter": "python",
   "pygments_lexer": "ipython3",
   "version": "3.6.6"
  }
 },
 "nbformat": 4,
 "nbformat_minor": 2
}
