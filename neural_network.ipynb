{
 "cells": [
  {
   "cell_type": "code",
   "execution_count": 152,
   "metadata": {},
   "outputs": [],
   "source": [
    "import pickle\n",
    "import gzip\n",
    "import pandas as pd\n",
    "from matplotlib import pyplot as plt\n",
    "from PIL import Image\n",
    "import os\n",
    "import numpy as np\n",
    "np.random.seed(666)\n",
    "\n",
    "from tensorflow import set_random_seed\n",
    "set_random_seed(125)\n",
    "\n",
    "from keras.models import Sequential\n",
    "from keras.layers import Dense, Activation, Dropout\n",
    "from keras.callbacks import EarlyStopping, TensorBoard\n",
    "from keras.utils import np_utils\n",
    "from sklearn.model_selection import train_test_split\n",
    "from keras.utils import to_categorical\n",
    "from sklearn.metrics import confusion_matrix\n",
    "\n",
    "from keras.datasets import mnist\n",
    "import keras\n",
    "\n",
    "from keras.layers import Conv2D,MaxPooling2D,Flatten\n",
    "from sklearn.externals import joblib\n",
    "\n"
   ]
  },
  {
   "cell_type": "code",
   "execution_count": 175,
   "metadata": {},
   "outputs": [],
   "source": [
    "def accuracy(test_data,test_target,model):\n",
    "    correct = 0\n",
    "    predicted = model.predict(test_data,verbose=True)\n",
    "    left = np.array(np.argmax(predicted,axis=1)).flatten()\n",
    "    right = np.argmax(test_target,axis=1)\n",
    "    confusion_mat = np.zeros((len(np.unique(right)),len(np.unique(left))))\n",
    "    for i in range(len(test_target)):\n",
    "        if(left[i] == right[i]):\n",
    "            correct+=1\n",
    "        confusion_mat[left[i]][right[i]] =confusion_mat[left[i]][right[i]] +1\n",
    "    return correct/len(test_target),pd.DataFrame(np.matrix(confusion_mat,dtype=\"int32\"))\n",
    "\n",
    "def more_metrics(conf_mat):\n",
    "    true_positives = 0\n",
    "    precision = []\n",
    "    recall = []\n",
    "    for i in range(len(conf_mat)):\n",
    "        true_positives += conf_mat.iloc[i,i]\n",
    "    conf_mat = np.matrix(conf_mat)\n",
    "    tp_fp = np.array(np.sum(conf_mat,axis=1)).ravel()\n",
    "    relevant_elements = np.array(np.sum(conf_mat,axis=0)).ravel()\n",
    "    for i in range(len(conf_mat)):\n",
    "        precision.append(conf_mat[i,i]/tp_fp[i])\n",
    "        recall.append(conf_mat[i,i]/relevant_elements[i])\n",
    "    return true_positives,precision,recall"
   ]
  },
  {
   "cell_type": "code",
   "execution_count": 104,
   "metadata": {},
   "outputs": [],
   "source": [
    "filename = '../mnist.pkl.gz'\n",
    "f = gzip.open(filename, 'rb')\n",
    "training_data, validation_data, test_data = pickle.load(f, encoding='latin1')\n",
    "f.close()\n",
    "train_data = np.append(training_data[0],validation_data[0],axis=0)\n",
    "train_target = np.append(training_data[1],validation_data[1],axis=0)\n",
    "train_target = keras.utils.to_categorical(train_target, 10)\n",
    "test_target = keras.utils.to_categorical(test_data[1], 10)\n",
    "test_data = test_data[0]"
   ]
  },
  {
   "cell_type": "code",
   "execution_count": 106,
   "metadata": {},
   "outputs": [],
   "source": [
    "image_vector_size = 28* 28\n",
    "train_data = train_data.reshape(train_data.shape[0], image_vector_size)\n",
    "test_data = test_data.reshape(test_data.shape[0], image_vector_size)\n"
   ]
  },
  {
   "cell_type": "code",
   "execution_count": 23,
   "metadata": {},
   "outputs": [],
   "source": [
    "def baseline():\n",
    "    model = Sequential()\n",
    "    model.add(Dense(units=32, activation='sigmoid', input_shape=(image_vector_size,)))\n",
    "    model.add(Dense(units=num_classes, activation='softmax'))\n",
    "    model.compile(optimizer='sgd', loss='categorical_crossentropy',metrics=['accuracy'])\n",
    "    model.summary()\n",
    "    return model\n",
    "\n",
    "def highHidden():\n",
    "    drop_out = 0.1\n",
    "    model = Sequential()\n",
    "    model.add(Dense(units=32,activation='sigmoid',input_shape=(image_vector_size,)))\n",
    "    model.add(Activation('tanh'))\n",
    "    model.add(Dense(128, input_dim=image_vector_size))\n",
    "    model.add(Activation('relu'))\n",
    "    model.add(Dropout(drop_out))\n",
    "    model.add(Dense(128, input_dim=image_vector_size))\n",
    "    model.add(Dense(units=num_classes, activation='softmax'))\n",
    "\n",
    "    #sgd = optimizers.SGD(lr=0.01, momentum=0.0, decay=0.0, nesterov=False)\n",
    "    model.compile(optimizer='adam', loss='categorical_crossentropy',metrics=['accuracy'])    \n",
    "    model.summary()\n",
    "    return model\n",
    "\n",
    "def lowHidden():\n",
    "    model = Sequential()\n",
    "    model.add(Dense(units=1024,activation='tanh',input_shape=(image_vector_size,)))\n",
    "    model.add(Dense(2048,activation='relu',input_dim=image_vector_size))\n",
    "    model.add(Dense(units=num_classes, activation='softmax'))\n",
    "\n",
    "    #sgd = optimizers.SGD(lr=0.01, momentum=0.0, decay=0.0, nesterov=False)\n",
    "    model.compile(optimizer='adam', loss='categorical_crossentropy',metrics=['accuracy'])    \n",
    "    model.summary()\n",
    "    return model\n",
    "\n",
    "def conv():\n",
    "    model = Sequential()\n",
    "    model.add(Conv2D(64, kernel_size=(5, 5), strides=(1, 1),activation='tanh',input_shape=input_shape))\n",
    "    model.add(MaxPooling2D(pool_size=(2, 2), strides=(2, 2)))\n",
    "    model.add(Flatten())\n",
    "    model.add(Dense(1024, activation='relu'))\n",
    "    model.add(Dense(num_classes, activation='softmax'))\n",
    "    model.compile(optimizer='adam', loss='categorical_crossentropy',metrics=['accuracy'])\n",
    "    model.summary()\n",
    "    return model"
   ]
  },
  {
   "cell_type": "code",
   "execution_count": 108,
   "metadata": {},
   "outputs": [
    {
     "name": "stdout",
     "output_type": "stream",
     "text": [
      "_________________________________________________________________\n",
      "Layer (type)                 Output Shape              Param #   \n",
      "=================================================================\n",
      "dense_4 (Dense)              (None, 1024)              803840    \n",
      "_________________________________________________________________\n",
      "dense_5 (Dense)              (None, 2048)              2099200   \n",
      "_________________________________________________________________\n",
      "dense_6 (Dense)              (None, 10)                20490     \n",
      "=================================================================\n",
      "Total params: 2,923,530\n",
      "Trainable params: 2,923,530\n",
      "Non-trainable params: 0\n",
      "_________________________________________________________________\n"
     ]
    }
   ],
   "source": [
    "model = lowHidden()"
   ]
  },
  {
   "cell_type": "code",
   "execution_count": 122,
   "metadata": {},
   "outputs": [],
   "source": [
    "NNType = 'DNN'\n",
    "\n",
    "if(NNType=='CNN'):\n",
    "    print(\"Processing for CNN\")\n",
    "    filename = '../mnist.pkl.gz'\n",
    "    f = gzip.open(filename, 'rb')\n",
    "    training_data, validation_data, test_data = pickle.load(f, encoding='latin1')\n",
    "    num_classes = 10\n",
    "\n",
    "    x_train = np.append(training_data[0],validation_data[0],axis=0)\n",
    "    y_train = np.append(training_data[1],validation_data[1])\n",
    "    x_test = test_data[0]\n",
    "    y_test = test_data[1]\n",
    "\n",
    "    img_x, img_y = 28, 28\n",
    "    #(x_train, y_train), (x_test, y_test) = mnist.load_data()\n",
    "    x_train = x_train.reshape(x_train.shape[0], img_x, img_y, 1)\n",
    "    x_test = x_test.reshape(x_test.shape[0], img_x, img_y, 1)\n",
    "    input_shape = (img_x, img_y, 1)\n",
    "\n",
    "    # convert the data to the right type\n",
    "    x_train = x_train.astype('float32')\n",
    "    x_test = x_test.astype('float32')\n",
    "    x_train /= 255\n",
    "    x_test /= 255\n",
    "    #print('x_train shape:', x_train.shape)\n",
    "    #print(x_train.shape[0], 'train samples')\n",
    "    #print(x_test.shape[0], 'test samples')\n",
    "\n",
    "    y_train = keras.utils.to_categorical(y_train, num_classes)\n",
    "    y_test = keras.utils.to_categorical(y_test, num_classes)\n",
    "    \n",
    "    earlystopping_cb = EarlyStopping(monitor='val_loss', verbose=1, \n",
    "                                 patience=20, mode='auto')\n",
    "    history = model.fit(x_train, y_train, \n",
    "                        batch_size=128,\n",
    "                        epochs=150,\n",
    "                        verbose=True,\n",
    "                        validation_split=.1,\n",
    "                        callbacks = [earlystopping_cb])"
   ]
  },
  {
   "cell_type": "code",
   "execution_count": 190,
   "metadata": {},
   "outputs": [
    {
     "name": "stdout",
     "output_type": "stream",
     "text": [
      "Train on 54000 samples, validate on 6000 samples\n",
      "Epoch 1/150\n",
      "54000/54000 [==============================] - 12s 222us/step - loss: 0.0092 - acc: 0.9987 - val_loss: 0.2045 - val_acc: 0.9823\n",
      "Epoch 2/150\n",
      "54000/54000 [==============================] - 12s 222us/step - loss: 0.0140 - acc: 0.9982 - val_loss: 0.1782 - val_acc: 0.9838\n",
      "Epoch 3/150\n",
      "54000/54000 [==============================] - 12s 223us/step - loss: 0.0086 - acc: 0.9986 - val_loss: 0.1735 - val_acc: 0.9853\n",
      "Epoch 4/150\n",
      "54000/54000 [==============================] - 12s 222us/step - loss: 0.0064 - acc: 0.9991 - val_loss: 0.1687 - val_acc: 0.9852\n",
      "Epoch 5/150\n",
      "54000/54000 [==============================] - 12s 222us/step - loss: 0.0123 - acc: 0.9985 - val_loss: 0.2013 - val_acc: 0.9825\n",
      "Epoch 6/150\n",
      "54000/54000 [==============================] - 12s 222us/step - loss: 0.0099 - acc: 0.9986 - val_loss: 0.1704 - val_acc: 0.9862\n",
      "Epoch 7/150\n",
      "54000/54000 [==============================] - 12s 222us/step - loss: 0.0114 - acc: 0.9985 - val_loss: 0.1645 - val_acc: 0.9865\n",
      "Epoch 8/150\n",
      "54000/54000 [==============================] - 12s 222us/step - loss: 0.0132 - acc: 0.9984 - val_loss: 0.1835 - val_acc: 0.9850\n",
      "Epoch 9/150\n",
      "54000/54000 [==============================] - 12s 223us/step - loss: 0.0105 - acc: 0.9986 - val_loss: 0.1956 - val_acc: 0.9837\n",
      "Epoch 10/150\n",
      "54000/54000 [==============================] - 12s 223us/step - loss: 0.0167 - acc: 0.9981 - val_loss: 0.1985 - val_acc: 0.9833\n",
      "Epoch 11/150\n",
      "54000/54000 [==============================] - 12s 223us/step - loss: 0.0177 - acc: 0.9980 - val_loss: 0.1790 - val_acc: 0.9847\n",
      "Epoch 12/150\n",
      "54000/54000 [==============================] - 12s 223us/step - loss: 0.0077 - acc: 0.9989 - val_loss: 0.1955 - val_acc: 0.9840\n",
      "Epoch 00012: early stopping\n"
     ]
    }
   ],
   "source": [
    "earlystopping_cb = EarlyStopping(monitor='val_loss', verbose=1, \n",
    "                                 patience=5, mode='auto')\n",
    "\n",
    "history = model.fit(train_data, train_target, \n",
    "                    batch_size=128, \n",
    "                    epochs=150,\n",
    "                    verbose=True,\n",
    "                    validation_split=.1,\n",
    "                   callbacks = [earlystopping_cb])"
   ]
  },
  {
   "cell_type": "code",
   "execution_count": 191,
   "metadata": {},
   "outputs": [
    {
     "name": "stdout",
     "output_type": "stream",
     "text": [
      "60000/60000 [==============================] - 6s 93us/step\n",
      "The Loss for Training is: 0.024260458143711427\n",
      "The Accuracy for Training is: 0.9977333333333334\n"
     ]
    }
   ],
   "source": [
    "loss,acc = model.evaluate(train_data, train_target, verbose=True)\n",
    "print(\"The Loss for Training is: \"+str(loss))\n",
    "print(\"The Accuracy for Training is: \"+str(acc))"
   ]
  },
  {
   "cell_type": "code",
   "execution_count": 187,
   "metadata": {},
   "outputs": [
    {
     "data": {
      "text/plain": [
       "array([<matplotlib.axes._subplots.AxesSubplot object at 0x7f6cab6655f8>,\n",
       "       <matplotlib.axes._subplots.AxesSubplot object at 0x7f6cab6af908>,\n",
       "       <matplotlib.axes._subplots.AxesSubplot object at 0x7f6cab6fbcc0>,\n",
       "       <matplotlib.axes._subplots.AxesSubplot object at 0x7f6cab6c7f98>],\n",
       "      dtype=object)"
      ]
     },
     "execution_count": 187,
     "metadata": {},
     "output_type": "execute_result"
    },
    {
     "data": {
      "image/png": "[encoded data removed]",
      "text/plain": [
       "<Figure size 720x1080 with 4 Axes>"
      ]
     },
     "metadata": {
      "needs_background": "light"
     },
     "output_type": "display_data"
    }
   ],
   "source": [
    "%matplotlib inline\n",
    "df = pd.DataFrame(history.history)\n",
    "df.plot(subplots=True, grid=True, figsize=(10,15))"
   ]
  },
  {
   "cell_type": "code",
   "execution_count": 158,
   "metadata": {},
   "outputs": [],
   "source": [
    "#joblib.dump(model,'./models/DNN_lowHidden.joblib',compress=True)\n",
    "#model = joblib.load('./models/DNN_lowHidden.joblib')"
   ]
  },
  {
   "cell_type": "markdown",
   "metadata": {},
   "source": [
    "# Pre Process USPS"
   ]
  },
  {
   "cell_type": "code",
   "execution_count": 162,
   "metadata": {},
   "outputs": [],
   "source": [
    "USPSMat  = []\n",
    "USPSTar  = []\n",
    "curPath  = '../USPSdata/Numerals'\n",
    "savedImg = []\n",
    "\n",
    "for j in range(0,10):\n",
    "    curFolderPath = curPath + '/' + str(j)\n",
    "    imgs =  os.listdir(curFolderPath)\n",
    "    for img in imgs:\n",
    "        curImg = curFolderPath + '/' + img\n",
    "        if curImg[-3:] == 'png':\n",
    "            img = Image.open(curImg,'r')\n",
    "            img = img.resize((28, 28))\n",
    "            savedImg = img\n",
    "            imgdata = (255-np.array(img.getdata()))/255\n",
    "            USPSMat.append(imgdata)\n",
    "            USPSTar.append(j)"
   ]
  },
  {
   "cell_type": "code",
   "execution_count": 163,
   "metadata": {},
   "outputs": [],
   "source": [
    "if(NNType =='CNN'):\n",
    "    print(\"Processing for CNN\")\n",
    "    USPSMat  = []\n",
    "    USPSTar  = []\n",
    "    curPath  = '../USPSdata/Numerals'\n",
    "    savedImg = []\n",
    "\n",
    "    for j in range(0,10):\n",
    "        curFolderPath = curPath + '/' + str(j)\n",
    "        imgs =  os.listdir(curFolderPath)\n",
    "        for img in imgs:\n",
    "            curImg = curFolderPath + '/' + img\n",
    "            if curImg[-3:] == 'png':\n",
    "                img = Image.open(curImg,'r')\n",
    "                img = img.resize((28, 28))\n",
    "                img = np.asarray(img)\n",
    "                #savedImg = img\n",
    "                #imgdata = (255-np.array(img.getdata()))/255\n",
    "                USPSMat.append(img)\n",
    "                USPSTar.append(j)\n",
    "    USPSMat = np.asarray(USPSMat)\n",
    "    USPSMat = USPSMat.reshape(USPSMat.shape[0], 28, 28, 1)"
   ]
  },
  {
   "cell_type": "code",
   "execution_count": 164,
   "metadata": {},
   "outputs": [],
   "source": [
    "USPSTar = keras.utils.to_categorical(USPSTar, num_classes)"
   ]
  },
  {
   "cell_type": "code",
   "execution_count": 188,
   "metadata": {},
   "outputs": [
    {
     "name": "stdout",
     "output_type": "stream",
     "text": [
      "10000/10000 [==============================] - 1s 87us/step\n",
      "The Accuracy for Testing on MNIST is: 0.985\n",
      "The Confusion Matrix is: \n",
      "     0     1     2    3    4    5    6     7    8    9\n",
      "0  971     0     1    1    1    2    3     0    1    0\n",
      "1    0  1130     0    0    0    1    2     4    0    2\n",
      "2    1     2  1024    6    2    0    1     8    3    1\n",
      "3    2     1     0  992    1   13    1     1    6    3\n",
      "4    1     0     0    0  968    1    1     1    1   10\n",
      "5    0     0     0    3    1  868    2     0    2    4\n",
      "6    3     1     0    0    1    4  948     0    2    0\n",
      "7    0     0     5    2    1    1    0  1009    2    2\n",
      "8    1     1     2    2    1    1    0     1  954    1\n",
      "9    1     0     0    4    6    1    0     4    3  986\n",
      "The Precision & Recall is: \n",
      "   Precision     Recall\n",
      "0  99.081633  99.081633\n",
      "1  99.209833  99.559471\n",
      "2  97.709924  99.224806\n",
      "3  97.254902  98.217822\n",
      "4  98.474059  98.574338\n",
      "5  98.636364  97.309417\n",
      "6  98.852972  98.956159\n",
      "7  98.727984  98.151751\n",
      "8  98.962656  97.946612\n",
      "9  98.109453  97.720515\n"
     ]
    }
   ],
   "source": [
    "acc,conf_mat = accuracy(test_data,test_target,model)\n",
    "print(\"The Accuracy for Testing on MNIST is: \"+str(acc))\n",
    "print(\"The Confusion Matrix is: \")\n",
    "print(conf_mat)\n",
    "_,precision,recall = more_metrics(pd.DataFrame(conf_mat))\n",
    "print(\"The Precision & Recall is: \")\n",
    "df = pd.DataFrame(np.multiply(precision,100))\n",
    "df.columns = [\"Precision\"]\n",
    "df1 = pd.DataFrame(np.multiply(recall,100))\n",
    "df1.columns = [\"Recall\"]\n",
    "print(pd.concat([df,df1],axis=1))"
   ]
  },
  {
   "cell_type": "code",
   "execution_count": 189,
   "metadata": {},
   "outputs": [
    {
     "name": "stdout",
     "output_type": "stream",
     "text": [
      "19999/19999 [==============================] - 2s 87us/step\n",
      "The Accuracy for Testing on USPS is: 0.5105255262763139\n",
      "The Confusion Matrix is: \n",
      "     0    1     2     3     4     5     6    7    8    9\n",
      "0  684   31    29     7    10    40    97   22  137    8\n",
      "1    4  686     8     6   102     2     8  197    6  102\n",
      "2  174  287  1705   117    69   150   351  357  185  157\n",
      "3  133  150    86  1651    40   133   102  541  417  440\n",
      "4  280  237    15     6  1222    11    69   35   90  159\n",
      "5  179   48    49   166   111  1563   203   26  341   39\n",
      "6   85   77    38     6    30     6  1035   15   67    8\n",
      "7  145  356    35    16   191    22    29  723   57  502\n",
      "8   22   57    30    22   184    63    37   78  666  310\n",
      "9  294   71     4     3    41    10    69    6   34  275\n",
      "The Precision & Recall is: \n",
      "   Precision     Recall\n",
      "0  64.225352  34.200000\n",
      "1  61.195361  34.300000\n",
      "2  48.001126  85.292646\n",
      "3  44.706201  82.550000\n",
      "4  57.532957  61.100000\n",
      "5  57.357798  78.150000\n",
      "6  75.713241  51.750000\n",
      "7  34.826590  36.150000\n",
      "8  45.336964  33.300000\n",
      "9  34.076828  13.750000\n"
     ]
    }
   ],
   "source": [
    "acc,conf_mat = accuracy([USPSMat],USPSTar,model)\n",
    "print(\"The Accuracy for Testing on USPS is: \"+str(acc))\n",
    "print(\"The Confusion Matrix is: \")\n",
    "print(conf_mat)\n",
    "_,precision,recall = more_metrics(pd.DataFrame(conf_mat))\n",
    "print(\"The Precision & Recall is: \")\n",
    "df = pd.DataFrame(np.multiply(precision,100))\n",
    "df.columns = [\"Precision\"]\n",
    "df1 = pd.DataFrame(np.multiply(recall,100))\n",
    "df1.columns = [\"Recall\"]\n",
    "print(pd.concat([df,df1],axis=1))"
   ]
  },
  {
   "cell_type": "code",
   "execution_count": null,
   "metadata": {},
   "outputs": [],
   "source": [
    "model.predict([USPSMat],verbose=True)"
   ]
  },
  {
   "cell_type": "code",
   "execution_count": null,
   "metadata": {},
   "outputs": [],
   "source": []
  }
 ],
 "metadata": {
  "kernelspec": {
   "display_name": "Python 3",
   "language": "python",
   "name": "python3"
  },
  "language_info": {
   "codemirror_mode": {
    "name": "ipython",
    "version": 3
   },
   "file_extension": ".py",
   "mimetype": "text/x-python",
   "name": "python",
   "nbconvert_exporter": "python",
   "pygments_lexer": "ipython3",
   "version": "3.6.6"
  }
 },
 "nbformat": 4,
 "nbformat_minor": 2
}
