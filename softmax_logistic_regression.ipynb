{
 "cells": [
  {
   "cell_type": "code",
   "execution_count": 10,
   "metadata": {},
   "outputs": [],
   "source": [
    "import pickle\n",
    "import gzip\n",
    "import numpy as np\n",
    "import pandas as pd\n",
    "from sklearn.preprocessing import StandardScaler\n",
    "from matplotlib import pyplot as plt\n",
    "from PIL import Image\n",
    "import os\n",
    "import numpy as np\n",
    "np.random.seed(666)"
   ]
  },
  {
   "cell_type": "code",
   "execution_count": 2,
   "metadata": {},
   "outputs": [],
   "source": [
    "filename = '../mnist.pkl.gz'\n",
    "f = gzip.open(filename, 'rb')\n",
    "training_data, validation_data, test_data = pickle.load(f, encoding='latin1')\n",
    "f.close()"
   ]
  },
  {
   "cell_type": "code",
   "execution_count": 3,
   "metadata": {},
   "outputs": [],
   "source": [
    "# Functions\n",
    "def one_hot_vect(tuple_data,classes):\n",
    "    one_hot_encoded=np.zeros((len(tuple_data[1]),len(classes)))\n",
    "    identity = np.identity(len(classes))\n",
    "    for i in range(len(tuple_data[1])):\n",
    "        one_hot_encoded[i] = np.add(one_hot_encoded[i],identity[tuple_data[1][i]])\n",
    "    return one_hot_encoded\n",
    "\n",
    "def softmax(weights,train_data):\n",
    "    bias = np.ones((np.shape(train_data)[0],1))\n",
    "    train_withBias = np.hstack((train_data,bias))\n",
    "    num = np.dot(weights,train_withBias.T)\n",
    "    # High value Fix\n",
    "    # https://houxianxu.github.io/2015/04/23/logistic-softmax-regression/\n",
    "    num = np.subtract(num,np.max(num,axis=0))\n",
    "    num = np.exp(num)\n",
    "    # Fix softmax when using batch size 1 the dimension of deno changes\n",
    "    if(len(train_data) == 1):\n",
    "        deno = np.sum(num,axis=0)\n",
    "    else:\n",
    "        deno = np.sum(num,axis=1)\n",
    "        deno = deno.reshape((10,1))\n",
    "    return np.divide(num,deno)\n",
    "\n",
    "def cross_entropy_error(predicted,target):\n",
    "    right = np.log(predicted+ 1/10**30)\n",
    "    loss = np.multiply(np.matrix(target),np.transpose(np.matrix(right)))\n",
    "    return -np.sum(np.sum(loss,axis=1),axis=0)\n",
    "\n",
    "def batch_gradient(predicted,train_data,target):\n",
    "    leftleft = np.transpose(predicted)\n",
    "    left = np.subtract(leftleft,target)\n",
    "    bias = np.ones((np.shape(train_data)[0],1))\n",
    "    train_withBias = np.hstack((train_data,bias))\n",
    "    gradient = np.dot(left.T,train_withBias)\n",
    "    gradient = gradient/len(train_data)\n",
    "    return np.matrix(gradient,dtype=\"float64\")\n",
    "\n",
    "def accuracy(predicted,target):\n",
    "    correct = 0\n",
    "    left = np.array(np.argmax(predicted,axis=0)).flatten()\n",
    "    right = np.argmax(target,axis=1)\n",
    "    confusion_mat = np.zeros((len(np.unique(right)),len(np.unique(left))))\n",
    "    for i in range(len(target)):\n",
    "        if(left[i] == right[i]):\n",
    "            correct+=1\n",
    "        confusion_mat[left[i]][right[i]] =confusion_mat[left[i]][right[i]] +1\n",
    "    return correct/len(target),pd.DataFrame(np.matrix(confusion_mat,dtype=\"int32\"))\n",
    "\n",
    "def more_metrics(conf_mat):\n",
    "    true_positives = 0\n",
    "    precision = []\n",
    "    recall = []\n",
    "    for i in range(len(conf_mat)):\n",
    "        true_positives += conf_mat.iloc[i,i]\n",
    "    conf_mat = np.matrix(conf_mat)\n",
    "    tp_fp = np.array(np.sum(conf_mat,axis=1)).ravel()\n",
    "    relevant_elements = np.array(np.sum(conf_mat,axis=0)).ravel()\n",
    "    for i in range(len(conf_mat)):\n",
    "        precision.append(conf_mat[i,i]/tp_fp[i])\n",
    "        recall.append(conf_mat[i,i]/relevant_elements[i])\n",
    "    return true_positives,precision,recall\n",
    "\n",
    "def epoch_shuffle(processed_train_data,target):\n",
    "    # Merge\n",
    "    trainDF = pd.DataFrame(processed_train_data)\n",
    "    targetDF = pd.DataFrame(target)\n",
    "    result = pd.concat([trainDF.reset_index(),targetDF.reset_index()],join='inner',axis=1)\n",
    "    result = result.sample(frac=1)\n",
    "    \n",
    "    return np.asarray(result.iloc[:,1:np.shape(trainDF)[1]+1]),np.asarray(result.iloc[:,np.shape(trainDF)[1]+2:])"
   ]
  },
  {
   "cell_type": "code",
   "execution_count": 4,
   "metadata": {},
   "outputs": [],
   "source": [
    "# Fixed Var\n",
    "classes = np.unique(training_data[1])\n",
    "weights = np.random.randn(len(classes), np.shape(training_data[0])[1]+1) * 0.001\n",
    "train_data = training_data[0]"
   ]
  },
  {
   "cell_type": "code",
   "execution_count": 5,
   "metadata": {},
   "outputs": [],
   "source": [
    "target = one_hot_vect(training_data,classes)\n",
    "target_val = one_hot_vect(validation_data,classes)\n",
    "target_test = one_hot_vect(test_data,classes)\n",
    "scaler = StandardScaler()\n",
    "scaler.fit(train_data)\n",
    "processed_train_data = scaler.transform(train_data)\n",
    "scaler.fit(validation_data[0])\n",
    "processed_val_data = scaler.transform(validation_data[0])\n",
    "scaler.fit(test_data[0])\n",
    "processed_test_data = scaler.transform(test_data[0])"
   ]
  },
  {
   "cell_type": "code",
   "execution_count": 6,
   "metadata": {},
   "outputs": [
    {
     "name": "stdout",
     "output_type": "stream",
     "text": [
      "Cost after Epoch: 444485.60814204026\n",
      "Val Acc: 0.9133\n",
      "Train Acc: 0.90652\n",
      "Cost after Epoch: 442570.4953225428\n",
      "Val Acc: 0.9199\n",
      "Train Acc: 0.91648\n",
      "Cost after Epoch: 441727.63461500575\n",
      "Val Acc: 0.9221\n",
      "Train Acc: 0.91986\n",
      "Cost after Epoch: 441178.8726085518\n",
      "Val Acc: 0.9242\n",
      "Train Acc: 0.9225\n",
      "Cost after Epoch: 440891.2580628709\n",
      "Val Acc: 0.9255\n",
      "Train Acc: 0.92362\n",
      "Cost after Epoch: 440567.9224676473\n",
      "Val Acc: 0.9258\n",
      "Train Acc: 0.92606\n",
      "Cost after Epoch: 440361.4678738564\n",
      "Val Acc: 0.9259\n",
      "Train Acc: 0.92696\n",
      "Cost after Epoch: 440192.3217455582\n",
      "Val Acc: 0.9274\n",
      "Train Acc: 0.92796\n",
      "Cost after Epoch: 440029.4262212026\n",
      "Val Acc: 0.9261\n",
      "Train Acc: 0.92856\n",
      "Cost after Epoch: 439932.53451414785\n",
      "Val Acc: 0.9261\n",
      "Train Acc: 0.92896\n",
      "Cost after Epoch: 439798.71011547773\n",
      "Val Acc: 0.9271\n",
      "Train Acc: 0.92992\n",
      "Cost after Epoch: 439742.17929687235\n",
      "Val Acc: 0.927\n",
      "Train Acc: 0.9301\n",
      "Cost after Epoch: 439612.34039090533\n",
      "Val Acc: 0.9272\n",
      "Train Acc: 0.93076\n",
      "Cost after Epoch: 439559.9850890138\n",
      "Val Acc: 0.927\n",
      "Train Acc: 0.93112\n",
      "Cost after Epoch: 439465.7681467665\n",
      "Val Acc: 0.9276\n",
      "Train Acc: 0.93234\n",
      "Cost after Epoch: 439392.3869761648\n",
      "Val Acc: 0.9282\n",
      "Train Acc: 0.93254\n"
     ]
    }
   ],
   "source": [
    "i = 0\n",
    "batchSize = 1\n",
    "start = 0\n",
    "end = batchSize\n",
    "batches = len(processed_train_data)/batchSize\n",
    "weights = np.random.randn(len(classes), np.shape(training_data[0])[1]+1) * 0.001\n",
    "predicted = softmax(weights,processed_train_data[start:end,:])\n",
    "cost_initial = np.asscalar(cross_entropy_error(softmax(weights,processed_train_data),target))\n",
    "cost_new = cost_initial*0.1\n",
    "train_acc = 0\n",
    "log_training_loss =[]\n",
    "log_val_loss=[]\n",
    "log_training_acc =[]\n",
    "log_val_acc=[]\n",
    "logging=True\n",
    "while(cost_initial-cost_new > 10):\n",
    "    i = 0\n",
    "    start = 0\n",
    "    end = batchSize\n",
    "    while(i<batches-1):\n",
    "        #print(\"Percentage Done: \"+str(i/batches))\n",
    "        new_weights = batch_gradient(predicted,processed_train_data[start:end,:],target[start:end,:])\n",
    "        weights = weights - 0.0003*new_weights\n",
    "        if(logging and i%2500==0):\n",
    "            # Predict Train & Validation for these weights\n",
    "            predict_val = softmax(weights,processed_val_data)\n",
    "            # Calculate cost of predicting Validation and Training, To see if the hyper param are working\n",
    "            acc,_  = accuracy(predict_val,target_val)\n",
    "            log_val_acc.append(acc)\n",
    "            log_val_loss.append(np.asscalar(cross_entropy_error(predict_val,target_val)))\n",
    "            predict_train = softmax(weights,processed_train_data)\n",
    "            acc,_  = accuracy(predict_train,target)\n",
    "            log_training_acc.append(acc)\n",
    "            log_training_loss.append(np.asscalar(cross_entropy_error(predict_train,target)))\n",
    "        #print(\"Training Loss: \"+str(cost))\n",
    "        start = start + batchSize\n",
    "        end = end + batchSize\n",
    "        # New Prediction for the data\n",
    "        predicted = softmax(weights,processed_train_data[start:end,:])\n",
    "        i = i+1\n",
    "    cost_initital = cost_new\n",
    "    pred_train = softmax(weights,processed_train_data)\n",
    "    cost_new = np.asscalar(cross_entropy_error(pred_train,target))\n",
    "    predict_val = softmax(weights,processed_val_data)\n",
    "    val_acc,_ = accuracy(predict_val,target_val)\n",
    "    train_acc_old = train_acc\n",
    "    train_acc,_ = accuracy(pred_train,target)\n",
    "    if(float(train_acc) - float(train_acc_old) < 0.000001 ):\n",
    "        # Early stopping where just cost is changing but accuracy is stuck\n",
    "        break\n",
    "    print(\"Cost after Epoch: \"+str(cost_new))\n",
    "    print(\"Val Acc: \"+str(val_acc))\n",
    "    print(\"Train Acc: \"+str(train_acc))\n",
    "    processed_train_data,target = epoch_shuffle(processed_train_data,target)"
   ]
  },
  {
   "cell_type": "code",
   "execution_count": 7,
   "metadata": {},
   "outputs": [
    {
     "data": {
      "image/png": "[encoded data removed]",
      "text/plain": [
       "<Figure size 432x288 with 1 Axes>"
      ]
     },
     "metadata": {
      "needs_background": "light"
     },
     "output_type": "display_data"
    }
   ],
   "source": [
    "df = pd.DataFrame(log_training_loss)\n",
    "ax = df.plot()\n",
    "ax.ticklabel_format(useOffset=False)\n",
    "plt.savefig('./train_loss.png',bbox_inches='tight')\n",
    "plt.show(ax)"
   ]
  },
  {
   "cell_type": "code",
   "execution_count": 9,
   "metadata": {},
   "outputs": [
    {
     "data": {
      "image/png": "[encoded data removed]",
      "text/plain": [
       "<Figure size 1080x1080 with 1 Axes>"
      ]
     },
     "metadata": {
      "needs_background": "light"
     },
     "output_type": "display_data"
    }
   ],
   "source": [
    "df = pd.DataFrame(log_val_loss)\n",
    "ax = df.plot(figsize=(15,15))\n",
    "ax.ticklabel_format(useOffset=False)\n",
    "plt.savefig('./val_loss.png',bbox_inches='tight')\n",
    "plt.show(ax)"
   ]
  },
  {
   "cell_type": "code",
   "execution_count": 12,
   "metadata": {},
   "outputs": [
    {
     "name": "stdout",
     "output_type": "stream",
     "text": [
      "The Accuracy for Validation is: 0.9278\n",
      "The Confusion Matrix is: \n",
      "     0     1    2    3    4    5    6     7    8    9\n",
      "0  964     0    3    5    1   11    4     5    4    4\n",
      "1    0  1044   12    3   10    2    4     5   31    5\n",
      "2    6     4  896   13    3   13    7     5    6    2\n",
      "3    1     2   15  920    2   32    0     8   19    8\n",
      "4    4     1   11    1  929    7    6     5    2   27\n",
      "5    4     4    6   44    0  797    7     0   24    7\n",
      "6    6     0    6    3    6   23  936     0    4    1\n",
      "7    3     1   15    5    5    6    1  1033    8   32\n",
      "8    3     7   22   26    2   20    2     1  889    5\n",
      "9    0     1    4   10   25    4    0    28   22  870\n",
      "The Precision & Recall is: \n",
      "   Precision     Recall\n",
      "0  96.303696  97.275479\n",
      "1  93.548387  98.120301\n",
      "2  93.821990  90.505051\n",
      "3  91.360477  89.320388\n",
      "4  93.554884  94.506612\n",
      "5  89.249720  87.103825\n",
      "6  95.025381  96.794209\n",
      "7  93.146979  94.770642\n",
      "8  90.992835  88.107037\n",
      "9  90.248963  90.530697\n"
     ]
    }
   ],
   "source": [
    "predict_val = softmax(weights,processed_val_data)\n",
    "acc,conf_mat = accuracy(predict_val,target_val)\n",
    "print(\"The Accuracy for Validation is: \"+str(acc))\n",
    "print(\"The Confusion Matrix is: \")\n",
    "print(pd.DataFrame(conf_mat))\n",
    "_,precision,recall = more_metrics(pd.DataFrame(conf_mat))\n",
    "print(\"The Precision & Recall is: \")\n",
    "df = pd.DataFrame(np.multiply(precision,100))\n",
    "df.columns = [\"Precision\"]\n",
    "df1 = pd.DataFrame(np.multiply(recall,100))\n",
    "df1.columns = [\"Recall\"]\n",
    "print(pd.concat([df,df1],axis=1))"
   ]
  },
  {
   "cell_type": "code",
   "execution_count": 14,
   "metadata": {},
   "outputs": [],
   "source": [
    "np.savetxt('./models/logisticModel', weights)"
   ]
  },
  {
   "cell_type": "markdown",
   "metadata": {
    "collapsed": true
   },
   "source": [
    "# USPS Data Test"
   ]
  },
  {
   "cell_type": "code",
   "execution_count": 16,
   "metadata": {},
   "outputs": [],
   "source": [
    "USPSMat  = []\n",
    "USPSTar  = []\n",
    "curPath  = '../USPSdata/Numerals'\n",
    "savedImg = []\n",
    "\n",
    "for j in range(0,10):\n",
    "    curFolderPath = curPath + '/' + str(j)\n",
    "    imgs =  os.listdir(curFolderPath)\n",
    "    for img in imgs:\n",
    "        curImg = curFolderPath + '/' + img\n",
    "        if curImg[-3:] == 'png':\n",
    "            img = Image.open(curImg,'r')\n",
    "            img = img.resize((28, 28))\n",
    "            savedImg = img\n",
    "            imgdata = (255-np.array(img.getdata()))/255\n",
    "            USPSMat.append(imgdata)\n",
    "            USPSTar.append(j)"
   ]
  },
  {
   "cell_type": "code",
   "execution_count": 17,
   "metadata": {},
   "outputs": [],
   "source": [
    "target_USPS = one_hot_vect((1,USPSTar),classes)\n",
    "scaler.fit(USPSMat)\n",
    "processed_USPSDat = scaler.transform(USPSMat)\n"
   ]
  },
  {
   "cell_type": "code",
   "execution_count": 18,
   "metadata": {},
   "outputs": [
    {
     "data": {
      "text/plain": [
       "(0.3336666833341667,      0    1     2    3    4    5    6    7    8    9\n",
       " 0  526   55    81   75   35  143   85  137  233   36\n",
       " 1   20  324    77   77   98   71   18  205   70  138\n",
       " 2  152  224  1125  161   33  193  382   43   64   58\n",
       " 3   66  246   100  888   27  134   77  381  269  413\n",
       " 4  134  321    32   18  949   38   60   59  142  113\n",
       " 5  127  108   144  414   64  870  312  100  337   29\n",
       " 6  195   37   175   42   64  222  780   28  198   19\n",
       " 7  285  185    26   44  179   72   57  343   86  382\n",
       " 8  120  349   176  215  306  209   62  477  432  376\n",
       " 9  375  151    63   66  245   48  167  227  169  436)"
      ]
     },
     "execution_count": 18,
     "metadata": {},
     "output_type": "execute_result"
    }
   ],
   "source": [
    "predict_USPS = softmax(weights,processed_USPSDat)\n",
    "accuracy(predict_USPS,target_USPS)"
   ]
  }
 ],
 "metadata": {
  "kernelspec": {
   "display_name": "Python 3",
   "language": "python",
   "name": "python3"
  },
  "language_info": {
   "codemirror_mode": {
    "name": "ipython",
    "version": 3
   },
   "file_extension": ".py",
   "mimetype": "text/x-python",
   "name": "python",
   "nbconvert_exporter": "python",
   "pygments_lexer": "ipython3",
   "version": "3.6.6"
  }
 },
 "nbformat": 4,
 "nbformat_minor": 2
}
