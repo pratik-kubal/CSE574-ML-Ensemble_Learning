{
 "cells": [
  {
   "cell_type": "code",
   "execution_count": 1,
   "metadata": {},
   "outputs": [],
   "source": [
    "import pickle\n",
    "import gzip\n",
    "import numpy as np\n",
    "import pandas as pd\n",
    "from sklearn.preprocessing import StandardScaler\n",
    "from matplotlib import pyplot as plt\n",
    "from PIL import Image\n",
    "import os\n",
    "import numpy as np\n",
    "np.random.seed(666)"
   ]
  },
  {
   "cell_type": "code",
   "execution_count": 2,
   "metadata": {},
   "outputs": [],
   "source": [
    "filename = '../mnist.pkl.gz'\n",
    "f = gzip.open(filename, 'rb')\n",
    "training_data, validation_data, test_data = pickle.load(f, encoding='latin1')\n",
    "f.close()"
   ]
  },
  {
   "cell_type": "code",
   "execution_count": 3,
   "metadata": {},
   "outputs": [],
   "source": [
    "# Functions\n",
    "def one_hot_vect(tuple_data,classes):\n",
    "    one_hot_encoded=np.zeros((len(tuple_data[1]),len(classes)))\n",
    "    identity = np.identity(len(classes))\n",
    "    for i in range(len(tuple_data[1])):\n",
    "        one_hot_encoded[i] = np.add(one_hot_encoded[i],identity[tuple_data[1][i]])\n",
    "    return one_hot_encoded\n",
    "\n",
    "def softmax(weights,train_data):\n",
    "    bias = np.ones((np.shape(train_data)[0],1))\n",
    "    train_withBias = np.hstack((train_data,bias))\n",
    "    num = np.dot(weights,train_withBias.T)\n",
    "    # High value Fix\n",
    "    # https://houxianxu.github.io/2015/04/23/logistic-softmax-regression/\n",
    "    num = np.subtract(num,np.max(num,axis=0))\n",
    "    num = np.exp(num)\n",
    "    # Fix softmax when using batch size 1 the dimension of deno changes\n",
    "    if(len(train_data) == 1):\n",
    "        deno = np.sum(num,axis=0)\n",
    "    else:\n",
    "        deno = np.sum(num,axis=1)\n",
    "        deno = deno.reshape((10,1))\n",
    "    return np.divide(num,deno)\n",
    "\n",
    "def cross_entropy_error(predicted,target):\n",
    "    right = np.log(predicted)\n",
    "    loss = np.multiply(np.matrix(target),np.transpose(np.matrix(right)))\n",
    "    return -np.sum(np.sum(loss,axis=1),axis=0)\n",
    "\n",
    "def batch_gradient(predicted,train_data,target):\n",
    "    leftleft = np.transpose(predicted)\n",
    "    left = np.subtract(leftleft,target)\n",
    "    bias = np.ones((np.shape(train_data)[0],1))\n",
    "    train_withBias = np.hstack((train_data,bias))\n",
    "    gradient = np.dot(left.T,train_withBias)\n",
    "    gradient = gradient/len(train_data)\n",
    "    return np.matrix(gradient,dtype=\"float64\")\n",
    "\n",
    "def accuracy(predicted,target):\n",
    "    correct = 0\n",
    "    left = np.array(np.argmax(predicted,axis=0)).flatten()\n",
    "    right = np.argmax(target,axis=1)\n",
    "    confusion_mat = np.zeros((len(np.unique(right)),len(np.unique(left))))\n",
    "    for i in range(len(target)):\n",
    "        if(left[i] == right[i]):\n",
    "            correct+=1\n",
    "        confusion_mat[left[i]][right[i]] =confusion_mat[left[i]][right[i]] +1\n",
    "    return correct/len(target),pd.DataFrame(np.matrix(confusion_mat,dtype=\"int32\"))\n",
    "\n",
    "def more_metrics(conf_mat):\n",
    "    true_positives = 0\n",
    "    precision = []\n",
    "    recall = []\n",
    "    for i in range(len(conf_mat)):\n",
    "        true_positives += conf_mat.iloc[i,i]\n",
    "    conf_mat = np.matrix(conf_mat)\n",
    "    tp_fp = np.array(np.sum(conf_mat,axis=1)).ravel()\n",
    "    relevant_elements = np.array(np.sum(conf_mat,axis=0)).ravel()\n",
    "    for i in range(len(conf_mat)):\n",
    "        precision.append(conf_mat[i,i]/tp_fp[i])\n",
    "        recall.append(conf_mat[i,i]/relevant_elements[i])\n",
    "    return true_positives,precision,recall\n",
    "\n",
    "def epoch_shuffle(processed_train_data,target):\n",
    "    # Merge\n",
    "    trainDF = pd.DataFrame(processed_train_data)\n",
    "    targetDF = pd.DataFrame(target)\n",
    "    result = pd.concat([trainDF.reset_index(),targetDF.reset_index()],join='inner',axis=1)\n",
    "    result = result.sample(frac=1)\n",
    "    \n",
    "    return np.asarray(result.iloc[:,1:np.shape(trainDF)[1]+1]),np.asarray(result.iloc[:,np.shape(trainDF)[1]+2:])"
   ]
  },
  {
   "cell_type": "code",
   "execution_count": 4,
   "metadata": {},
   "outputs": [],
   "source": [
    "# Fixed Var\n",
    "classes = np.unique(training_data[1])\n",
    "weights = np.random.randn(len(classes), np.shape(training_data[0])[1]+1) * 0.001\n",
    "train_data = training_data[0]"
   ]
  },
  {
   "cell_type": "code",
   "execution_count": 5,
   "metadata": {},
   "outputs": [],
   "source": [
    "target = one_hot_vect(training_data,classes)\n",
    "target_val = one_hot_vect(validation_data,classes)\n",
    "target_test = one_hot_vect(test_data,classes)\n",
    "scaler = StandardScaler()\n",
    "scaler.fit(train_data)\n",
    "scaler.fit(validation_data[0])\n",
    "scaler.fit(test_data[0])\n",
    "processed_train_data = scaler.transform(train_data)\n",
    "processed_val_data = scaler.transform(validation_data[0])\n",
    "processed_test_data = scaler.transform(test_data[0])\n",
    "predicted = softmax(weights,processed_train_data)"
   ]
  },
  {
   "cell_type": "code",
   "execution_count": 47,
   "metadata": {},
   "outputs": [
    {
     "name": "stdout",
     "output_type": "stream",
     "text": [
      "Percentage Done: 0.01\n",
      "Percentage Done: 0.02\n",
      "Percentage Done: 0.03\n",
      "Percentage Done: 0.04\n",
      "Percentage Done: 0.05\n",
      "Percentage Done: 0.06\n",
      "Percentage Done: 0.07\n",
      "Percentage Done: 0.08\n",
      "Percentage Done: 0.09\n",
      "Percentage Done: 0.1\n",
      "Percentage Done: 0.11\n",
      "Percentage Done: 0.12\n",
      "Percentage Done: 0.13\n",
      "Percentage Done: 0.14\n",
      "Percentage Done: 0.15\n",
      "Percentage Done: 0.16\n",
      "Percentage Done: 0.17\n",
      "Percentage Done: 0.18\n",
      "Percentage Done: 0.19\n",
      "Percentage Done: 0.2\n",
      "Percentage Done: 0.21\n",
      "Percentage Done: 0.22\n",
      "Percentage Done: 0.23\n",
      "Percentage Done: 0.24\n",
      "Percentage Done: 0.25\n",
      "Percentage Done: 0.26\n",
      "Percentage Done: 0.27\n",
      "Percentage Done: 0.28\n",
      "Percentage Done: 0.29\n",
      "Percentage Done: 0.3\n",
      "Percentage Done: 0.31\n",
      "Percentage Done: 0.32\n",
      "Percentage Done: 0.33\n",
      "Percentage Done: 0.34\n",
      "Percentage Done: 0.35\n",
      "Percentage Done: 0.36\n",
      "Percentage Done: 0.37\n",
      "Percentage Done: 0.38\n",
      "Percentage Done: 0.39\n",
      "Percentage Done: 0.4\n",
      "Percentage Done: 0.41\n",
      "Percentage Done: 0.42\n",
      "Percentage Done: 0.43\n",
      "Percentage Done: 0.44\n",
      "Percentage Done: 0.45\n",
      "Percentage Done: 0.46\n",
      "Percentage Done: 0.47\n",
      "Percentage Done: 0.48\n",
      "Percentage Done: 0.49\n",
      "Percentage Done: 0.5\n",
      "Percentage Done: 0.51\n",
      "Percentage Done: 0.52\n",
      "Percentage Done: 0.53\n",
      "Percentage Done: 0.54\n",
      "Percentage Done: 0.55\n",
      "Percentage Done: 0.56\n",
      "Percentage Done: 0.57\n",
      "Percentage Done: 0.58\n",
      "Percentage Done: 0.59\n",
      "Percentage Done: 0.6\n",
      "Percentage Done: 0.61\n",
      "Percentage Done: 0.62\n",
      "Percentage Done: 0.63\n",
      "Percentage Done: 0.64\n",
      "Percentage Done: 0.65\n",
      "Percentage Done: 0.66\n",
      "Percentage Done: 0.67\n",
      "Percentage Done: 0.68\n",
      "Percentage Done: 0.69\n",
      "Percentage Done: 0.7\n",
      "Percentage Done: 0.71\n",
      "Percentage Done: 0.72\n",
      "Percentage Done: 0.73\n",
      "Percentage Done: 0.74\n",
      "Percentage Done: 0.75\n",
      "Percentage Done: 0.76\n",
      "Percentage Done: 0.77\n",
      "Percentage Done: 0.78\n",
      "Percentage Done: 0.79\n",
      "Percentage Done: 0.8\n",
      "Percentage Done: 0.81\n",
      "Percentage Done: 0.82\n",
      "Percentage Done: 0.83\n",
      "Percentage Done: 0.84\n",
      "Percentage Done: 0.85\n",
      "Percentage Done: 0.86\n",
      "Percentage Done: 0.87\n",
      "Percentage Done: 0.88\n",
      "Percentage Done: 0.89\n",
      "Percentage Done: 0.9\n",
      "Percentage Done: 0.91\n",
      "Percentage Done: 0.92\n",
      "Percentage Done: 0.93\n",
      "Percentage Done: 0.94\n",
      "Percentage Done: 0.95\n",
      "Percentage Done: 0.96\n",
      "Percentage Done: 0.97\n",
      "Percentage Done: 0.98\n",
      "Percentage Done: 0.99\n"
     ]
    }
   ],
   "source": [
    "batchSize = 500\n",
    "start = 0\n",
    "end = batchSize\n",
    "batches = len(processed_train_data)/batchSize\n",
    "weights = np.random.randn(len(classes), np.shape(training_data[0])[1]+1) * 0.001\n",
    "predicted = softmax(weights,processed_train_data[start:end,:])\n",
    "cost_initial = np.asscalar(cross_entropy_error(softmax(weights,processed_train_data),target))\n",
    "cost_new = cost_initial*10\n",
    "training_loss =[]\n",
    "val_loss=[]\n",
    "i=1\n",
    "logging=True\n",
    "while(i<batches):\n",
    "        print(\"Percentage Done: \"+str(i/batches))\n",
    "        new_weights = batch_gradient(predicted,processed_train_data[start:end,:],target[start:end,:])\n",
    "        weights = weights - 0.0003*new_weights\n",
    "        if(logging and i%1==0):\n",
    "            # Predict Train & Validation for these weights\n",
    "            predict_val = softmax(weights,processed_val_data)\n",
    "            # Calculate cost of predicting Validation and Training, To see if the hyper param are working\n",
    "            acc,_  = accuracy(predict_val,target_val)\n",
    "            val_loss.append(acc)\n",
    "            predict_train = softmax(weights,processed_train_data)\n",
    "            acc,_  = accuracy(predict_train,target)\n",
    "            training_loss.append(acc)\n",
    "        #print(\"Training Loss: \"+str(cost))\n",
    "        start = start + batchSize\n",
    "        end = end + batchSize\n",
    "        # New Prediction for the data\n",
    "        predicted = softmax(weights,processed_train_data[start:end,:])\n",
    "        if(not logging):\n",
    "            cost = np.asscalar(cross_entropy_error(predicted,target[start:end,:]))\n",
    "            print(\"Cost of Batch: \"+str(cost))\n",
    "        i = i+1"
   ]
  },
  {
   "cell_type": "code",
   "execution_count": 48,
   "metadata": {},
   "outputs": [
    {
     "data": {
      "image/png": "[encoded data removed]",
      "text/plain": [
       "<Figure size 720x1080 with 1 Axes>"
      ]
     },
     "metadata": {
      "needs_background": "light"
     },
     "output_type": "display_data"
    }
   ],
   "source": [
    "df = pd.DataFrame(training_loss)\n",
    "ax = df.plot(figsize=(10,15))\n",
    "ax.ticklabel_format(useOffset=False)\n",
    "plt.savefig('./train_loss.png',bbox_inches='tight')\n",
    "plt.show(ax)"
   ]
  },
  {
   "cell_type": "code",
   "execution_count": 49,
   "metadata": {},
   "outputs": [
    {
     "data": {
      "image/png": "[encoded data removed]",
      "text/plain": [
       "<Figure size 720x1080 with 1 Axes>"
      ]
     },
     "metadata": {
      "needs_background": "light"
     },
     "output_type": "display_data"
    }
   ],
   "source": [
    "df = pd.DataFrame(val_loss)\n",
    "ax = df.plot(figsize=(10,15))\n",
    "ax.ticklabel_format(useOffset=False)\n",
    "plt.savefig('./val_loss.png',bbox_inches='tight')\n",
    "plt.show(ax)"
   ]
  },
  {
   "cell_type": "code",
   "execution_count": 50,
   "metadata": {},
   "outputs": [
    {
     "data": {
      "text/plain": [
       "(0.7504,      0     1    2    3    4    5    6    7    8    9\n",
       " 0  920     0   67   41   47  114   67   22   48   26\n",
       " 1    4  1051   75   85  100  139   44   92  233   67\n",
       " 2    2     4  735   34   13   16   15    4   28    4\n",
       " 3    5     2   16  786    0  127    0    6   67   12\n",
       " 4    1     1    4    1  697   10    1    8    6   96\n",
       " 5    6     0    0    5    1  416    7    0   36    1\n",
       " 6   40     5   56    7   25   32  833    1    8    0\n",
       " 7    3     1   16   25    5   17    0  947   26  159\n",
       " 8    6     0   18   34    1   10    0    0  523    0\n",
       " 9    4     0    3   12   94   34    0   10   34  596)"
      ]
     },
     "execution_count": 50,
     "metadata": {},
     "output_type": "execute_result"
    }
   ],
   "source": [
    "predict_val = softmax(weights,processed_val_data)\n",
    "accuracy(predict_val,target_val)"
   ]
  },
  {
   "cell_type": "code",
   "execution_count": 51,
   "metadata": {},
   "outputs": [
    {
     "data": {
      "text/plain": [
       "(0.7453,      0     1    2    3    4    5    6    7    8    9\n",
       " 0  933     0   81   39   39   87  113    8   74   41\n",
       " 1    2  1127  107   94   95  127   33   95  159   63\n",
       " 2    0     2  718   28   12   11   11   14   15    8\n",
       " 3    7     3   20  766    1  132    1    5   86   13\n",
       " 4    0     0    6    0  704   16    5    4   16  116\n",
       " 5    7     0    0    6    0  424   15    0   33    0\n",
       " 6   27     3   52   11   40   28  780    1   18    3\n",
       " 7    3     0   22   41   13   34    0  883   33  146\n",
       " 8    1     0   26   19    2   11    0    3  502    3\n",
       " 9    0     0    0    6   76   22    0   15   38  616)"
      ]
     },
     "execution_count": 51,
     "metadata": {},
     "output_type": "execute_result"
    }
   ],
   "source": [
    "predict_test = softmax(weights,processed_test_data)\n",
    "accuracy(predict_test,target_test)"
   ]
  },
  {
   "cell_type": "code",
   "execution_count": 18,
   "metadata": {},
   "outputs": [
    {
     "ename": "NameError",
     "evalue": "name 'conf_mat' is not defined",
     "output_type": "error",
     "traceback": [
      "\u001b[0;31m---------------------------------------------------------------------------\u001b[0m",
      "\u001b[0;31mNameError\u001b[0m                                 Traceback (most recent call last)",
      "\u001b[0;32m<ipython-input-18-db842106b2d1>\u001b[0m in \u001b[0;36m<module>\u001b[0;34m()\u001b[0m\n\u001b[0;32m----> 1\u001b[0;31m \u001b[0mtrue_positives\u001b[0m\u001b[0;34m,\u001b[0m\u001b[0mprecision\u001b[0m\u001b[0;34m,\u001b[0m\u001b[0mrecall\u001b[0m \u001b[0;34m=\u001b[0m \u001b[0mmore_metrics\u001b[0m\u001b[0;34m(\u001b[0m\u001b[0mconf_mat\u001b[0m\u001b[0;34m)\u001b[0m\u001b[0;34m\u001b[0m\u001b[0m\n\u001b[0m",
      "\u001b[0;31mNameError\u001b[0m: name 'conf_mat' is not defined"
     ]
    }
   ],
   "source": [
    "true_positives,precision,recall = more_metrics(conf_mat)"
   ]
  },
  {
   "cell_type": "code",
   "execution_count": 33,
   "metadata": {},
   "outputs": [
    {
     "data": {
      "text/plain": [
       "(0.90468,       0     1     2     3     4     5     6     7     8     9\n",
       " 0  4745     1    30    17     9    79    47    21    43    34\n",
       " 1     1  5433    36    36    21    39    12    32   108    24\n",
       " 2    33    40  4409   155    33    38    28    63    77    22\n",
       " 3    12    22   170  4456     3   127     6    21   120    36\n",
       " 4     8    11    55    12  4434    54    24    51    50   195\n",
       " 5    27    23    23   181    10  3889   111    18   187    56\n",
       " 6    41     2    83    10    80    57  4692     2    41     3\n",
       " 7     7    16    66    79    18    24     2  4761    20   250\n",
       " 8    48   125    85    98    65   165    26    19  4105    58\n",
       " 9    10     5    11    57   186    34     3   187    91  4310)"
      ]
     },
     "execution_count": 33,
     "metadata": {},
     "output_type": "execute_result"
    }
   ],
   "source": [
    "predict_test = softmax(weights,processed_train_data)\n",
    "accuracy(predict_test,target)"
   ]
  },
  {
   "cell_type": "markdown",
   "metadata": {
    "collapsed": true
   },
   "source": [
    "# USPS Data Test"
   ]
  },
  {
   "cell_type": "code",
   "execution_count": 39,
   "metadata": {},
   "outputs": [],
   "source": [
    "USPSMat  = []\n",
    "USPSTar  = []\n",
    "curPath  = '../USPSdata/Numerals'\n",
    "savedImg = []\n",
    "\n",
    "for j in range(0,10):\n",
    "    curFolderPath = curPath + '/' + str(j)\n",
    "    imgs =  os.listdir(curFolderPath)\n",
    "    for img in imgs:\n",
    "        curImg = curFolderPath + '/' + img\n",
    "        if curImg[-3:] == 'png':\n",
    "            img = Image.open(curImg,'r')\n",
    "            img = img.resize((28, 28))\n",
    "            savedImg = img\n",
    "            imgdata = (255-np.array(img.getdata()))/255\n",
    "            USPSMat.append(imgdata)\n",
    "            USPSTar.append(j)"
   ]
  },
  {
   "cell_type": "code",
   "execution_count": 40,
   "metadata": {},
   "outputs": [],
   "source": [
    "target_USPS = one_hot_vect((1,USPSTar),classes)\n",
    "scaler.fit(USPSMat)\n",
    "processed_USPSDat = scaler.transform(USPSMat)\n"
   ]
  },
  {
   "cell_type": "code",
   "execution_count": 52,
   "metadata": {},
   "outputs": [
    {
     "data": {
      "text/plain": [
       "(0.24386219310965548,      0    1    2    3    4    5    6     7    8    9\n",
       " 0  805  173  381  428  281  315  776   121  334  137\n",
       " 1   72  972  367   83  398  319   85  1034  329  405\n",
       " 2  162  158  515  177   42  195  232    35   69  120\n",
       " 3   12   66   76  663   17  293   47   199  383  222\n",
       " 4  190  255   45   17  713   14   30    71  104  117\n",
       " 5   17   42   50  167   55  243   55    36  100   23\n",
       " 6  343   86  342  161   92  357  408   117  292   44\n",
       " 7  168  151   82  101  224   97  295   272  128  726\n",
       " 8    9   37  115  101   39   64   23    90  204  124\n",
       " 9  222   60   26  102  139  103   49    25   57   82)"
      ]
     },
     "execution_count": 52,
     "metadata": {},
     "output_type": "execute_result"
    }
   ],
   "source": [
    "predict_USPS = softmax(weights,processed_USPSDat)\n",
    "accuracy(predict_USPS,target_USPS)"
   ]
  },
  {
   "cell_type": "code",
   "execution_count": 37,
   "metadata": {},
   "outputs": [
    {
     "data": {
      "text/plain": [
       "matrix([[5.37503408e-06, 3.69834962e-07, 2.79342750e-06, ...,\n",
       "         1.70547558e-05, 1.76974197e-07, 1.87009545e-04],\n",
       "        [3.37966925e-06, 1.07965933e-07, 3.25091099e-07, ...,\n",
       "         9.24967841e-05, 3.95829284e-07, 7.08793064e-06],\n",
       "        [7.26833205e-06, 5.04313666e-07, 1.78261529e-06, ...,\n",
       "         8.34814537e-05, 4.30276090e-07, 7.55579221e-06],\n",
       "        ...,\n",
       "        [2.62365956e-05, 2.03227730e-06, 2.22502579e-06, ...,\n",
       "         2.48036457e-04, 1.45435313e-04, 1.30467584e-04],\n",
       "        [3.92569968e-06, 1.89821420e-06, 8.30071770e-07, ...,\n",
       "         2.59259738e-04, 1.39723249e-07, 2.70461446e-05],\n",
       "        [7.28843744e-06, 3.17793972e-07, 5.65148371e-07, ...,\n",
       "         1.14518824e-05, 3.49620059e-06, 5.05272703e-06]])"
      ]
     },
     "execution_count": 37,
     "metadata": {},
     "output_type": "execute_result"
    }
   ],
   "source": [
    "predict_USPS"
   ]
  },
  {
   "cell_type": "code",
   "execution_count": null,
   "metadata": {},
   "outputs": [],
   "source": []
  }
 ],
 "metadata": {
  "kernelspec": {
   "display_name": "Python 3",
   "language": "python",
   "name": "python3"
  },
  "language_info": {
   "codemirror_mode": {
    "name": "ipython",
    "version": 3
   },
   "file_extension": ".py",
   "mimetype": "text/x-python",
   "name": "python",
   "nbconvert_exporter": "python",
   "pygments_lexer": "ipython3",
   "version": "3.7.0"
  }
 },
 "nbformat": 4,
 "nbformat_minor": 2
}
