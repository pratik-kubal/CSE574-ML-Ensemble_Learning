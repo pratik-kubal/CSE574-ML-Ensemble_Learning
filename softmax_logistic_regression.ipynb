{
 "cells": [
  {
   "cell_type": "code",
   "execution_count": 1,
   "metadata": {},
   "outputs": [],
   "source": [
    "import pickle\n",
    "import gzip\n",
    "import numpy as np\n",
    "import pandas as pd\n",
    "from sklearn.preprocessing import StandardScaler\n",
    "from matplotlib import pyplot as plt\n",
    "from PIL import Image\n",
    "import os\n",
    "import numpy as np\n",
    "np.random.seed(666)"
   ]
  },
  {
   "cell_type": "code",
   "execution_count": 2,
   "metadata": {},
   "outputs": [],
   "source": [
    "filename = '../mnist.pkl.gz'\n",
    "f = gzip.open(filename, 'rb')\n",
    "training_data, validation_data, test_data = pickle.load(f, encoding='latin1')\n",
    "f.close()"
   ]
  },
  {
   "cell_type": "code",
   "execution_count": 3,
   "metadata": {},
   "outputs": [],
   "source": [
    "# Functions\n",
    "def one_hot_vect(tuple_data,classes):\n",
    "    one_hot_encoded=np.zeros((len(tuple_data[1]),len(classes)))\n",
    "    identity = np.identity(len(classes))\n",
    "    for i in range(len(tuple_data[1])):\n",
    "        one_hot_encoded[i] = np.add(one_hot_encoded[i],identity[tuple_data[1][i]])\n",
    "    return one_hot_encoded\n",
    "\n",
    "def softmax(weights,train_data):\n",
    "    bias = np.ones((np.shape(train_data)[0],1))\n",
    "    train_withBias = np.hstack((train_data,bias))\n",
    "    num = np.dot(weights,train_withBias.T)\n",
    "    # High value Fix\n",
    "    # https://houxianxu.github.io/2015/04/23/logistic-softmax-regression/\n",
    "    num = np.subtract(num,np.max(num,axis=0))\n",
    "    num = np.exp(num)\n",
    "    # Fix softmax when using batch size 1 the dimension of deno changes\n",
    "    if(len(train_data) == 1):\n",
    "        deno = np.sum(num,axis=0)\n",
    "    else:\n",
    "        deno = np.sum(num,axis=1)\n",
    "        deno = deno.reshape((10,1))\n",
    "    return np.divide(num,deno)\n",
    "\n",
    "def cross_entropy_error(predicted,target):\n",
    "    right = np.log(predicted+ 1/10**30)\n",
    "    loss = np.multiply(np.matrix(target),np.transpose(np.matrix(right)))\n",
    "    return -np.sum(np.sum(loss,axis=1),axis=0)\n",
    "\n",
    "def batch_gradient(predicted,train_data,target):\n",
    "    leftleft = np.transpose(predicted)\n",
    "    left = np.subtract(leftleft,target)\n",
    "    bias = np.ones((np.shape(train_data)[0],1))\n",
    "    train_withBias = np.hstack((train_data,bias))\n",
    "    gradient = np.dot(left.T,train_withBias)\n",
    "    gradient = gradient/len(train_data)\n",
    "    return np.matrix(gradient,dtype=\"float64\")\n",
    "\n",
    "def accuracy(predicted,target):\n",
    "    correct = 0\n",
    "    left = np.array(np.argmax(predicted,axis=0)).flatten()\n",
    "    right = np.argmax(target,axis=1)\n",
    "    confusion_mat = np.zeros((len(np.unique(right)),len(np.unique(left))))\n",
    "    for i in range(len(target)):\n",
    "        if(left[i] == right[i]):\n",
    "            correct+=1\n",
    "        confusion_mat[left[i]][right[i]] =confusion_mat[left[i]][right[i]] +1\n",
    "    return correct/len(target),pd.DataFrame(np.matrix(confusion_mat,dtype=\"int32\"))\n",
    "\n",
    "def more_metrics(conf_mat):\n",
    "    true_positives = 0\n",
    "    precision = []\n",
    "    recall = []\n",
    "    for i in range(len(conf_mat)):\n",
    "        true_positives += conf_mat.iloc[i,i]\n",
    "    conf_mat = np.matrix(conf_mat)\n",
    "    tp_fp = np.array(np.sum(conf_mat,axis=1)).ravel()\n",
    "    relevant_elements = np.array(np.sum(conf_mat,axis=0)).ravel()\n",
    "    for i in range(len(conf_mat)):\n",
    "        precision.append(conf_mat[i,i]/tp_fp[i])\n",
    "        recall.append(conf_mat[i,i]/relevant_elements[i])\n",
    "    return true_positives,precision,recall\n",
    "\n",
    "def epoch_shuffle(processed_train_data,target):\n",
    "    # Merge\n",
    "    trainDF = pd.DataFrame(processed_train_data)\n",
    "    targetDF = pd.DataFrame(target)\n",
    "    result = pd.concat([trainDF.reset_index(),targetDF.reset_index()],join='inner',axis=1)\n",
    "    result = result.sample(frac=1)\n",
    "    \n",
    "    return np.asarray(result.iloc[:,1:np.shape(trainDF)[1]+1]),np.asarray(result.iloc[:,np.shape(trainDF)[1]+2:])"
   ]
  },
  {
   "cell_type": "code",
   "execution_count": 4,
   "metadata": {},
   "outputs": [],
   "source": [
    "# Fixed Var\n",
    "classes = np.unique(training_data[1])\n",
    "weights = np.random.randn(len(classes), np.shape(training_data[0])[1]+1) * 0.001\n",
    "train_data = training_data[0]"
   ]
  },
  {
   "cell_type": "code",
   "execution_count": 5,
   "metadata": {},
   "outputs": [],
   "source": [
    "target = one_hot_vect(training_data,classes)\n",
    "target_val = one_hot_vect(validation_data,classes)\n",
    "target_test = one_hot_vect(test_data,classes)\n",
    "scaler = StandardScaler()\n",
    "scaler.fit(train_data)\n",
    "processed_train_data = scaler.transform(train_data)\n",
    "scaler.fit(validation_data[0])\n",
    "processed_val_data = scaler.transform(validation_data[0])\n",
    "scaler.fit(test_data[0])\n",
    "processed_test_data = scaler.transform(test_data[0])"
   ]
  },
  {
   "cell_type": "code",
   "execution_count": 9,
   "metadata": {},
   "outputs": [
    {
     "name": "stdout",
     "output_type": "stream",
     "text": [
      "Cost after Epoch: 444385.19880386314\n",
      "Val Acc: 0.9154\n",
      "Train Acc: 0.90866\n",
      "Cost after Epoch: 442525.8262796829\n",
      "Val Acc: 0.9205\n",
      "Train Acc: 0.9169\n",
      "Cost after Epoch: 441727.7940376019\n",
      "Val Acc: 0.9232\n",
      "Train Acc: 0.91998\n",
      "Cost after Epoch: 441202.9493963989\n",
      "Val Acc: 0.9241\n",
      "Train Acc: 0.92228\n",
      "Cost after Epoch: 440860.60391310754\n",
      "Val Acc: 0.9251\n",
      "Train Acc: 0.92464\n",
      "Cost after Epoch: 440632.9338020989\n",
      "Val Acc: 0.9255\n",
      "Train Acc: 0.9252\n",
      "Cost after Epoch: 440346.9963194856\n",
      "Val Acc: 0.9266\n",
      "Train Acc: 0.92676\n",
      "Cost after Epoch: 440211.79270796926\n",
      "Val Acc: 0.9266\n",
      "Train Acc: 0.92786\n",
      "Cost after Epoch: 440048.27950384043\n",
      "Val Acc: 0.9265\n",
      "Train Acc: 0.92886\n",
      "Cost after Epoch: 439931.09701448807\n",
      "Val Acc: 0.9264\n",
      "Train Acc: 0.92906\n",
      "Cost after Epoch: 439823.12912905205\n",
      "Val Acc: 0.9265\n",
      "Train Acc: 0.92996\n",
      "Cost after Epoch: 439715.87774746254\n",
      "Val Acc: 0.9275\n",
      "Train Acc: 0.93088\n",
      "Cost after Epoch: 439604.4995487535\n",
      "Val Acc: 0.9268\n",
      "Train Acc: 0.93098\n",
      "Cost after Epoch: 439492.6712532519\n",
      "Val Acc: 0.9284\n",
      "Train Acc: 0.93126\n",
      "Cost after Epoch: 439475.74181155796\n",
      "Val Acc: 0.9278\n",
      "Train Acc: 0.93196\n",
      "Cost after Epoch: 439421.83766300534\n",
      "Val Acc: 0.927\n",
      "Train Acc: 0.93202\n",
      "Cost after Epoch: 439307.3986032221\n",
      "Val Acc: 0.9286\n",
      "Train Acc: 0.93248\n",
      "Cost after Epoch: 439267.47738796985\n",
      "Val Acc: 0.9279\n",
      "Train Acc: 0.9327\n",
      "Cost after Epoch: 439190.26478365174\n",
      "Val Acc: 0.929\n",
      "Train Acc: 0.93316\n",
      "Cost after Epoch: 439124.3186632561\n",
      "Val Acc: 0.9286\n",
      "Train Acc: 0.93338\n",
      "Cost after Epoch: 439090.322165527\n",
      "Val Acc: 0.9281\n",
      "Train Acc: 0.9335\n",
      "Cost after Epoch: 439046.1186608993\n",
      "Val Acc: 0.9302\n",
      "Train Acc: 0.93426\n"
     ]
    }
   ],
   "source": [
    "i = 0\n",
    "batchSize = 1\n",
    "start = 0\n",
    "end = batchSize\n",
    "batches = len(processed_train_data)/batchSize\n",
    "weights = np.random.randn(len(classes), np.shape(training_data[0])[1]+1) * 0.001\n",
    "predicted = softmax(weights,processed_train_data[start:end,:])\n",
    "cost_initial = np.asscalar(cross_entropy_error(softmax(weights,processed_train_data),target))\n",
    "cost_new = cost_initial*0.1\n",
    "train_acc = 0\n",
    "log_training_loss =[]\n",
    "log_val_loss=[]\n",
    "log_training_acc =[]\n",
    "log_val_acc=[]\n",
    "logging=True\n",
    "while(cost_initial-cost_new > 10):\n",
    "    i = 0\n",
    "    start = 0\n",
    "    end = batchSize\n",
    "    while(i<batches-1):\n",
    "        #print(\"Percentage Done: \"+str(i/batches))\n",
    "        new_weights = batch_gradient(predicted,processed_train_data[start:end,:],target[start:end,:])\n",
    "        weights = weights - 0.0003*new_weights\n",
    "        if(logging and i%2500==0):\n",
    "            # Predict Train & Validation for these weights\n",
    "            predict_val = softmax(weights,processed_val_data)\n",
    "            # Calculate cost of predicting Validation and Training, To see if the hyper param are working\n",
    "            acc,_  = accuracy(predict_val,target_val)\n",
    "            log_val_acc.append(acc)\n",
    "            log_val_loss.append(np.asscalar(cross_entropy_error(predict_val,target_val)))\n",
    "            predict_train = softmax(weights,processed_train_data)\n",
    "            acc,_  = accuracy(predict_train,target)\n",
    "            log_training_acc.append(acc)\n",
    "            log_training_loss.append(np.asscalar(cross_entropy_error(predict_train,target)))\n",
    "        #print(\"Training Loss: \"+str(cost))\n",
    "        start = start + batchSize\n",
    "        end = end + batchSize\n",
    "        # New Prediction for the data\n",
    "        predicted = softmax(weights,processed_train_data[start:end,:])\n",
    "        i = i+1\n",
    "    cost_initital = cost_new\n",
    "    pred_train = softmax(weights,processed_train_data)\n",
    "    cost_new = np.asscalar(cross_entropy_error(pred_train,target))\n",
    "    predict_val = softmax(weights,processed_val_data)\n",
    "    val_acc,_ = accuracy(predict_val,target_val)\n",
    "    train_acc_old = train_acc\n",
    "    train_acc,_ = accuracy(pred_train,target)\n",
    "    if(float(train_acc) - float(train_acc_old) < 0.000001 ):\n",
    "        # Early stopping where just cost is changing but accuracy is stuck\n",
    "        break\n",
    "    print(\"Cost after Epoch: \"+str(cost_new))\n",
    "    print(\"Val Acc: \"+str(val_acc))\n",
    "    print(\"Train Acc: \"+str(train_acc))\n",
    "    processed_train_data,target = epoch_shuffle(processed_train_data,target)"
   ]
  },
  {
   "cell_type": "code",
   "execution_count": 11,
   "metadata": {},
   "outputs": [
    {
     "data": {
      "image/png": "[encoded data removed]",
      "text/plain": [
       "<Figure size 720x1080 with 1 Axes>"
      ]
     },
     "metadata": {
      "needs_background": "light"
     },
     "output_type": "display_data"
    }
   ],
   "source": [
    "df = pd.DataFrame(log_training_loss)\n",
    "ax = df.plot(figsize=(10,15))\n",
    "ax.ticklabel_format(useOffset=False)\n",
    "plt.savefig('./train_loss.png',bbox_inches='tight')\n",
    "plt.show(ax)"
   ]
  },
  {
   "cell_type": "code",
   "execution_count": 13,
   "metadata": {},
   "outputs": [
    {
     "data": {
      "image/png": "[encoded data removed]",
      "text/plain": [
       "<Figure size 720x1080 with 1 Axes>"
      ]
     },
     "metadata": {
      "needs_background": "light"
     },
     "output_type": "display_data"
    }
   ],
   "source": [
    "df = pd.DataFrame(log_val_loss)\n",
    "ax = df.plot(figsize=(10,15))\n",
    "ax.ticklabel_format(useOffset=False)\n",
    "plt.savefig('./val_loss.png',bbox_inches='tight')\n",
    "plt.show(ax)"
   ]
  },
  {
   "cell_type": "code",
   "execution_count": 14,
   "metadata": {},
   "outputs": [
    {
     "data": {
      "text/plain": [
       "(0.9281,      0     1    2    3    4    5    6     7    8    9\n",
       " 0  962     0    3    5    1    9    3     3    3    4\n",
       " 1    0  1043   12    4   10    3    5     5   29    5\n",
       " 2    6     4  903   14    3   12    7     5    7    2\n",
       " 3    1     2   11  918    2   32    0     6   16    8\n",
       " 4    3     1   12    1  928    7    6     6    2   23\n",
       " 5    5     5    5   43    0  792    6     0   27    7\n",
       " 6    7     0    6    4    6   30  937     0    6    1\n",
       " 7    4     1   15    6    5    6    1  1034    9   32\n",
       " 8    3     7   20   25    2   20    2     1  890    5\n",
       " 9    0     1    3   10   26    4    0    30   20  874)"
      ]
     },
     "execution_count": 14,
     "metadata": {},
     "output_type": "execute_result"
    }
   ],
   "source": [
    "predict_val = softmax(weights,processed_val_data)\n",
    "accuracy(predict_val,target_val)"
   ]
  },
  {
   "cell_type": "code",
   "execution_count": 15,
   "metadata": {},
   "outputs": [
    {
     "data": {
      "text/plain": [
       "(0.9246,      0     1    2    3    4    5    6    7    8    9\n",
       " 0  955     0    7    3    2    8   11    2    5   10\n",
       " 1    0  1106    8    1    4    3    4    9   10    7\n",
       " 2    1     4  936   20    8    2    8   21    8    1\n",
       " 3    1     2   12  914    1   34    1    7   17   10\n",
       " 4    3     1    9    1  915    7    7    6   10   26\n",
       " 5    7     1    4   27    1  781   12    1   31    6\n",
       " 6    7     4   12    3    8   18  911    0   11    0\n",
       " 7    4     2   12   12    5    7    2  953   14   24\n",
       " 8    2    15   31   21    7   27    2    2  857    7\n",
       " 9    0     0    1    8   31    5    0   27   11  918)"
      ]
     },
     "execution_count": 15,
     "metadata": {},
     "output_type": "execute_result"
    }
   ],
   "source": [
    "predict_test = softmax(weights,processed_test_data)\n",
    "accuracy(predict_test,target_test)"
   ]
  },
  {
   "cell_type": "code",
   "execution_count": 133,
   "metadata": {},
   "outputs": [
    {
     "ename": "NameError",
     "evalue": "name 'conf_mat' is not defined",
     "output_type": "error",
     "traceback": [
      "\u001b[0;31m---------------------------------------------------------------------------\u001b[0m",
      "\u001b[0;31mNameError\u001b[0m                                 Traceback (most recent call last)",
      "\u001b[0;32m<ipython-input-133-db842106b2d1>\u001b[0m in \u001b[0;36m<module>\u001b[0;34m\u001b[0m\n\u001b[0;32m----> 1\u001b[0;31m \u001b[0mtrue_positives\u001b[0m\u001b[0;34m,\u001b[0m\u001b[0mprecision\u001b[0m\u001b[0;34m,\u001b[0m\u001b[0mrecall\u001b[0m \u001b[0;34m=\u001b[0m \u001b[0mmore_metrics\u001b[0m\u001b[0;34m(\u001b[0m\u001b[0mconf_mat\u001b[0m\u001b[0;34m)\u001b[0m\u001b[0;34m\u001b[0m\u001b[0m\n\u001b[0m",
      "\u001b[0;31mNameError\u001b[0m: name 'conf_mat' is not defined"
     ]
    }
   ],
   "source": [
    "true_positives,precision,recall = more_metrics(conf_mat)"
   ]
  },
  {
   "cell_type": "markdown",
   "metadata": {
    "collapsed": true
   },
   "source": [
    "# USPS Data Test"
   ]
  },
  {
   "cell_type": "code",
   "execution_count": 16,
   "metadata": {},
   "outputs": [],
   "source": [
    "USPSMat  = []\n",
    "USPSTar  = []\n",
    "curPath  = '../USPSdata/Numerals'\n",
    "savedImg = []\n",
    "\n",
    "for j in range(0,10):\n",
    "    curFolderPath = curPath + '/' + str(j)\n",
    "    imgs =  os.listdir(curFolderPath)\n",
    "    for img in imgs:\n",
    "        curImg = curFolderPath + '/' + img\n",
    "        if curImg[-3:] == 'png':\n",
    "            img = Image.open(curImg,'r')\n",
    "            img = img.resize((28, 28))\n",
    "            savedImg = img\n",
    "            imgdata = (255-np.array(img.getdata()))/255\n",
    "            USPSMat.append(imgdata)\n",
    "            USPSTar.append(j)"
   ]
  },
  {
   "cell_type": "code",
   "execution_count": 17,
   "metadata": {},
   "outputs": [],
   "source": [
    "target_USPS = one_hot_vect((1,USPSTar),classes)\n",
    "scaler.fit(USPSMat)\n",
    "processed_USPSDat = scaler.transform(USPSMat)\n"
   ]
  },
  {
   "cell_type": "code",
   "execution_count": 18,
   "metadata": {},
   "outputs": [
    {
     "data": {
      "text/plain": [
       "(0.3336666833341667,      0    1     2    3    4    5    6    7    8    9\n",
       " 0  526   55    81   75   35  143   85  137  233   36\n",
       " 1   20  324    77   77   98   71   18  205   70  138\n",
       " 2  152  224  1125  161   33  193  382   43   64   58\n",
       " 3   66  246   100  888   27  134   77  381  269  413\n",
       " 4  134  321    32   18  949   38   60   59  142  113\n",
       " 5  127  108   144  414   64  870  312  100  337   29\n",
       " 6  195   37   175   42   64  222  780   28  198   19\n",
       " 7  285  185    26   44  179   72   57  343   86  382\n",
       " 8  120  349   176  215  306  209   62  477  432  376\n",
       " 9  375  151    63   66  245   48  167  227  169  436)"
      ]
     },
     "execution_count": 18,
     "metadata": {},
     "output_type": "execute_result"
    }
   ],
   "source": [
    "predict_USPS = softmax(weights,processed_USPSDat)\n",
    "accuracy(predict_USPS,target_USPS)"
   ]
  }
 ],
 "metadata": {
  "kernelspec": {
   "display_name": "Python 3",
   "language": "python",
   "name": "python3"
  },
  "language_info": {
   "codemirror_mode": {
    "name": "ipython",
    "version": 3
   },
   "file_extension": ".py",
   "mimetype": "text/x-python",
   "name": "python",
   "nbconvert_exporter": "python",
   "pygments_lexer": "ipython3",
   "version": "3.6.6"
  }
 },
 "nbformat": 4,
 "nbformat_minor": 2
}
